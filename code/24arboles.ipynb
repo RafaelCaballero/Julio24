{
  "cells": [
    {
      "cell_type": "markdown",
      "metadata": {
        "id": "view-in-github",
        "colab_type": "text"
      },
      "source": [
        "<a href=\"https://colab.research.google.com/github/RafaelCaballero/Julio24/blob/main/code/24arboles.ipynb\" target=\"_parent\"><img src=\"https://colab.research.google.com/assets/colab-badge.svg\" alt=\"Open In Colab\"/></a>"
      ]
    },
    {
      "cell_type": "markdown",
      "id": "8a92b55a",
      "metadata": {
        "id": "8a92b55a"
      },
      "source": [
        "# Introducción a la ciencia de datos con Python\n",
        "Rafa Caballero\n",
        "\n",
        "### Ejemplo de Árboles de decisión"
      ]
    },
    {
      "cell_type": "markdown",
      "id": "efd0e595",
      "metadata": {
        "id": "efd0e595"
      },
      "source": [
        "#### Carga y preprocesado\n",
        "\n",
        "Vamos a intentar predecir en el caso del conjunto del titanic quién sobrevivió y quien no a partir de sus características"
      ]
    },
    {
      "cell_type": "code",
      "execution_count": null,
      "id": "16b47834",
      "metadata": {
        "id": "16b47834"
      },
      "outputs": [],
      "source": [
        "#!pip install seaborn"
      ]
    },
    {
      "cell_type": "code",
      "execution_count": null,
      "id": "c1df15ef",
      "metadata": {
        "id": "c1df15ef"
      },
      "outputs": [],
      "source": [
        "import matplotlib.pyplot as plt\n",
        "from sklearn.metrics import classification_report\n",
        "from sklearn.metrics import make_scorer,f1_score, accuracy_score, recall_score,cohen_kappa_score\n",
        "from sklearn.metrics import confusion_matrix, ConfusionMatrixDisplay\n",
        "import seaborn as sns\n",
        "import numpy as np\n",
        "\n",
        "\n",
        "def evaluar(y_test,y_pred):\n",
        "  k =  cohen_kappa_score(y_test,y_pred)\n",
        "  print(\"kappa \",k)\n",
        "  cm = confusion_matrix(y_test, y_pred, labels=modelo.classes_)\n",
        "  disp = ConfusionMatrixDisplay(confusion_matrix=cm,\n",
        "                                display_labels=modelo.classes_)\n",
        "  disp.plot()\n",
        "\n",
        "  plt.show()\n",
        "\n",
        "  print(classification_report(y_test, y_pred))\n",
        "  return k,cm\n",
        "\n",
        "url = \"https://raw.githubusercontent.com/RafaelCaballero/tdm/master/datos/titanicyesno.csv\"\n",
        "import pandas as pd\n",
        "df = pd.read_csv(url)\n",
        "columnas = [\"survived\", \"pclass\", \"sex\", \"age\", \"sibsp\", \"parch\", \"fare\",\"embarked\"]\n",
        "df2 = df[columnas]\n",
        "df2 = df2.dropna()\n",
        "df2[\"survived\"] = df2.survived.replace(('yes', 'no'), (1, 0))\n",
        "df2[\"sex\"] = df2.sex.replace(('female', 'male'), (1, 0))\n",
        "df2 = pd.get_dummies(df2, columns=[\"embarked\"])\n",
        "\n",
        "\n",
        "df2"
      ]
    },
    {
      "cell_type": "markdown",
      "id": "fa6b813e",
      "metadata": {
        "id": "fa6b813e"
      },
      "source": [
        " Ahora estamos listos para aplicar machine learning. De los 4 pasos que describimos\n",
        "\n",
        "1 Obtener las columnas\n",
        "\n",
        "2 Dividir entre train y test\n",
        "\n",
        "3 Aplicar el método\n",
        "\n",
        "4 Evaluar\n",
        "\n"
      ]
    },
    {
      "cell_type": "code",
      "execution_count": null,
      "id": "c8b2f56d",
      "metadata": {
        "id": "c8b2f56d"
      },
      "outputs": [],
      "source": [
        "from sklearn.tree import DecisionTreeClassifier, plot_tree\n",
        "\n",
        "# 1\n",
        "yColumn = \"survived\"\n",
        "XColumns = [c for c in df2.columns if c!=yColumn]\n",
        "\n",
        "X = df2[XColumns]\n",
        "y = df2[yColumn]\n",
        "\n",
        "# 2\n",
        "from sklearn.model_selection import train_test_split\n",
        "test = 0.4\n",
        "X_train, X_test, y_train, y_test = train_test_split(X, y, test_size= test)\n",
        "\n",
        "# 3\n",
        "metodo = DecisionTreeClassifier(min_samples_split=3,min_samples_leaf=4,max_depth=3) # es muy poco pero es para dibujarlo después\n",
        "modelo = metodo.fit(X_train,y_train)\n",
        "\n",
        "# 4\n",
        "y_pred = modelo.predict(X_test)\n",
        "evaluar(y_test,y_pred)"
      ]
    },
    {
      "cell_type": "code",
      "execution_count": null,
      "id": "24404fed",
      "metadata": {
        "id": "24404fed"
      },
      "outputs": [],
      "source": [
        "fig = plt.figure(figsize=(25,20),dpi=200)\n",
        "plot_tree(metodo,filled=True,feature_names=XColumns, class_names=[\"no\",\"yes\"],fontsize=14)\n",
        "plt.show()\n",
        "fig.savefig(\"arbol.png\")"
      ]
    },
    {
      "cell_type": "code",
      "execution_count": null,
      "id": "2655b570",
      "metadata": {
        "id": "2655b570"
      },
      "outputs": [],
      "source": []
    },
    {
      "cell_type": "code",
      "execution_count": null,
      "id": "ecad3be4",
      "metadata": {
        "id": "ecad3be4"
      },
      "outputs": [],
      "source": []
    },
    {
      "cell_type": "code",
      "execution_count": null,
      "id": "852b230d",
      "metadata": {
        "id": "852b230d"
      },
      "outputs": [],
      "source": []
    }
  ],
  "metadata": {
    "kernelspec": {
      "display_name": "Python 3 (ipykernel)",
      "language": "python",
      "name": "python3"
    },
    "language_info": {
      "codemirror_mode": {
        "name": "ipython",
        "version": 3
      },
      "file_extension": ".py",
      "mimetype": "text/x-python",
      "name": "python",
      "nbconvert_exporter": "python",
      "pygments_lexer": "ipython3",
      "version": "3.9.12"
    },
    "colab": {
      "provenance": [],
      "include_colab_link": true
    }
  },
  "nbformat": 4,
  "nbformat_minor": 5
}