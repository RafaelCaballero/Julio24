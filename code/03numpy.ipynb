{
  "cells": [
    {
      "cell_type": "markdown",
      "metadata": {
        "id": "view-in-github",
        "colab_type": "text"
      },
      "source": [
        "<a href=\"https://colab.research.google.com/github/RafaelCaballero/Julio24/blob/main/code/03numpy.ipynb\" target=\"_parent\"><img src=\"https://colab.research.google.com/assets/colab-badge.svg\" alt=\"Open In Colab\"/></a>"
      ]
    },
    {
      "cell_type": "markdown",
      "metadata": {
        "id": "-RcY2hTGzSYG"
      },
      "source": [
        "# Introducción a la ciencia de datos con Python\n",
        "###  Rafa Caballero\n",
        "\n",
        "<img src=\"https://numpy.org/doc/stable/_static/numpylogo.svg\"/>"
      ]
    },
    {
      "cell_type": "markdown",
      "source": [
        "### Introducción\n",
        "Numpy representa vectores y matrices de forma más eficiente; va a ser el soporte de los dataframes en Pandas."
      ],
      "metadata": {
        "id": "coc_yN6yBIOl"
      }
    },
    {
      "cell_type": "code",
      "source": [
        "una_lista = [10,20,30,70]  # en Python\n",
        "\n",
        "import numpy as np\n",
        "una_lista_np = np.array(una_lista)\n",
        "\n",
        "print(una_lista)\n",
        "print(una_lista_np)"
      ],
      "metadata": {
        "id": "f5tKHJhx_LjC"
      },
      "execution_count": null,
      "outputs": []
    },
    {
      "cell_type": "markdown",
      "source": [
        "Parece la misma información ¿hay alguna razón para usar numpy?\n",
        "\n",
        "\n",
        "\n",
        "1.   La velocidad\n",
        "2.   La comodidad: más funciones, vectorización, broadcasting, índices booleanos\n",
        "\n"
      ],
      "metadata": {
        "id": "dH7bvEPQ_JYC"
      }
    },
    {
      "cell_type": "markdown",
      "metadata": {
        "id": "abt__msFzSYO"
      },
      "source": [
        "### La velocidad: una razón para usar numpy\n",
        "\n",
        "\n",
        "Veamos distintas formas de encontrar el máximo de un vector.\n",
        "\n",
        "Primero generamos el vector"
      ]
    },
    {
      "cell_type": "code",
      "execution_count": null,
      "metadata": {
        "id": "eiSru7gIzSYP"
      },
      "outputs": [],
      "source": [
        "%%time\n",
        "import random\n",
        "cuantos = 10000000\n",
        "l = [random.randint(1,100) for n in range(cuantos)]"
      ]
    },
    {
      "cell_type": "markdown",
      "source": [
        "Ahora buscamos el máximo de 2 formas en Python, con un bucle y con la función max"
      ],
      "metadata": {
        "id": "2ka0SaBMAIx3"
      }
    },
    {
      "cell_type": "code",
      "execution_count": null,
      "metadata": {
        "id": "OchvuM_JzSYS"
      },
      "outputs": [],
      "source": [
        "%%time\n",
        "maximo = 0\n",
        "for x in l:\n",
        "    if x>maximo:\n",
        "        maximo=x\n",
        "print(maximo)\n",
        "\n"
      ]
    },
    {
      "cell_type": "code",
      "execution_count": null,
      "metadata": {
        "id": "VE9abjpazSYS"
      },
      "outputs": [],
      "source": [
        "%%time\n",
        "max(l)"
      ]
    },
    {
      "cell_type": "markdown",
      "metadata": {
        "id": "ZHfrb-nFzSYT"
      },
      "source": [
        "Ahora con numpy"
      ]
    },
    {
      "cell_type": "code",
      "execution_count": null,
      "metadata": {
        "id": "WilduYp3zSYT"
      },
      "outputs": [],
      "source": [
        "%%time\n",
        "import numpy as np\n",
        "l =  np.random.randint(1, 100, cuantos)"
      ]
    },
    {
      "cell_type": "code",
      "execution_count": null,
      "metadata": {
        "id": "NvqsgBtqzSYU"
      },
      "outputs": [],
      "source": [
        "%%time\n",
        "import numpy as np\n",
        "l.max()"
      ]
    },
    {
      "cell_type": "markdown",
      "metadata": {
        "id": "qoPux5J4zSYV"
      },
      "source": [
        "### Creación de ndarrays\n",
        "\n",
        "A los arrays en numpy se les llama ndarrays (de n-dimensional arrays)\n",
        "\n",
        "#### Creación desde arrays Python"
      ]
    },
    {
      "cell_type": "code",
      "execution_count": null,
      "metadata": {
        "id": "sI1MWG-hzSYV"
      },
      "outputs": [],
      "source": [
        "import numpy as np\n",
        "v = [10,20,30,40]\n",
        "a1  = np.array(v)\n",
        "\n",
        "print(a1, a1.shape, a1.dtype)"
      ]
    },
    {
      "cell_type": "code",
      "execution_count": null,
      "metadata": {
        "id": "OpHNwJmjzSYW"
      },
      "outputs": [],
      "source": [
        "v = [10,20,30,40,\"hola\"]\n",
        "a1  = np.array(v)\n",
        "\n",
        "print(a1, a1.shape, a1.dtype)"
      ]
    },
    {
      "cell_type": "markdown",
      "metadata": {
        "id": "eVI5p9ijzSYW"
      },
      "source": [
        "En https://numpy.org/doc/stable/reference/arrays.dtypes.html hay algunas explicaciones sobre los tipos de datos de numpy"
      ]
    },
    {
      "cell_type": "code",
      "execution_count": null,
      "metadata": {
        "id": "v6uUApCIzSYX"
      },
      "outputs": [],
      "source": [
        "d = [[1, 2, 3, 4], [5, 6, 7, 8.2]]\n",
        "\n",
        "a2 = np.array(d)\n",
        "print(a2, a2.shape, a2.dtype)"
      ]
    },
    {
      "cell_type": "markdown",
      "metadata": {
        "id": "-TZiOoCCzSYX"
      },
      "source": [
        "Es importante notar que *array* crea una copia, esto es, reserva memoria nueva para el resultado.\n",
        "La variante *asarray* no crea una copia si el parámetro ya es un *ndarray*"
      ]
    },
    {
      "cell_type": "code",
      "execution_count": null,
      "metadata": {
        "id": "C-xQBnFWzSYY"
      },
      "outputs": [],
      "source": [
        "#                             *\n",
        "d = [[1, 2, 3, 4], [5, 6, 7, 8.2]]\n",
        "\n",
        "a2 = np.array(d)\n",
        "a3 = np.array(a2)\n",
        "a4 = np.asarray(a2)\n",
        "\n",
        "print(a2)\n",
        "a3[0,1] = 0\n",
        "print(a2)\n",
        "a4[1,3] = 0\n",
        "print(a2)"
      ]
    },
    {
      "cell_type": "markdown",
      "metadata": {
        "id": "zR7Qch4ezSYY"
      },
      "source": [
        "#### Crear arrays en numpy repitiendo valores\n",
        "\n",
        "Aparte de *np.array* tenemos:\n",
        "\n",
        "- *np.zeros(s)*: crea un array con 0s (float) con el *shape* indicado<br>\n",
        "\n",
        "- *np.zeros_like(a)*: crea un array con 0s (float) con el mismo *shape* que el del array *a*<br>\n",
        "\n",
        "- *np.ones(s)*: crea un array con 1s (float) con el *shape* indicado<br>\n",
        "\n",
        "- *np.ones_like(a)*: crea un array con 1s (float) con el mismo *shape* que el del array *a*<br>\n",
        "\n",
        "- *np.empty(s)*: crea un array con el *shape* indicado sin inicializar<br>\n",
        "\n",
        "- *np.empty_like(a)*: crea un array con el *shape* de *a* sin inicializar<br>\n",
        "\n",
        "- *np.arange(n)*: la versión np de *range*\n",
        "\n",
        "- *np.eye(n)*, *np.identity(n)*: matriz diagonal de nxn"
      ]
    },
    {
      "cell_type": "code",
      "execution_count": null,
      "metadata": {
        "id": "tRLi7kRkzSYZ"
      },
      "outputs": [],
      "source": [
        "np.zeros((2,3,4))"
      ]
    },
    {
      "cell_type": "markdown",
      "metadata": {
        "id": "sWXxYh7dzSYZ"
      },
      "source": [
        "#### Crear arrays en numpy mediante números aleatorios\n",
        "\n",
        "numpy dispone de un paquete `numpy.random` que se encarga de generar números aleatrorios. Python también dispone de dicho paquete. La diferencia es que el módulo de numpy puede generar muchos valores diferentes con una sola llamada y de muy diversas funciones de probabilidad.\n",
        "\n",
        "Las funciones incluídas en este paquete son:\n",
        "\n",
        "    seed: semilla del generador de números aleatorios\n",
        "    permutation: permutación al azar de una secuencia\n",
        "    shuffle: permuta una secuencia in-place (no devuelve copia)\n",
        "    rand: devuelve números aleatorios de una función uniforme\n",
        "    randint: Valores enteros distribuidos uniformemente\n",
        "    randn: valores de una N(0,1)\n",
        "    binomial: ejemplo de una binomial\n",
        "    normal: valores de una gaussiana cuyos parámetros se le pasan\n",
        "    beta: valores aleatorios de una distribución beta\n",
        "    chisquare: valores aleatorios de una chi-cuadrado\n",
        "    gamma: valores de una gamma\n",
        "    uniform: valores de una uniforme (0,1)\n",
        "    \n",
        "Vamos a comparar en velocidad con la generación mediante números aleatorios de Python"
      ]
    },
    {
      "cell_type": "code",
      "execution_count": null,
      "metadata": {
        "id": "vDsB5wJqzSYa"
      },
      "outputs": [],
      "source": [
        "from random import normalvariate\n",
        "N = 1000000\n",
        "%timeit [normalvariate(0,1) for _ in range(N)]"
      ]
    },
    {
      "cell_type": "code",
      "execution_count": null,
      "metadata": {
        "id": "BylBSm_vzSYa"
      },
      "outputs": [],
      "source": [
        "import numpy as np\n",
        "%timeit np.random.normal(size=N)"
      ]
    },
    {
      "cell_type": "markdown",
      "metadata": {
        "id": "tcsNmIP_zSYb"
      },
      "source": [
        "Al usar timeit se puede especificar el número de repeticiones (r) y de iteraciones (n)"
      ]
    },
    {
      "cell_type": "code",
      "execution_count": null,
      "metadata": {
        "id": "OSLhdX0JzSYb"
      },
      "outputs": [],
      "source": [
        "%timeit -n 100 -r 5 np.random.normal(size=N)"
      ]
    },
    {
      "cell_type": "markdown",
      "metadata": {
        "id": "QRwTUqACzSYb"
      },
      "source": [
        "### Vectorización"
      ]
    },
    {
      "cell_type": "markdown",
      "metadata": {
        "id": "oZkjV69bzSYc"
      },
      "source": [
        "Aparte de la velocidad y de la gran cantidad de funciones que contiene, la *vectorización* es otra razón importante para utilizar numpy. La idea es sí es muy sencilla:\n",
        "\n",
        "\n",
        "\n",
        "Vectorización *Toda operación que se pueda aplicar a un elemento de un tipo básico (ej. int) se extiende forma natural a ndarrays*"
      ]
    },
    {
      "cell_type": "code",
      "execution_count": null,
      "metadata": {
        "id": "ubKAxRVmzSYc"
      },
      "outputs": [],
      "source": [
        "a = 20\n",
        "b = 30\n",
        "a+b   # python puro"
      ]
    },
    {
      "cell_type": "code",
      "execution_count": null,
      "metadata": {
        "id": "VO0aDMjezSYd"
      },
      "outputs": [],
      "source": [
        "import numpy as np\n",
        "\n",
        "a  = np.array([10,20,30,40])\n",
        "b  = np.array([100,200,300,400])\n",
        "\n",
        "a+b # numpy"
      ]
    },
    {
      "cell_type": "code",
      "execution_count": null,
      "metadata": {
        "id": "c5eJ0oxszSYd"
      },
      "outputs": [],
      "source": [
        "a*b"
      ]
    },
    {
      "cell_type": "code",
      "execution_count": null,
      "metadata": {
        "id": "ewI3Lyi-zSYd"
      },
      "outputs": [],
      "source": [
        "(a+b)/2"
      ]
    },
    {
      "cell_type": "markdown",
      "metadata": {
        "id": "dKl1KPntzSYe"
      },
      "source": [
        "### Broadcasting\n",
        "\n",
        "Para poder operar entre dos vectores éstos tienen que ser en principio de la misma longitud. Sin embargo, siempre que pueda, al detectar diferencias de tamaño numpy \"repetirá\" elementos para lograr que encajen ambos operandos. Esto se conoce como \"broadcasting\""
      ]
    },
    {
      "cell_type": "code",
      "execution_count": null,
      "metadata": {
        "scrolled": true,
        "id": "sJDxWl4HzSYe"
      },
      "outputs": [],
      "source": [
        "m = np.zeros((10,10),dtype=np.int32)\n",
        "m"
      ]
    },
    {
      "cell_type": "code",
      "execution_count": null,
      "metadata": {
        "id": "foII3mHmzSYf"
      },
      "outputs": [],
      "source": [
        "m[3:7,3:7]=1\n",
        "m"
      ]
    },
    {
      "cell_type": "code",
      "execution_count": null,
      "metadata": {
        "id": "KV6q_mk8zSYf"
      },
      "outputs": [],
      "source": [
        "m + 2"
      ]
    },
    {
      "cell_type": "markdown",
      "metadata": {
        "id": "2fveBuhEzSYf"
      },
      "source": [
        "## Índices booleanos\n",
        "\n",
        "Todavía una razón más; utilizar arrays de booleanos como índices; esto va a ser una herramienta muy poderosa para filtrar datos"
      ]
    },
    {
      "cell_type": "code",
      "execution_count": null,
      "metadata": {
        "id": "59TSLjdlzSYg"
      },
      "outputs": [],
      "source": [
        "a = np.arange(1,11)\n",
        "a"
      ]
    },
    {
      "cell_type": "code",
      "execution_count": null,
      "metadata": {
        "id": "MOYAk_02zSYg"
      },
      "outputs": [],
      "source": [
        "a[ [True,False,False,True,False,False,True,False,False,False]]"
      ]
    },
    {
      "cell_type": "markdown",
      "metadata": {
        "id": "rwCAXTn9zSYg"
      },
      "source": [
        "Esto, que parece no tener importancia, muestra su potencia al combinarlo con la vectorización, y da lugar a todo un estilo de programación"
      ]
    },
    {
      "cell_type": "code",
      "execution_count": null,
      "metadata": {
        "id": "uLBejs4ZzSYh"
      },
      "outputs": [],
      "source": [
        "a % 2 == 0"
      ]
    },
    {
      "cell_type": "code",
      "execution_count": null,
      "metadata": {
        "id": "oQT1AA-JzSYh"
      },
      "outputs": [],
      "source": [
        "filtro = a % 2 == 0\n",
        "a[filtro]"
      ]
    },
    {
      "cell_type": "code",
      "execution_count": null,
      "metadata": {
        "id": "67QRiN5vzSYi"
      },
      "outputs": [],
      "source": [
        "a[ a % 2 == 0]"
      ]
    },
    {
      "cell_type": "markdown",
      "metadata": {
        "id": "SQFleHNjzSYq"
      },
      "source": [
        "**Ejemplo**\n",
        "Queremos quedarnos solo con los elementos positivos del array a"
      ]
    },
    {
      "cell_type": "code",
      "execution_count": null,
      "metadata": {
        "id": "Y4f8kIiYzSYr"
      },
      "outputs": [],
      "source": [
        "a = np.random.randint(-100,100,50)\n",
        "a"
      ]
    },
    {
      "cell_type": "code",
      "execution_count": null,
      "metadata": {
        "id": "gpvrawcazSYr"
      },
      "outputs": [],
      "source": [
        "# solución\n"
      ]
    },
    {
      "cell_type": "markdown",
      "metadata": {
        "id": "vUp3N8_kzSYs"
      },
      "source": [
        "Se pueden combinar dos arrays"
      ]
    },
    {
      "cell_type": "code",
      "execution_count": null,
      "metadata": {
        "id": "qezrymAHzSYs"
      },
      "outputs": [],
      "source": [
        "nombre = np.array([\"Bertoldo\",\"Herminia\",\"Calixto\",\"Melibea\",\"Aniceto\"])\n",
        "ingresos = np.array([1200,800,1500,2300,940])\n",
        "\n",
        "nombre, ingresos"
      ]
    },
    {
      "cell_type": "code",
      "execution_count": null,
      "metadata": {
        "id": "WxcZV02pzSYs"
      },
      "outputs": [],
      "source": [
        "# Nombre de los que ganan más de 1000 euros\n",
        "filtro = ingresos>1000\n",
        "nombre[filtro]"
      ]
    },
    {
      "cell_type": "markdown",
      "metadata": {
        "id": "Uf_4spXczSYs"
      },
      "source": [
        "**Ejercicio** A partir de la listas `edades` y `nombres` queremos crear 4 listas: `edades20`, `nombres20` con las edades menores o iguales a 20 y sus nombres, y `edadesMasDe20`, `nombresMasDe20` con las edades y nombres de los que tienen más de 20 años"
      ]
    },
    {
      "cell_type": "code",
      "execution_count": null,
      "metadata": {
        "id": "NyaBezFMzSYs"
      },
      "outputs": [],
      "source": [
        "nombres = np.array([\"Melibea\", \"Bertoldo\", \"Herminia\", \"Calixto\", \"Aniceto\"])\n",
        "edades = np.array([18,20,23,18,21])"
      ]
    },
    {
      "cell_type": "code",
      "execution_count": null,
      "metadata": {
        "id": "8YUaNW8fzSYt"
      },
      "outputs": [],
      "source": [
        "filtro1 = edades>20\n",
        "filtro2 = edades<=20\n",
        "\n",
        "edades20, nombres20  = edades[filtro2], nombres[filtro2]\n",
        "\n",
        "edadesMasDe20, nombresMasDe20 = edades[filtro1], nombres[filtro1]\n",
        "\n",
        "print(edades20, nombres20)\n",
        "print(edadesMasDe20, nombresMasDe20 )"
      ]
    },
    {
      "cell_type": "markdown",
      "metadata": {
        "id": "NhaH3ePvzSYt"
      },
      "source": [
        "Sobre los arrays booleanos se pueden hacer operaciones and (se escribe &), or (|) y not (~)"
      ]
    },
    {
      "cell_type": "code",
      "execution_count": null,
      "metadata": {
        "id": "44_gq4GszSYt"
      },
      "outputs": [],
      "source": [
        "filtro1"
      ]
    },
    {
      "cell_type": "code",
      "execution_count": null,
      "metadata": {
        "id": "3hrXzuwuzSYt"
      },
      "outputs": [],
      "source": [
        "~filtro1"
      ]
    },
    {
      "cell_type": "code",
      "execution_count": null,
      "metadata": {
        "id": "URhPdet9zSYt"
      },
      "outputs": [],
      "source": [
        "filtro = edades>20\n",
        "\n",
        "\n",
        "edades20, nombres20  = edades[~filtro], nombres[~filtro]\n",
        "\n",
        "edadesMasDe20, nombresMasDe20 = edades[filtro], nombres[filtro]\n",
        "\n",
        "print(edades20, nombres20)\n",
        "print(edadesMasDe20, nombresMasDe20 )"
      ]
    },
    {
      "cell_type": "markdown",
      "metadata": {
        "id": "4ozdSJj3zSYt"
      },
      "source": [
        "*En general en ciencia de datos en Python evitaremos los bucles `for` siempre que sea posible, las bibliotecas como numpy ofrecen alternativas más elegantes y mucho más rápidas*"
      ]
    },
    {
      "cell_type": "code",
      "execution_count": null,
      "metadata": {
        "id": "F8BqmiCRzSYu"
      },
      "outputs": [],
      "source": []
    },
    {
      "cell_type": "markdown",
      "source": [
        "### Para saber más (en inglés)\n",
        "\n",
        "  \n",
        "1.   Comparativa entre arrays en Python y en Numpy, una buena introducción: https://www.youtube.com/FQbbkCFWNjY\n",
        "\n",
        "2.   Mini-curso muy completo sobre *numpy*, para aprendizaje avanzado: https://youtu.be/V0D2mhVt7NE (excesivo para este curso, solo si alguien de verdad quiere profundizar mucho en esta librería...casi 3 horas de video)\n",
        "\n"
      ],
      "metadata": {
        "id": "71DWrFVq8BTz"
      }
    }
  ],
  "metadata": {
    "kernelspec": {
      "display_name": "Python 3 (ipykernel)",
      "language": "python",
      "name": "python3"
    },
    "language_info": {
      "codemirror_mode": {
        "name": "ipython",
        "version": 3
      },
      "file_extension": ".py",
      "mimetype": "text/x-python",
      "name": "python",
      "nbconvert_exporter": "python",
      "pygments_lexer": "ipython3",
      "version": "3.9.12"
    },
    "colab": {
      "provenance": [],
      "include_colab_link": true
    }
  },
  "nbformat": 4,
  "nbformat_minor": 0
}