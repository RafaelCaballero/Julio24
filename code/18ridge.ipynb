{
  "cells": [
    {
      "cell_type": "markdown",
      "metadata": {
        "id": "view-in-github",
        "colab_type": "text"
      },
      "source": [
        "<a href=\"https://colab.research.google.com/github/RafaelCaballero/Julio24/blob/main/code/18ridge.ipynb\" target=\"_parent\"><img src=\"https://colab.research.google.com/assets/colab-badge.svg\" alt=\"Open In Colab\"/></a>"
      ]
    },
    {
      "cell_type": "markdown",
      "id": "24c58390",
      "metadata": {
        "id": "24c58390"
      },
      "source": [
        "# Introducción a la ciencia de datos con Python\n",
        "Rafa Caballero\n",
        "\n",
        "## Regresión ridge"
      ]
    },
    {
      "cell_type": "markdown",
      "id": "b7853739",
      "metadata": {
        "id": "b7853739"
      },
      "source": [
        "El siguiente código simula las llegadas de autobuses as distintas paradas"
      ]
    },
    {
      "cell_type": "code",
      "execution_count": null,
      "id": "95962563",
      "metadata": {
        "id": "95962563"
      },
      "outputs": [],
      "source": [
        "import random\n",
        "import matplotlib.pyplot as plt\n",
        "%matplotlib inline\n",
        "from sklearn.linear_model import LinearRegression\n",
        "from sklearn.model_selection import train_test_split\n",
        "from sklearn.metrics import explained_variance_score, r2_score,mean_squared_error,mean_absolute_error\n",
        "import math\n",
        "from sklearn import preprocessing\n",
        "\n",
        "def muestra_errores(mod, yscaler, x_test,y_test):\n",
        "    y_pred = mod.predict(x_test) # predicciones test\n",
        "    # hay que desescalar para medir el error\n",
        "    y_pred = yscaler.inverse_transform(y_pred.reshape(-1, 1))\n",
        "    y_true = yscaler.inverse_transform(y_test)\n",
        "\n",
        "    print(\"\\nr^2\",r2_score(y_true, y_pred))\n",
        "    mse =  mean_squared_error(y_true,y_pred)\n",
        "    rmse = math.sqrt(mse)\n",
        "    print(\"mse \",mse, \" rmse \",rmse)\n",
        "    print(\"mae \",mean_absolute_error(y_true,y_pred))\n",
        "\n",
        "\n",
        "\n",
        "# tiempo medio esperable\n",
        "#           0-1  1-2\n",
        "tiempos = [5*60,7*60,4*60,3*60,8*60,6*60,4*60,7*60]\n",
        "totalIncrementos = len(tiempos)\n",
        "# % de retraso esperado en cada hora\n",
        "#            6      7      8      9       10    11      12\n",
        "desvia = [(0,10),(20,37),(50,60),(20,40),(10,30),(5,18),(5,13),\n",
        "#           13     14      15     16        17     18     19    20\n",
        "          (3,10),(7,22),(10,24),(4,12),(12,18),(4,25),(9,30),(10,40),(5,12)]\n",
        "\n",
        "totalHoras = len(desvia)\n",
        "\n",
        "# una de cada 'veces' habrá un retraso en una parada de entre 1(no retraso) e imprevisto veces\n",
        "def dia(veces=10, imprevisto=2):\n",
        "    horas = []\n",
        "    for h in range(totalHoras):\n",
        "        ini,fin = desvia[h]\n",
        "        paradas = [h+6]\n",
        "        desvioAnterior = 0\n",
        "        for p in range(len(tiempos)):\n",
        "            retraso =  random.randrange(ini,fin)\n",
        "            if desvioAnterior!=0:\n",
        "                retraso = (retraso+desvioAnterior)/2\n",
        "            # retraso inesperado\n",
        "            if random.randrange(veces)==0:\n",
        "                retraso = retraso * (1+random.randrange(imprevisto))\n",
        "            paradas.append(tiempos[p]+tiempos[p]*retraso/100)\n",
        "            desvioAnterior = retraso\n",
        "        horas.append(paradas)\n",
        "\n",
        "    return horas\n",
        "\n",
        "\n",
        "dias = []\n",
        "NumDias =6\n",
        "for i in range(NumDias):\n",
        "    dias.extend(dia())\n",
        "import pandas as pd\n",
        "df = pd.DataFrame(dias, columns=[\"Hora\",\"I1\",\"I2\",\"I3\",\"I4\",\"I5\",\"I6\",\"I7\",\"I8\"])\n",
        "\n",
        "####### Preprocesamiento\n",
        "Xcols= [\"I1\",\"I2\",\"I3\",\"I4\",\"I5\",\"I6\",\"I7\"]\n",
        "ycols= [\"I8\"]\n",
        "\n",
        "df"
      ]
    },
    {
      "cell_type": "code",
      "execution_count": null,
      "id": "a6b9c252",
      "metadata": {
        "id": "a6b9c252"
      },
      "outputs": [],
      "source": [
        "# 1 selección de datos\n",
        "Xcols= [\"I1\",\"I2\",\"I3\",\"I4\",\"I5\",\"I6\",\"I7\"]\n",
        "ycol= [\"I8\"]\n",
        "\n",
        "\n",
        "Xscaler = preprocessing.StandardScaler().fit(df[Xcols])\n",
        "X = Xscaler.transform(df[Xcols])\n",
        "\n",
        "yscaler = preprocessing.StandardScaler().fit(df[ycols])\n",
        "y = yscaler.transform(df[ycols])\n",
        "\n",
        "\n",
        "# 2 train y test\n",
        "test = 0.4\n",
        "x_train, x_test, y_train, y_test = train_test_split(X, y, test_size= test)\n",
        "\n",
        "# 3 modelo\n",
        "mod = LinearRegression().fit(x_train, y_train)\n",
        "\n",
        "# 4 evaluación\n",
        "print(\"Regresión lineal\")\n",
        "muestra_errores(mod,yscaler, x_test,y_test)\n",
        "\n"
      ]
    },
    {
      "cell_type": "code",
      "execution_count": null,
      "id": "d975f748",
      "metadata": {
        "id": "d975f748"
      },
      "outputs": [],
      "source": [
        "###############\n",
        "from sklearn import linear_model\n",
        "mod = linear_model.Ridge(alpha=3.2).fit(x_train, y_train)\n",
        "\n",
        "print(\"Regresión lineal\")\n",
        "muestra_errores(mod, yscaler, x_test,y_test)"
      ]
    },
    {
      "cell_type": "code",
      "execution_count": null,
      "id": "1604e4f9",
      "metadata": {
        "id": "1604e4f9"
      },
      "outputs": [],
      "source": []
    }
  ],
  "metadata": {
    "kernelspec": {
      "display_name": "Python 3 (ipykernel)",
      "language": "python",
      "name": "python3"
    },
    "language_info": {
      "codemirror_mode": {
        "name": "ipython",
        "version": 3
      },
      "file_extension": ".py",
      "mimetype": "text/x-python",
      "name": "python",
      "nbconvert_exporter": "python",
      "pygments_lexer": "ipython3",
      "version": "3.9.12"
    },
    "colab": {
      "provenance": [],
      "include_colab_link": true
    }
  },
  "nbformat": 4,
  "nbformat_minor": 5
}