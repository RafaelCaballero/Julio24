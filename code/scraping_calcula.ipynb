{
 "cells": [
  {
   "cell_type": "markdown",
   "metadata": {},
   "source": [
    "## Ejemplo de web scraping con selenium: listas desplegables y tablas\n",
    "Rafa Caballero\n",
    "\n",
    "\n",
    "\n",
    "Primero abrimos el navegador Chrome"
   ]
  },
  {
   "cell_type": "code",
   "execution_count": 1,
   "metadata": {},
   "outputs": [
    {
     "name": "stdout",
     "output_type": "stream",
     "text": [
      "Instalando módulos\n",
      "selenium  encontrado\n",
      "chromedriver_autoinstaller  encontrado\n",
      "¡Terminado!\n"
     ]
    }
   ],
   "source": [
    "modules = [\"selenium\",\"chromedriver_autoinstaller\"]\n",
    "\n",
    "\n",
    "import sys\n",
    "import os.path\n",
    "from subprocess import check_call\n",
    "import importlib\n",
    "import os\n",
    "\n",
    "def instala(modules):\n",
    "    print(\"Instalando módulos\")\n",
    "    for m in modules:\n",
    "        # para el import quitamos [...] y ==...\n",
    "        p = m.find(\"[\")\n",
    "        mi = m if p==-1 else m[:p]\n",
    "        p = mi.find(\"==\")\n",
    "        mi = mi if p==-1 else mi[:p]\n",
    "        torch_loader = importlib.util.find_spec(mi)\n",
    "        if torch_loader is not None:\n",
    "            print(m,\" encontrado\")\n",
    "        else:\n",
    "            print(m,\" No encontrado, instalando...\",end=\"\")  \n",
    "            try:        \n",
    "                r = check_call([sys.executable, \"-m\", \"pip\", \"install\", \"--user\",  m])\n",
    "                print(\"¡hecho!\")\n",
    "            except:\n",
    "                print(\"¡Problema al instalar \",m,\"! ¿seguro que el módulo existe?\",sep=\"\")\n",
    "\n",
    "    print(\"¡Terminado!\")\n",
    "\n",
    "instala(modules)  "
   ]
  },
  {
   "cell_type": "code",
   "execution_count": 2,
   "metadata": {},
   "outputs": [],
   "source": [
    "import pandas as pd\n",
    "from bs4 import BeautifulSoup\n",
    "from selenium import webdriver\n",
    "import chromedriver_autoinstaller\n",
    "\n",
    "# setup chrome options\n",
    "chrome_options = webdriver.ChromeOptions()\n",
    "#chrome_options.add_argument('--headless') # ensure GUI is off\n",
    "#chrome_options.add_argument('--no-sandbox')\n",
    "#chrome_options.add_argument('--disable-dev-shm-usage')\n",
    "\n",
    "# set path to chromedriver as per your configuration\n",
    "chromedriver_autoinstaller.install()\n",
    "\n",
    "\n",
    "# set up the webdriver\n",
    "driver = webdriver.Chrome(options=chrome_options)"
   ]
  },
  {
   "cell_type": "markdown",
   "metadata": {},
   "source": [
    "##### Ejercicio 1\n",
    "\n",
    "Cargar la página 'http://mustcalculate.com/electronics/unitconverter.php'"
   ]
  },
  {
   "cell_type": "code",
   "execution_count": 3,
   "metadata": {},
   "outputs": [],
   "source": [
    "s = 'http://mustcalculate.com/electronics/unitconverter.php'\n",
    "driver.get(s)\n"
   ]
  },
  {
   "cell_type": "markdown",
   "metadata": {},
   "source": [
    "Si aparece la ventana de cookies y queremos saltarla"
   ]
  },
  {
   "cell_type": "code",
   "execution_count": 4,
   "metadata": {},
   "outputs": [
    {
     "name": "stdout",
     "output_type": "stream",
     "text": [
      "Cookies aceptadas.\n"
     ]
    }
   ],
   "source": [
    "from selenium.webdriver.common.by import By\n",
    "from selenium.webdriver.chrome.options import Options\n",
    "import time\n",
    "#aceptar las cookies\n",
    "\n",
    "try:\n",
    "    cookies = driver.find_element(By.CLASS_NAME, \"fc-primary-button\")\n",
    "    cookies.click()\n",
    "    print(\"Cookies aceptadas.\")\n",
    "except Exception as e:\n",
    "    print(\"No se encontró el botón de aceptar cookies o ocurrió un error:\", e)"
   ]
  },
  {
   "cell_type": "markdown",
   "metadata": {},
   "source": [
    "\n",
    "##### Ejercicio 2\n",
    "Cargar los valores a convertir (convertir.csv) como un Dataframe pandas"
   ]
  },
  {
   "cell_type": "code",
   "execution_count": 5,
   "metadata": {},
   "outputs": [
    {
     "data": {
      "text/html": [
       "<div>\n",
       "<style scoped>\n",
       "    .dataframe tbody tr th:only-of-type {\n",
       "        vertical-align: middle;\n",
       "    }\n",
       "\n",
       "    .dataframe tbody tr th {\n",
       "        vertical-align: top;\n",
       "    }\n",
       "\n",
       "    .dataframe thead th {\n",
       "        text-align: right;\n",
       "    }\n",
       "</style>\n",
       "<table border=\"1\" class=\"dataframe\">\n",
       "  <thead>\n",
       "    <tr style=\"text-align: right;\">\n",
       "      <th></th>\n",
       "      <th>valor</th>\n",
       "      <th>origen</th>\n",
       "      <th>destino</th>\n",
       "    </tr>\n",
       "  </thead>\n",
       "  <tbody>\n",
       "    <tr>\n",
       "      <th>0</th>\n",
       "      <td>10</td>\n",
       "      <td>Binary</td>\n",
       "      <td>Octal</td>\n",
       "    </tr>\n",
       "    <tr>\n",
       "      <th>1</th>\n",
       "      <td>100</td>\n",
       "      <td>Fahrenheit</td>\n",
       "      <td>Celsius</td>\n",
       "    </tr>\n",
       "    <tr>\n",
       "      <th>2</th>\n",
       "      <td>1000</td>\n",
       "      <td>Hertz</td>\n",
       "      <td>Seconds</td>\n",
       "    </tr>\n",
       "  </tbody>\n",
       "</table>\n",
       "</div>"
      ],
      "text/plain": [
       "   valor      origen  destino\n",
       "0     10      Binary    Octal\n",
       "1    100  Fahrenheit  Celsius\n",
       "2   1000       Hertz  Seconds"
      ]
     },
     "execution_count": 5,
     "metadata": {},
     "output_type": "execute_result"
    }
   ],
   "source": [
    "import pandas as pd\n",
    "valores = \"https://raw.githubusercontent.com/RafaelCaballero/tdm/master/datos/convertir.csv\"\n",
    "df = pd.read_csv(valores,encoding= 'unicode_escape')\n",
    "df"
   ]
  },
  {
   "cell_type": "markdown",
   "metadata": {},
   "source": [
    "#### Ejercicio 3\n",
    "Para cada fila:\n",
    "\n",
    "* Poner en Value el `valor`\n",
    "* En la lista desplegable elegir el Origen\n",
    "* Dar al botón `Calculate`\n",
    "* Buscar el resultado en la tabla Results y añadirlo a una lista\n",
    "\n",
    "Al final añadir una columna 'resultado' al dataframe y volver a grabarlo con formato csv\n",
    "\n",
    "Sugerencia: hacerlo al principio solo para la primera fila, y cuando funcione iterar en un bucle\n",
    "\n",
    "Para localizar los elementos mirar esta [ayuda](https://selenium-python.readthedocs.io/locating-elements.html)\n",
    "\n",
    "Para seleccionar un elemento de un desplegable utilizar Select. [Aquí](https://stackoverflow.com/questions/7867537/how-to-select-a-drop-down-menu-value-with-selenium-using-python) hay un ejemplo (buscar la respuesta que utiliza Select)"
   ]
  },
  {
   "cell_type": "code",
   "execution_count": 7,
   "metadata": {},
   "outputs": [
    {
     "data": {
      "text/plain": [
       "['2', '37.77777777778', '0.001']"
      ]
     },
     "execution_count": 7,
     "metadata": {},
     "output_type": "execute_result"
    }
   ],
   "source": [
    "from selenium.webdriver.support.ui import Select\n",
    "from selenium.webdriver.common.by import By\n",
    "from time import sleep\n",
    "\n",
    "# para guardar los resultados\n",
    "resultados=[]\n",
    "for index, r in df.iterrows():\n",
    "    # meter los valores en la caja de texto\n",
    "    caja = driver.find_element(By.NAME ,\"in\")\n",
    "    caja.clear()\n",
    "    caja.send_keys(str(r.valor))\n",
    "\n",
    "    # lista desplegable\n",
    "    select = Select(driver.find_element(By.NAME,'ino'))\n",
    "    select.select_by_visible_text(r.origen)\n",
    "\n",
    "    # pulsar botón\n",
    "    boton = driver.find_element(By.ID,'calcbutton')\n",
    "    boton.click()\n",
    "\n",
    "    # buscar en la tabla\n",
    "    div = driver.find_element(By.ID,'answer')\n",
    "    trs = div.find_elements(By.XPATH,\"table/tbody/tr\")\n",
    "    sleep(2)\n",
    "    found = False\n",
    "    i = 0\n",
    "    while not found and i<len(trs): \n",
    "        tr = trs[i]\n",
    "        # ojo con la cabecera, que tiene otro formato\n",
    "        listatds = tr.find_elements(By.XPATH,\"td\")\n",
    "        if len(listatds)>1:\n",
    "            nombre = listatds[0].text\n",
    "            valor = listatds[1].text\n",
    "            if nombre==r.destino:\n",
    "                resultados.append(valor)\n",
    "                found=True\n",
    "        i+=1\n",
    "    \n",
    "    \n",
    "resultados"
   ]
  },
  {
   "cell_type": "code",
   "execution_count": 8,
   "metadata": {},
   "outputs": [],
   "source": [
    "driver.close()"
   ]
  },
  {
   "cell_type": "code",
   "execution_count": 9,
   "metadata": {},
   "outputs": [],
   "source": [
    "df[\"resultados\"] = resultados  \n",
    "df.to_csv('resultados.csv', index=False)"
   ]
  },
  {
   "cell_type": "code",
   "execution_count": null,
   "metadata": {},
   "outputs": [],
   "source": []
  }
 ],
 "metadata": {
  "kernelspec": {
   "display_name": "Python 3 (ipykernel)",
   "language": "python",
   "name": "python3"
  },
  "language_info": {
   "codemirror_mode": {
    "name": "ipython",
    "version": 3
   },
   "file_extension": ".py",
   "mimetype": "text/x-python",
   "name": "python",
   "nbconvert_exporter": "python",
   "pygments_lexer": "ipython3",
   "version": "3.10.9"
  }
 },
 "nbformat": 4,
 "nbformat_minor": 2
}
