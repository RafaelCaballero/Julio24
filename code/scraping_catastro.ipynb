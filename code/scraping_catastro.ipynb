{
 "cells": [
  {
   "cell_type": "markdown",
   "metadata": {
    "id": "t3mPSm4W-xRT"
   },
   "source": [
    "# Web Scraping con Python\n",
    "\n",
    "Este script muestra algunas posibilidades de la biblioteca *Selenium* que nos permite obtener, automáticamente, datos de páginas web dinámicas, es decir que necesitan pulsar botones, etc, etc.\n",
    "\n",
    "Selenium está pensado realmente para automatizar pruebas de entornos web, pero a nosotros nos servirá para nuestro propósito de hacer web scraping.\n",
    "\n",
    "En particular, lo que vamos a hacer es arrancar google Chrome y manejarlo automáticamente desde Python.\n",
    "\n",
    "Para ello necesitamos 3 cosas:\n",
    "\n",
    "1.- Tener google Chrome\n",
    "\n",
    "2.- Instalar la biblioteca selenium\n",
    "\n",
    "3.- Tener un fichero controlador, un driver"
   ]
  },
  {
   "cell_type": "markdown",
   "metadata": {
    "id": "x0AKhkh4-xRa"
   },
   "source": [
    "Empezamos asegurarnos de que Selenium está instalado"
   ]
  },
  {
   "cell_type": "code",
   "execution_count": null,
   "metadata": {
    "colab": {
     "base_uri": "https://localhost:8080/"
    },
    "id": "AbmLSr6Q-xRb",
    "outputId": "52e0c0c7-e218-49df-dbd5-e446675627f5"
   },
   "outputs": [],
   "source": [
    "modules = [\"selenium\",\"chromedriver_autoinstaller\"]\n",
    "\n",
    "\n",
    "import sys\n",
    "import os.path\n",
    "from subprocess import check_call\n",
    "import importlib\n",
    "import os\n",
    "\n",
    "def instala(modules):\n",
    "    print(\"Instalando módulos\")\n",
    "    for m in modules:\n",
    "        # para el import quitamos [...] y ==...\n",
    "        p = m.find(\"[\")\n",
    "        mi = m if p==-1 else m[:p]\n",
    "        p = mi.find(\"==\")\n",
    "        mi = mi if p==-1 else mi[:p]\n",
    "        torch_loader = importlib.util.find_spec(mi)\n",
    "        if torch_loader is not None:\n",
    "            print(m,\" encontrado\")\n",
    "        else:\n",
    "            print(m,\" No encontrado, instalando...\",end=\"\")  \n",
    "            try:        \n",
    "                r = check_call([sys.executable, \"-m\", \"pip\", \"install\", \"--user\",  m])\n",
    "                print(\"¡hecho!\")\n",
    "            except:\n",
    "                print(\"¡Problema al instalar \",m,\"! ¿seguro que el módulo existe?\",sep=\"\")\n",
    "\n",
    "    print(\"¡Terminado!\")\n",
    "\n",
    "instala(modules)  "
   ]
  },
  {
   "cell_type": "markdown",
   "metadata": {
    "id": "aNYxKlmy-xRe"
   },
   "source": [
    "Ahora abrimos el navegador"
   ]
  },
  {
   "cell_type": "code",
   "execution_count": null,
   "metadata": {
    "colab": {
     "base_uri": "https://localhost:8080/"
    },
    "id": "640iwJu4C8Gx",
    "outputId": "3e896755-8384-4ce4-9971-05f7051934e3"
   },
   "outputs": [],
   "source": [
    "import pandas as pd\n",
    "from bs4 import BeautifulSoup\n",
    "from selenium import webdriver\n",
    "import chromedriver_autoinstaller\n",
    "\n",
    "# setup chrome options\n",
    "chrome_options = webdriver.ChromeOptions()\n",
    "\n",
    "# set path to chromedriver as per your configuration\n",
    "chromedriver_autoinstaller.install()\n",
    "\n",
    "\n",
    "# set up the webdriver\n",
    "driver = webdriver.Chrome(options=chrome_options)"
   ]
  },
  {
   "cell_type": "code",
   "execution_count": null,
   "metadata": {
    "id": "nyKn_uRA-xRg"
   },
   "outputs": [],
   "source": [
    "url = 'https://www1.sedecatastro.gob.es/CYCBienInmueble/OVCBusqueda.aspx'\n",
    "driver.get(url)\n",
    "\n"
   ]
  },
  {
   "cell_type": "markdown",
   "metadata": {
    "id": "15572M_c-xRg"
   },
   "source": [
    "Simulamos un click en la página de aceptar cookies\n"
   ]
  },
  {
   "cell_type": "code",
   "execution_count": null,
   "metadata": {
    "colab": {
     "base_uri": "https://localhost:8080/"
    },
    "id": "zfqQoT_d-xRh",
    "outputId": "150ed46f-388b-4067-82e2-7794028f7f81"
   },
   "outputs": [],
   "source": [
    "\n",
    "from selenium.webdriver.common.by import By\n",
    "from selenium.webdriver.chrome.options import Options\n",
    "import time\n",
    "#aceptar las cookies\n",
    "\n",
    "try:\n",
    "    cookies = driver.find_element(By.LINK_TEXT, \"Aceptar cookies\")\n",
    "    cookies.click()\n",
    "    print(\"Cookies aceptadas.\")\n",
    "except Exception as e:\n",
    "    print(\"No se encontró el botón de aceptar cookies o ocurrió un error:\", e)\n",
    "\n",
    "# Hacer clic en la pestaña de coordenadas\n",
    "try:\n",
    "    coordenadas_tab = driver.find_element(By.LINK_TEXT, \"COORDENADAS\")\n",
    "    coordenadas_tab.click()\n",
    "    print(\"Se ha accedido a la pestaña de coordenadas.\")\n",
    "except Exception as e:\n",
    "    print(\"No se encontró la pestaña de coordenadas o ocurrió un error:\")\n",
    "#coord.click()"
   ]
  },
  {
   "cell_type": "markdown",
   "metadata": {
    "id": "i8YpXpyY-xRi"
   },
   "source": [
    "datos de Coordenadas"
   ]
  },
  {
   "cell_type": "code",
   "execution_count": null,
   "metadata": {
    "id": "00TfeTGK-xRi"
   },
   "outputs": [],
   "source": [
    "#lat = driver.find_element_by_id(\"ctl00_Contenido_txtLatitud\")\n",
    "#lon = driver.find_element_by_id(\"ctl00_Contenido_txtLongitud\")\n",
    "lat = driver.find_element(By.ID, \"ctl00_Contenido_txtLatitud\")\n",
    "\n",
    "lon = driver.find_element(By.ID, \"ctl00_Contenido_txtLongitud\")\n",
    "latitud  = \"28.2723368\"\n",
    "longitud = \"-16.64268\"\n",
    "lat.send_keys(latitud)\n",
    "lon.send_keys(longitud)"
   ]
  },
  {
   "cell_type": "markdown",
   "metadata": {
    "id": "EqrZ7U0w-xRj"
   },
   "source": [
    "Pulsar Botón para acceder a los datos concretos"
   ]
  },
  {
   "cell_type": "code",
   "execution_count": null,
   "metadata": {
    "id": "1rsxNqaM-xRj"
   },
   "outputs": [],
   "source": [
    "datos = driver.find_element(By.ID, \"ctl00_Contenido_btnDatos\")\n",
    "datos.click()\n",
    "\n"
   ]
  },
  {
   "cell_type": "code",
   "execution_count": null,
   "metadata": {
    "colab": {
     "base_uri": "https://localhost:8080/"
    },
    "id": "P-TdE-gS-xRk",
    "outputId": "72bc4662-df8e-4c5c-aa5c-bf9f153e8ddc"
   },
   "outputs": [],
   "source": [
    "id = \"ctl00_Contenido_tblInmueble\"\n",
    "#div = driver.find_element(\"id\")\n",
    "labels = driver.find_elements(By.XPATH, \"//label\")\n",
    "for i,l in enumerate(labels):\n",
    "    print(i,l.text)"
   ]
  },
  {
   "cell_type": "markdown",
   "metadata": {
    "id": "a1POKZ7T-xRk"
   },
   "source": [
    "Referencia catastral"
   ]
  },
  {
   "cell_type": "code",
   "execution_count": null,
   "metadata": {
    "colab": {
     "base_uri": "https://localhost:8080/"
    },
    "id": "LgtsL2t9-xRk",
    "outputId": "118c305f-9716-4c4b-c41e-b195e31b5b79"
   },
   "outputs": [],
   "source": [
    "id = \"ctl00_Contenido_tblInmueble\"\n",
    "pos = [0,3,4,5,7,8]\n",
    "div = driver.find_element(By.ID,id)\n",
    "labels = div.find_elements(By.XPATH,\"//label\")\n",
    "for i,label in enumerate(labels):\n",
    "    if i in pos:\n",
    "        print(label.text)"
   ]
  },
  {
   "cell_type": "markdown",
   "metadata": {
    "id": "hypXMLHp-xRk"
   },
   "source": [
    "Todo Junto"
   ]
  },
  {
   "cell_type": "code",
   "execution_count": null,
   "metadata": {
    "colab": {
     "base_uri": "https://localhost:8080/",
     "height": 1000
    },
    "id": "ELUqbQq7-xRl",
    "outputId": "cf58a112-2370-46b6-d49f-8d4e79065b8c"
   },
   "outputs": [],
   "source": [
    "import pandas as pd\n",
    "file = \"https://raw.githubusercontent.com/RafaelCaballero/tdm/master/datos/catastro.csv\"\n",
    "df = pd.read_csv(file)\n",
    "df"
   ]
  },
  {
   "cell_type": "code",
   "execution_count": null,
   "metadata": {
    "id": "e6Lx6NNj-xRl"
   },
   "outputs": [],
   "source": [
    "from time import sleep\n",
    "df = pd.read_csv(file)\n",
    "coldf = len(df.columns)\n",
    "url = 'https://www1.sedecatastro.gob.es/CYCBienInmueble/OVCBusqueda.aspx'\n",
    "# mejor con una lista de lsitas, pero así se entiende mejor\n",
    "pos = [0,3,4,5,7,8]\n",
    "nombres = [\"ref\",\"loc\",\"clase\",\"uso\",\"superficie\",\"año\"]\n",
    "df[nombres] = None\n",
    "filenum = 0\n",
    "for row in df.iterrows():\n",
    "    # los datos están en row[1], row[0] es el índice\n",
    "    fila = row[1]\n",
    "    driver.get(url)\n",
    "    coord   = driver.find_element(By.LINK_TEXT,\"COORDENADAS\")\n",
    "    coord.click()\n",
    "    sleep(0.5)\n",
    "    # coordenadas\n",
    "    lat = driver.find_element(By.ID,\"ctl00_Contenido_txtLatitud\")\n",
    "    lon = driver.find_element(By.ID,\"ctl00_Contenido_txtLongitud\")\n",
    "    latitud  = str(fila[\"lat\"])\n",
    "    longitud = str(fila[\"long\"])\n",
    "    lat.send_keys(latitud)\n",
    "    lon.send_keys(longitud)\n",
    "    sleep(0.25)\n",
    "    # pulsar el botón, esto puede tardar\n",
    "    datos = driver.find_element(By.ID,\"ctl00_Contenido_btnDatos\")\n",
    "    datos.click()\n",
    "\n",
    "    sleep(1.5)\n",
    "    id = \"ctl00_Contenido_tblInmueble\"\n",
    "    pos = [0,3,4,5,7,8]\n",
    "    div = driver.find_elements(By.ID,id)\n",
    "    if len(div)==1:\n",
    "        div = div[0]\n",
    "        labels = div.find_elements(By.XPATH,\"//label\")\n",
    "        for i,label in enumerate(labels):\n",
    "            if i in pos:\n",
    "                df.iloc[filenum,coldf+pos.index(i)] = label.text\n",
    "    filenum+=1\n",
    "\n"
   ]
  },
  {
   "cell_type": "code",
   "execution_count": null,
   "metadata": {
    "colab": {
     "base_uri": "https://localhost:8080/",
     "height": 1000
    },
    "id": "9gdZ4KRDBIWP",
    "outputId": "cdc3c544-a26d-4f7d-8896-15f58224afb3"
   },
   "outputs": [],
   "source": [
    "df\n"
   ]
  },
  {
   "cell_type": "markdown",
   "metadata": {
    "id": "cvRfMHAH-xRm"
   },
   "source": [
    "### Más pruebas"
   ]
  },
  {
   "cell_type": "markdown",
   "metadata": {
    "id": "9hpomDBx-xRm"
   },
   "source": [
    "Texto de la página"
   ]
  },
  {
   "cell_type": "code",
   "execution_count": null,
   "metadata": {
    "colab": {
     "base_uri": "https://localhost:8080/"
    },
    "id": "uMJB_reV-xRm",
    "outputId": "13f688a5-411d-4d56-e098-e8bd54f85d53"
   },
   "outputs": [],
   "source": [
    "html = driver.find_element(By.XPATH,\"/html\")\n",
    "print(html.text)"
   ]
  },
  {
   "cell_type": "markdown",
   "metadata": {
    "id": "5UZo7zG0-xRn"
   },
   "source": [
    "Caminos absolutos"
   ]
  },
  {
   "cell_type": "code",
   "execution_count": null,
   "metadata": {
    "id": "rBgDsj9q-xRn"
   },
   "outputs": [],
   "source": [
    "head = driver.find_element(By.XPATH,\"/html/head\")\n",
    "body = driver.find_element(By.XPATH,\"/html/body\")\n",
    "html2 = body.find_element(By.XPATH,\"/html\")"
   ]
  },
  {
   "cell_type": "code",
   "execution_count": null,
   "metadata": {
    "colab": {
     "base_uri": "https://localhost:8080/"
    },
    "id": "sHybt44n-xRo",
    "outputId": "9b1bb2db-46a6-4749-d791-a3d98ad296e7"
   },
   "outputs": [],
   "source": [
    "print(body.text)"
   ]
  },
  {
   "cell_type": "markdown",
   "metadata": {
    "id": "PenoRm0V-xRo"
   },
   "source": [
    "Hijos de un elemento"
   ]
  },
  {
   "cell_type": "code",
   "execution_count": null,
   "metadata": {
    "colab": {
     "base_uri": "https://localhost:8080/"
    },
    "id": "oG-d6AtC-xRo",
    "outputId": "b0d5a6ef-fca0-4837-950b-954bb6b1d621"
   },
   "outputs": [],
   "source": [
    "hijos = driver.find_elements(By.XPATH,\"/html/body/*\")\n",
    "for element in hijos:\n",
    "  print(element.tag_name)"
   ]
  },
  {
   "cell_type": "markdown",
   "metadata": {
    "id": "Bxd0sh0C-xRo"
   },
   "source": [
    "Camino relativo"
   ]
  },
  {
   "cell_type": "code",
   "execution_count": null,
   "metadata": {
    "colab": {
     "base_uri": "https://localhost:8080/"
    },
    "id": "-uM-9r70-xRo",
    "outputId": "edc129f6-fae3-410a-960c-a4aa0bb998ea"
   },
   "outputs": [],
   "source": [
    "divs = driver.find_elements(By.XPATH,\"/html/body/*/div\")\n",
    "print(len(divs))"
   ]
  },
  {
   "cell_type": "code",
   "execution_count": null,
   "metadata": {
    "colab": {
     "base_uri": "https://localhost:8080/"
    },
    "id": "5jMFkJNd-xRp",
    "outputId": "12c38efb-aa38-4634-c5d6-cd141058c622"
   },
   "outputs": [],
   "source": [
    "divs = body.find_elements(By.XPATH,\"./*/div\")\n",
    "print(len(divs))"
   ]
  },
  {
   "cell_type": "markdown",
   "metadata": {
    "id": "IyZsn-UW-xRp"
   },
   "source": [
    "Saltar pasos intermedios"
   ]
  },
  {
   "cell_type": "code",
   "execution_count": null,
   "metadata": {
    "colab": {
     "base_uri": "https://localhost:8080/"
    },
    "id": "omIeIcfD-xRp",
    "outputId": "7107c534-5125-4613-8c5f-4379199279b8"
   },
   "outputs": [],
   "source": [
    "divs = driver.find_elements(By.XPATH,\"/html/body//div\")\n",
    "print(len(divs))"
   ]
  },
  {
   "cell_type": "code",
   "execution_count": null,
   "metadata": {
    "colab": {
     "base_uri": "https://localhost:8080/"
    },
    "id": "v_N_To8t-xRp",
    "outputId": "5f0a46b9-0d3c-4998-b479-2d85d3286bfc"
   },
   "outputs": [],
   "source": [
    "labels = driver.find_elements(By.XPATH,\"//label\")\n",
    "print(len(labels))"
   ]
  },
  {
   "cell_type": "markdown",
   "metadata": {
    "id": "7bktgQRN-xRq"
   },
   "source": [
    "Insertar texto"
   ]
  },
  {
   "cell_type": "code",
   "execution_count": null,
   "metadata": {
    "colab": {
     "base_uri": "https://localhost:8080/",
     "height": 721
    },
    "id": "8_TAxZgp-xRq",
    "outputId": "c0c4acc3-40ea-4861-d2b5-862639570dbb"
   },
   "outputs": [],
   "source": [
    "lat = driver.find_element(By.ID,\"ctl00_Contenido_txtLatitud\")\n",
    "lon = driver.find_element(By.ID,\"ctl00_Contenido_txtLongitud\")\n",
    "latitud  = \"28.2723368\"\n",
    "longitud = \"-16.64268\"\n",
    "lat.send_keys(latitud)\n",
    "lon.send_keys(longitud)\n",
    "\n"
   ]
  },
  {
   "cell_type": "code",
   "execution_count": null,
   "metadata": {
    "colab": {
     "base_uri": "https://localhost:8080/",
     "height": 669
    },
    "id": "ve7r7_yk-xRq",
    "outputId": "efdf3db9-ec03-470e-9f3c-4791ba481ed3"
   },
   "outputs": [],
   "source": [
    "datos = driver.find_element(By.ID,\"ctl00_Contenido_btnDatos\")\n",
    "datos.click()"
   ]
  },
  {
   "cell_type": "code",
   "execution_count": null,
   "metadata": {
    "colab": {
     "base_uri": "https://localhost:8080/"
    },
    "id": "2WRSjVxo-xRq",
    "outputId": "77562301-de7f-4cc6-81f7-9789150b65c7"
   },
   "outputs": [],
   "source": [
    "id = \"ctl00_Contenido_tblInmueble\"\n",
    "div = driver.find_element(By.ID,id)\n",
    "label = div.find_element(By.XPATH,\"//label\")\n",
    "print(label.text)"
   ]
  },
  {
   "cell_type": "markdown",
   "metadata": {
    "id": "bIyjyCBY-xRq"
   },
   "source": [
    "Otra forma, por texto"
   ]
  },
  {
   "cell_type": "code",
   "execution_count": null,
   "metadata": {
    "colab": {
     "base_uri": "https://localhost:8080/"
    },
    "id": "WZwEqI_u-xRr",
    "outputId": "62fdd975-e801-4b84-9456-7db1247f3e2f"
   },
   "outputs": [],
   "source": [
    "xpath = \"//*[./span/text()='Referencia catastral']//label\"\n",
    "etiqs = driver.find_element(By.XPATH,xpath)\n",
    "print(etiqs.text)"
   ]
  },
  {
   "cell_type": "markdown",
   "metadata": {
    "id": "lwnbjiJx-xRr"
   },
   "source": [
    "Algunos ejemplos más...."
   ]
  },
  {
   "cell_type": "code",
   "execution_count": null,
   "metadata": {
    "colab": {
     "base_uri": "https://localhost:8080/"
    },
    "id": "9zRoTgyb-xRw",
    "outputId": "d31042ba-74b7-4bf9-9f2f-8a59f5e0d811"
   },
   "outputs": [],
   "source": [
    "clase = driver.find_elements(By.XPATH,\"(//label)[position()=3]\")\n",
    "print(clase[0].text)\n",
    "\n",
    "etiqs = driver.find_elements(By.XPATH,\"//label\")\n",
    "print(etiqs[2].text)\n",
    "\n",
    "ulti = driver.find_elements(By.XPATH,\"(//label)[last()]\")\n",
    "print(ulti[0].text)\n"
   ]
  },
  {
   "cell_type": "markdown",
   "metadata": {
    "id": "JEej9o8g-xSm"
   },
   "source": [
    "Un pequeño ejemplo adicional, información metereológica en Madrid"
   ]
  },
  {
   "cell_type": "code",
   "execution_count": null,
   "metadata": {
    "id": "7pdFViBP-xSm"
   },
   "outputs": [],
   "source": [
    "url2 = 'http://www.aemet.es/es/eltiempo/prediccion/municipios/madrid-id28079'\n",
    "driver.get(url2)\n"
   ]
  },
  {
   "cell_type": "code",
   "execution_count": null,
   "metadata": {
    "colab": {
     "base_uri": "https://localhost:8080/"
    },
    "id": "5iXawMRp-xSm",
    "outputId": "1c39e146-f3f3-41d2-a51a-ee49eb79f293"
   },
   "outputs": [],
   "source": [
    "th = driver.find_elements(By.XPATH,\"/html/body//*/th\")\n",
    "print(len(th))\n",
    "th = driver.find_elements(By.XPATH,\"/html/body//*/th[@class='borde_izq_dcha_estado_cielo no_wrap']\")\n",
    "print(len(th))\n",
    "for e in th:\n",
    "    print(e.text)"
   ]
  },
  {
   "cell_type": "code",
   "execution_count": null,
   "metadata": {
    "id": "Dzos-jAI-xSm"
   },
   "outputs": [],
   "source": [
    "driver.close()"
   ]
  },
  {
   "cell_type": "markdown",
   "metadata": {
    "id": "Ee2N32d3-xSn"
   },
   "source": [
    "Por Rafael Caballero. Del libro \"Big data con Python\". Gracias a José Ramón Guerra por las actualizaciones"
   ]
  }
 ],
 "metadata": {
  "colab": {
   "provenance": []
  },
  "kernelspec": {
   "display_name": "Python 3 (ipykernel)",
   "language": "python",
   "name": "python3"
  },
  "language_info": {
   "codemirror_mode": {
    "name": "ipython",
    "version": 3
   },
   "file_extension": ".py",
   "mimetype": "text/x-python",
   "name": "python",
   "nbconvert_exporter": "python",
   "pygments_lexer": "ipython3",
   "version": "3.12.4"
  }
 },
 "nbformat": 4,
 "nbformat_minor": 4
}
