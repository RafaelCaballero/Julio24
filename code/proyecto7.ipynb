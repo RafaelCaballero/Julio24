{
  "cells": [
    {
      "cell_type": "markdown",
      "metadata": {
        "id": "view-in-github",
        "colab_type": "text"
      },
      "source": [
        "<a href=\"https://colab.research.google.com/github/RafaelCaballero/Julio24/blob/main/code/proyecto7.ipynb\" target=\"_parent\"><img src=\"https://colab.research.google.com/assets/colab-badge.svg\" alt=\"Open In Colab\"/></a>"
      ]
    },
    {
      "cell_type": "markdown",
      "id": "5b7e4c44",
      "metadata": {
        "id": "5b7e4c44"
      },
      "source": [
        "# Introducción a la ciencia de datos con Python\n",
        "Rafa Caballero\n",
        "\n",
        "### Proyecto 7\n",
        "\n",
        "En esta dirección https://raw.githubusercontent.com/RafaelCaballero/tdm/master/datos/datav.csv están los datos de una encuesta publicada en abierto por [El Pais](https://elpais.com/espana/2022-01-10/consulte-todos-los-datos-internos-de-la-encuesta-de-el-pais-cuestionarios-cruces-y-respuestas-individuales.html). Entre los atributos hay datos personales, las respuestas a las preguntas y una columna \"label\" con el partido al que el usuario ha dicho que ha votado. Todos los datos ya están codificados numéricamente, en particular los partidos están codificados como:\n",
        "\n",
        "\"CS\"-->0,\"PP\"-->1,\"PSOE\"-->2,\"UP\"-->3,\"VOX\"-->4\n",
        "\n",
        "\n",
        "Lo que queremos es predecir el partido a partir del resto de datos usando árboles de decisión. Nos interesa ver en la matriz de confusión qué votantes se pueden identificar mejor y dibujar el árbol para ver qué atributos se usan para distinguir a los votantes entre sí.\n",
        "\n",
        "Las funciones para mostrar la matriz de confusión y los diferentes scores ya nos vienen dadas"
      ]
    },
    {
      "cell_type": "code",
      "execution_count": null,
      "id": "86a64d90",
      "metadata": {
        "id": "86a64d90"
      },
      "outputs": [],
      "source": [
        "from sklearn.metrics import classification_report\n",
        "from sklearn.metrics import cohen_kappa_score\n",
        "from sklearn.metrics import confusion_matrix, ConfusionMatrixDisplay\n",
        "import matplotlib.pyplot as plt\n",
        "def evaluar(y_test,y_pred):\n",
        "  k =  cohen_kappa_score(y_test,y_pred)\n",
        "  print(\"kappa \",k)\n",
        "  cm = confusion_matrix(y_test, y_pred, labels=modelo.classes_)\n",
        "  disp = ConfusionMatrixDisplay(confusion_matrix=cm,\n",
        "                                display_labels=modelo.classes_)\n",
        "  disp.plot()\n",
        "\n",
        "  plt.show()\n",
        "\n",
        "  print(classification_report(y_test, y_pred))\n",
        "  return k,cm\n"
      ]
    },
    {
      "cell_type": "code",
      "execution_count": null,
      "id": "64941a37",
      "metadata": {
        "id": "64941a37"
      },
      "outputs": [],
      "source": [
        "# solución\n"
      ]
    },
    {
      "cell_type": "code",
      "execution_count": null,
      "id": "05d6ee7e",
      "metadata": {
        "id": "05d6ee7e"
      },
      "outputs": [],
      "source": [
        "# Utilizar un árbol de decisión\n"
      ]
    },
    {
      "cell_type": "code",
      "execution_count": null,
      "id": "a9197a56",
      "metadata": {
        "id": "a9197a56"
      },
      "outputs": [],
      "source": [
        "# mostrar el árbol\n"
      ]
    },
    {
      "cell_type": "code",
      "execution_count": null,
      "id": "7d55f2d3",
      "metadata": {
        "id": "7d55f2d3"
      },
      "outputs": [],
      "source": []
    }
  ],
  "metadata": {
    "kernelspec": {
      "display_name": "Python 3 (ipykernel)",
      "language": "python",
      "name": "python3"
    },
    "language_info": {
      "codemirror_mode": {
        "name": "ipython",
        "version": 3
      },
      "file_extension": ".py",
      "mimetype": "text/x-python",
      "name": "python",
      "nbconvert_exporter": "python",
      "pygments_lexer": "ipython3",
      "version": "3.9.12"
    },
    "colab": {
      "provenance": [],
      "include_colab_link": true
    }
  },
  "nbformat": 4,
  "nbformat_minor": 5
}