{
  "cells": [
    {
      "cell_type": "markdown",
      "metadata": {
        "id": "view-in-github",
        "colab_type": "text"
      },
      "source": [
        "<a href=\"https://colab.research.google.com/github/RafaelCaballero/Julio24/blob/main/code/proyecto4Sol.ipynb\" target=\"_parent\"><img src=\"https://colab.research.google.com/assets/colab-badge.svg\" alt=\"Open In Colab\"/></a>"
      ]
    },
    {
      "cell_type": "markdown",
      "metadata": {
        "id": "S6GdKibcpCmB"
      },
      "source": [
        "### Proyecto 4\n",
        "\n",
        "Ejecutar las siguientes celdas para instalar yfinance si hace falta (en google colab no es necesario)"
      ]
    },
    {
      "cell_type": "code",
      "execution_count": null,
      "metadata": {
        "id": "_AJybBDJh3Nm"
      },
      "outputs": [],
      "source": [
        "#!pip install yfinance"
      ]
    },
    {
      "cell_type": "markdown",
      "metadata": {
        "id": "Eh3LbHWxljJq"
      },
      "source": [
        "### Ejercicio 1\n",
        "Supongamos que por alguna razón se han descargado datos del mismo valor por tramos temporales"
      ]
    },
    {
      "cell_type": "code",
      "execution_count": null,
      "metadata": {
        "id": "7b2xV1arsk-o"
      },
      "outputs": [],
      "source": [
        "import pandas as pd\n",
        "import yfinance as yf\n",
        "\n",
        "valor = \"GOOGL\"\n",
        "df_google_old = yf.download(valor,\n",
        "                      start='2021-01-01',\n",
        "                      end='2021-12-31')\n",
        "\n",
        "df_google = yf.download(valor,\n",
        "                      start='2022-01-01',\n",
        "                      end='2022-06-30')\n"
      ]
    },
    {
      "cell_type": "markdown",
      "metadata": {
        "id": "jf_5qYn2sw3J"
      },
      "source": [
        "Queremos \"pegar\" las filas de df_google_old al principio de df_google, y que el resultado sea llamado df_google_total. Es decir, df_google_total tendra las filas de df_google_old  seguidas por las de df_google"
      ]
    },
    {
      "cell_type": "code",
      "execution_count": null,
      "metadata": {
        "id": "fues6DbIttJ3"
      },
      "outputs": [],
      "source": [
        "# Solución\n",
        "import pandas as pd\n",
        "df_google_total = pd.concat([df_google_old, df_google])\n",
        "df_google_total"
      ]
    },
    {
      "cell_type": "markdown",
      "metadata": {
        "id": "dTLtf7A1ljXE"
      },
      "source": [
        "### Ejercicio 2\n",
        "Ejecutar el siguiente código"
      ]
    },
    {
      "cell_type": "code",
      "execution_count": null,
      "metadata": {
        "id": "QRtenB_EuHWQ"
      },
      "outputs": [],
      "source": [
        "valor = \"GOOGL\"\n",
        "df_google = yf.download(valor,\n",
        "                      start='2021-01-01',\n",
        "                      end='2021-12-31')\n",
        "\n",
        "\n",
        "df_google.reset_index(inplace=True)\n",
        "\n",
        "valor = \"NFLX\"\n",
        "df_netflix = yf.download(valor,\n",
        "                      start='2021-06-01',\n",
        "                      end='2024-06-30')\n",
        "\n",
        "df_netflix.reset_index(inplace=True)\n"
      ]
    },
    {
      "cell_type": "code",
      "execution_count": null,
      "metadata": {
        "id": "pZ64JaqUuzf4"
      },
      "outputs": [],
      "source": [
        "df_google"
      ]
    },
    {
      "cell_type": "code",
      "execution_count": null,
      "metadata": {
        "id": "559uCha0u_rf"
      },
      "outputs": [],
      "source": [
        "df_netflix"
      ]
    },
    {
      "cell_type": "markdown",
      "metadata": {
        "id": "QZI1nhceiAaS"
      },
      "source": [
        "Nótese que ahora la fecha no es el índice sino una columna Date. Obsérvese también que ambos conjuntos tienen algunas fechas comunes pero otras no.\n",
        "\n",
        "Combinar ambos dataframes utilizando la fecha como clave común. No queremos perder ningún dato de netflix si su fecha no aparece en df_google ni viceversa. El resultado se llamará df"
      ]
    },
    {
      "cell_type": "code",
      "execution_count": null,
      "metadata": {
        "id": "rZdNShC-wYYW"
      },
      "outputs": [],
      "source": [
        "# solución\n",
        "df = df_google.merge(df_netflix, how=\"outer\", on=[\"Date\"], suffixes=[\"_Google\",\"_Netflix\"])\n",
        "df"
      ]
    },
    {
      "cell_type": "code",
      "source": [],
      "metadata": {
        "id": "Ivbs7kMIDZaK"
      },
      "execution_count": null,
      "outputs": []
    },
    {
      "cell_type": "markdown",
      "source": [
        "### Ejercicio 3\n",
        "\n",
        "Utilizar la librería missingno para hacer una o dos gráficas que muestre la correlación entre nulos en diferentes filas"
      ],
      "metadata": {
        "id": "UJ_Sl9Vm5Qcn"
      }
    },
    {
      "cell_type": "code",
      "execution_count": null,
      "metadata": {
        "id": "qKzQ-XiBwYYX"
      },
      "outputs": [],
      "source": [
        "import missingno as msno\n",
        "msno.bar(df)"
      ]
    },
    {
      "cell_type": "code",
      "execution_count": null,
      "metadata": {
        "id": "Rq-S1bcDwYYX"
      },
      "outputs": [],
      "source": [
        "msno.matrix(df)"
      ]
    },
    {
      "cell_type": "code",
      "source": [
        "msno.heatmap(df)"
      ],
      "metadata": {
        "id": "cBpvgdc1FCij"
      },
      "execution_count": null,
      "outputs": []
    },
    {
      "cell_type": "markdown",
      "metadata": {
        "id": "mAczhc3WxSqn"
      },
      "source": [
        "### Ejercicio 4\n",
        "En df_google queremos ver visualmente la relación entre el incremento diarío y el Volumen"
      ]
    },
    {
      "cell_type": "code",
      "execution_count": null,
      "metadata": {
        "id": "RQHbqItCxna_"
      },
      "outputs": [],
      "source": [
        "valor = \"GOOGL\"\n",
        "df_google = yf.download(valor,  start='2021-06-01',  end='2021-06-30')\n",
        "df_google[\"inc\"] = (df_google[\"Close\"]-df_google[\"Open\"])/df_google[\"Open\"]\n",
        "df2 = df_google[ [\"inc\",\"Volume\"] ]\n",
        "df2.plot()"
      ]
    },
    {
      "cell_type": "markdown",
      "metadata": {
        "id": "hFuQDKKxxz_K"
      },
      "source": [
        "Sin embargo vemos que el valor `inc` es muy pequeño comparado con el de `Volume`. Escalar f2 para poder ver mejor esta gráfica"
      ]
    },
    {
      "cell_type": "code",
      "source": [
        "# solución\n",
        "df2.hist(bins=30)"
      ],
      "metadata": {
        "id": "wQsM3rjt7CXT"
      },
      "execution_count": null,
      "outputs": []
    },
    {
      "cell_type": "code",
      "source": [
        "from sklearn.preprocessing import MinMaxScaler\n",
        "\n",
        "metodo = MinMaxScaler()\n",
        "escalador = metodo.fit(df2)\n",
        "escalados = escalador.transform(df2)\n",
        "df3 = pd.DataFrame(escalados,columns=df2.columns)\n",
        "df3"
      ],
      "metadata": {
        "id": "LQQTtRJfFvek"
      },
      "execution_count": null,
      "outputs": []
    },
    {
      "cell_type": "code",
      "source": [
        "\n",
        "\n",
        "df3.plot()"
      ],
      "metadata": {
        "id": "0_QXkNGHGJFu"
      },
      "execution_count": null,
      "outputs": []
    },
    {
      "cell_type": "code",
      "source": [
        "import matplotlib.pyplot as plt\n",
        "\n",
        "df_google.inc.plot()\n",
        "plt.title(\"Incrementos diarios\")\n",
        "plt.show()"
      ],
      "metadata": {
        "id": "epseak39Gf0B"
      },
      "execution_count": null,
      "outputs": []
    }
  ],
  "metadata": {
    "colab": {
      "provenance": [],
      "include_colab_link": true
    },
    "kernelspec": {
      "display_name": "Python 3 (ipykernel)",
      "language": "python",
      "name": "python3"
    },
    "language_info": {
      "codemirror_mode": {
        "name": "ipython",
        "version": 3
      },
      "file_extension": ".py",
      "mimetype": "text/x-python",
      "name": "python",
      "nbconvert_exporter": "python",
      "pygments_lexer": "ipython3",
      "version": "3.12.4"
    }
  },
  "nbformat": 4,
  "nbformat_minor": 0
}