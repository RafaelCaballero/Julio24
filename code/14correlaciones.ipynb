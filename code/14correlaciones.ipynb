{
  "cells": [
    {
      "cell_type": "markdown",
      "metadata": {
        "id": "view-in-github",
        "colab_type": "text"
      },
      "source": [
        "<a href=\"https://colab.research.google.com/github/RafaelCaballero/Julio24/blob/main/code/14correlaciones.ipynb\" target=\"_parent\"><img src=\"https://colab.research.google.com/assets/colab-badge.svg\" alt=\"Open In Colab\"/></a>"
      ]
    },
    {
      "cell_type": "markdown",
      "metadata": {
        "id": "j74xuBbd3KiW"
      },
      "source": [
        "# Introducción a la ciencia de datos con Python\n",
        "### Rafa Caballero\n",
        "\n",
        "\n",
        "\n",
        "# Correlaciones\n",
        "\n",
        "\n",
        "\n",
        "### Índice\n",
        "[Introducción](#Introducción)<br>\n",
        "[Definición](#Definición)<br>\n",
        "[Ejemplo](#Ejemplo)<br>\n",
        "[A tener en cuenta](#Dibujar)<br>\n",
        "[Representación gráfica](#Representación)<br>\n",
        "[Variables nominales](#Nominales)<br>\n",
        "[Bibliografía](#Bibliografía)<br>\n",
        "\n",
        "\n",
        "<a name=\"Intro\"></a>\n",
        "## Introducción\n",
        "Hasta ahora hemos considerado cada columna (cada variable) de forma independiente, viendo histogramas, outliers, etc. de forma individual. Solo hemos comparado columnas por ejemplo al hablar de los tests que nos permiten ver si tienen la misma media o si son muestras de la misma variable.\n",
        "\n",
        "Ahora vamos a estudiar la *correlación* entre las columnas por pares. La idea es ver si dos variables tienen *relación lineal*: si cuando una crece la otra en general también (correlación positiva) o si cuando una crece la otra decrece (correlación negativa).\n",
        "\n",
        "Una correlación alta indica que las variables están muy relacionadas (contienen información muy similar). Esto implica:\n",
        "\n",
        "- Si una de las variables es una variable a predecir se podrá hacer muy bien a partir de la otra (por ejemplo con regresión lineal)\n",
        "\n",
        "- Si las dos variables son características de un objeto puede que nos interese quitar una porque estamos \"reforzando\" o \"duplicando\" la misma información y eso puede tener influencia negativa en algunos métodos de aprendizaje automático.\n",
        "\n",
        "Para más detalles ver la [bibliografía](#Bibliografía)\n",
        "\n",
        "<a name=\"Definición\"></a>\n",
        "## Definición\n",
        "\n",
        "Para estudiar la correlación entre dos variables se suele utilizar el *coeficiente de correlación de Pearson*\n",
        "\n",
        "$$\n",
        "r = \\frac{\\sum(x_i - \\overline{x})(y_i - \\overline{y})}{\\sum(x_i - \\overline{x})^2(y_i - \\overline{y})^2}\n",
        "$$\n",
        "\n",
        "Es un valor que está entre -1 y +1. Algunos ejemplos:\n",
        "\n",
        "\n",
        "<img src=\"https://www.statlect.com/images/linear-correlation-coefficient.png\" />\n",
        "\n",
        "<a name=\"Ejemplo\"></a>\n",
        "## Ejemplo\n",
        "Por fortuna no tenemos que calcular las correlaciones; Pandas ya incluye un método [df.corr](https://pandas.pydata.org/docs/reference/api/pandas.DataFrame.corr.html)\n",
        "\n",
        "Supongamos que queremos saber qué dos comunidades tienen mayor correlación en sus datos de paro"
      ]
    },
    {
      "cell_type": "code",
      "execution_count": null,
      "metadata": {
        "id": "lQWAJCdb3KiX"
      },
      "outputs": [],
      "source": [
        "import pandas as pd\n",
        "url = \"https://raw.githubusercontent.com/RafaelCaballero/tdm/master/datos/parocomunidades.csv\"\n",
        "\n",
        "\n",
        "df = pd.read_csv(url, encoding=\"latin1\")\n",
        "df[\"Comunidad\"]  = \tdf[\"Comunidad\"].str.strip()\n",
        "df"
      ]
    },
    {
      "cell_type": "markdown",
      "metadata": {
        "id": "wKDQWMkW3KiX"
      },
      "source": [
        "Vaya...las comunidades deberían ser columnas, qué hacer?"
      ]
    },
    {
      "cell_type": "code",
      "execution_count": null,
      "metadata": {
        "id": "jG5m7zsu3KiX"
      },
      "outputs": [],
      "source": [
        "df_ancho = df.pivot(index='Periodo', columns='Comunidad', values='Total')\n",
        "df_ancho"
      ]
    },
    {
      "cell_type": "code",
      "source": [
        "df_ancho.columns"
      ],
      "metadata": {
        "id": "XZ7Z36vk3pWR"
      },
      "execution_count": null,
      "outputs": []
    },
    {
      "cell_type": "code",
      "execution_count": null,
      "metadata": {
        "id": "FkZy97bD3KiY"
      },
      "outputs": [],
      "source": [
        "correlaciones = df_ancho.corr()\n",
        "correlaciones"
      ]
    },
    {
      "cell_type": "markdown",
      "metadata": {
        "id": "M7O9Ippx3KiY"
      },
      "source": [
        "¿Entre qué dos comunidades diferentes hay mayor correlación? ¿y menos?"
      ]
    },
    {
      "cell_type": "code",
      "execution_count": null,
      "metadata": {
        "id": "o1sqPrVq3KiY"
      },
      "outputs": [],
      "source": []
    },
    {
      "cell_type": "markdown",
      "metadata": {
        "id": "adeElgbN3KiY"
      },
      "source": [
        "<a name=\"Dibujar\"></a>\n",
        "## A tener en cuenta\n",
        "\n",
        "En el caso de las correlaciones (como en todos) no hay que precipitarse en sacar conclusiones. En particular:\n",
        "\n",
        "- Que haya correlación no significa que los valores sean \"parecidos\" sino que se mueven a la vez (en la misma dirección o contraria)\n",
        "\n",
        "- Correlación no implica causalidad, en ocasiones puede haber otra variable que esté \"moviendo\" las dos variables correlaciones\n",
        "\n",
        "- Ya hemos visto que puede haber correlación de otros tipos que no está detectada por nuestro método (la correlación de Pearson); pero es que también sucede al revés, podemos encontrar correlación y que no signifique lo que creemos:\n",
        "\n",
        "<img src=\"https://github.com/RafaelCaballero/tdm/raw/master/images/Situations-in-which-linear-correlation-should-not-be-used-a-two-variables-have-a.png\" />"
      ]
    },
    {
      "cell_type": "markdown",
      "metadata": {
        "id": "yzx6BvT23KiY"
      },
      "source": [
        "Vamos a mostrar los datos de las dos comunidades más correlacionadas a ver si es uno de estos casos:"
      ]
    },
    {
      "cell_type": "code",
      "execution_count": null,
      "metadata": {
        "id": "_2gcIAtG3KiY"
      },
      "outputs": [],
      "source": [
        "from matplotlib import pyplot as plt\n",
        "fig, ax = plt.subplots(figsize=(10, 6))\n",
        "\n",
        "ax.scatter(df_ancho[\"Comunitat Valenciana\"],df_ancho['Murcia, Región de'])\n",
        "ax.plot([0,30],[0,30],color=\"red\")\n",
        "plt.show()"
      ]
    },
    {
      "cell_type": "code",
      "execution_count": null,
      "metadata": {
        "id": "w_Rrek5d3KiY"
      },
      "outputs": [],
      "source": [
        "# otra forma\n",
        "fig, ax = plt.subplots(figsize=(10, 6))\n",
        "cs = [\"Comunitat Valenciana\",'Murcia, Región de']\n",
        "for c in cs:\n",
        "    df_ancho[c].plot(ax=ax,label=c)\n",
        "ax.legend()\n",
        "plt.show()"
      ]
    },
    {
      "cell_type": "markdown",
      "metadata": {
        "id": "2sqgbk-f3KiY"
      },
      "source": [
        "<a name=\"Representación\"></a>\n",
        "## Representación\n",
        "\n",
        "La tabla de correlaciones se puede mostrar de forma más informativa, veamos cómo:"
      ]
    },
    {
      "cell_type": "code",
      "execution_count": null,
      "metadata": {
        "id": "m4SlGSOO3KiY"
      },
      "outputs": [],
      "source": [
        "\n",
        "correlaciones.style.background_gradient()"
      ]
    },
    {
      "cell_type": "markdown",
      "metadata": {
        "id": "XCpl2bHC3KiY"
      },
      "source": [
        "Con seaborn"
      ]
    },
    {
      "cell_type": "code",
      "execution_count": null,
      "metadata": {
        "id": "_IIspPfJ3KiY"
      },
      "outputs": [],
      "source": [
        "import seaborn as sns\n",
        "plt.figure(figsize=(11,8))\n",
        "sns.heatmap(correlaciones, cmap=\"Greens\",annot=True)\n",
        "plt.show()"
      ]
    },
    {
      "cell_type": "markdown",
      "metadata": {
        "id": "9FfrhDZ93KiZ"
      },
      "source": [
        "Hay otras posibilidades más complejas que por ejemplo crean grupos (clústers) de columnas correlacionados"
      ]
    },
    {
      "cell_type": "code",
      "execution_count": null,
      "metadata": {
        "id": "Ptb9GzAM3KiZ"
      },
      "outputs": [],
      "source": [
        "import seaborn as sns\n",
        "import matplotlib.pyplot as plt\n",
        "\n",
        "g = sns.clustermap(df_ancho.corr(),\n",
        "                   method = 'complete',\n",
        "                   cmap   = 'RdBu',\n",
        "                   annot  = True,\n",
        "                   annot_kws = {'size': 8})"
      ]
    },
    {
      "cell_type": "markdown",
      "metadata": {
        "id": "_zrLqrgK3KiZ"
      },
      "source": [
        "Si se quieren ver las gráficas una a una (ojo, tarda mucho):"
      ]
    },
    {
      "cell_type": "code",
      "execution_count": null,
      "metadata": {
        "id": "AEPIijuH3KiZ"
      },
      "outputs": [],
      "source": [
        "sns.pairplot(df_ancho.corr())"
      ]
    },
    {
      "cell_type": "code",
      "execution_count": null,
      "metadata": {
        "id": "TwrKNVs93KiZ"
      },
      "outputs": [],
      "source": []
    },
    {
      "cell_type": "markdown",
      "metadata": {
        "id": "7nRT6gXx3KiZ"
      },
      "source": [
        "<a name=\"Nominales\"></a>\n",
        "## Variables nominales\n",
        "\n",
        "Si una variable es nominal/ordinal y la otra intervalo/ratio lo que se haría es convertir la variable nominal a números (ya veremos como) y usar correlación normal.\n",
        "\n",
        "En el caso de dos variables \"categóricas\" (nominales u ordinales) podemos utilizar el test de la  $\\mathcal{X}^2$ (chi-squared en inglés). Al ser un test solo dice si hay asociación o no, no cuánta (es mejor hablar de *asociación* dejando el término *correlación* para variables numéricas)\n",
        "\n",
        "En este test $H_0$ = No hay asociación entre las variables.\n",
        "\n",
        "Por tantp, si $p<0.05$ rechazaremos $H_0$ y diremos que hay asociación entre las variables con alta probabilidad, en otro caso no podemos asegurar que no exista asociación (ni que sí).\n",
        "\n",
        "Ejemplo:"
      ]
    },
    {
      "cell_type": "code",
      "execution_count": null,
      "metadata": {
        "id": "DpJETv-X3KiZ"
      },
      "outputs": [],
      "source": [
        "import pandas as pd\n",
        "url = \"https://github.com/RafaelCaballero/tdm/raw/master/datos/Ventas%20Videojuegos.xlsx\"\n",
        "df = pd.read_excel(url)\n",
        "df"
      ]
    },
    {
      "cell_type": "code",
      "execution_count": null,
      "metadata": {
        "id": "G_gjii8v3KiZ"
      },
      "outputs": [],
      "source": [
        "# las 5 plataformas más comunes\n",
        "df2 = df[df.Plataforma.isin(df.Plataforma.value_counts()[0:5].index)]\n",
        "df2"
      ]
    },
    {
      "cell_type": "markdown",
      "metadata": {
        "id": "VHq3gtI83KiZ"
      },
      "source": [
        "¿Están relacionados el género y la plataforma?\n",
        "\n",
        "El primer paso es obtener la *tabla de contingencias* de las dos variables"
      ]
    },
    {
      "cell_type": "code",
      "execution_count": null,
      "metadata": {
        "id": "qZ01oxsS3KiZ"
      },
      "outputs": [],
      "source": [
        "contingencias=pd.crosstab(index=df2.Plataforma,columns=df2.Genero)\n",
        "contingencias"
      ]
    },
    {
      "cell_type": "markdown",
      "metadata": {
        "id": "gK_LJqSr3KiZ"
      },
      "source": [
        "Es sobre esta tabla sobre la que hacemos el test:\n"
      ]
    },
    {
      "cell_type": "code",
      "execution_count": null,
      "metadata": {
        "id": "nZ-yNDkK3KiZ"
      },
      "outputs": [],
      "source": [
        "from scipy.stats import chi2_contingency\n",
        "\n",
        "# este es el test\n",
        "ChiSqResult = chi2_contingency(contingencias)\n",
        "ChiSqResult"
      ]
    },
    {
      "cell_type": "code",
      "execution_count": null,
      "metadata": {
        "id": "tH0C7a7T3KiZ"
      },
      "outputs": [],
      "source": [
        "p = ChiSqResult[1]\n",
        "p"
      ]
    },
    {
      "cell_type": "markdown",
      "metadata": {
        "id": "Z_fuHrNc3KiZ"
      },
      "source": [
        "Como p es < 0.01 rechazamos la hipótesis nula; sí hay asociación entre las variables.\n",
        "\n",
        "El método no nos dice qué tipo de relación, pero podemos verlo en a tabla de contingencias normalizada"
      ]
    },
    {
      "cell_type": "code",
      "execution_count": null,
      "metadata": {
        "id": "8Ba5ccFY3Kia"
      },
      "outputs": [],
      "source": [
        "pd.crosstab(index=df2.Plataforma,columns=df2.Genero, normalize=0) # por filas"
      ]
    },
    {
      "cell_type": "markdown",
      "metadata": {
        "id": "Wd8jsxFV3Kia"
      },
      "source": [
        "Otro ejemplo tomado de [aquí](https://thinkingneuron.com/how-to-measure-the-correlation-between-two-categorical-variables-in-python/)"
      ]
    },
    {
      "cell_type": "code",
      "execution_count": null,
      "metadata": {
        "id": "hIHR1yen3Kia"
      },
      "outputs": [],
      "source": [
        "\n",
        "import pandas as pd\n",
        "ColumnNames=['AGE','GENDER' ,'SALARY', 'APPROVE_LOAN']\n",
        "DataValues=[ [28, 'M', 610000, 'Yes'],\n",
        "             [42, 'M',140000, 'No'],\n",
        "             [29, 'F',420000, 'No'],\n",
        "             [30, 'M',420000, 'No'],\n",
        "             [27, 'M',420000, 'No'],\n",
        "             [34, 'F',190000, 'No'],\n",
        "             [24, 'M',330000, 'Yes'],\n",
        "             [34, 'M',160000, 'Yes'],\n",
        "             [25, 'F',300000, 'Yes'],\n",
        "             [34, 'M',450000, 'Yes'],\n",
        "             [30, 'F',140000, 'Yes'],\n",
        "             [33, 'M',600000, 'Yes'],\n",
        "             [22, 'M',400000, 'Yes'],\n",
        "             [25, 'F',490000, 'Yes'],\n",
        "             [32, 'M',120000, 'Yes'],\n",
        "             [29, 'F',360000, 'Yes'],\n",
        "             [30, 'M',480000, 'Yes'],\n",
        "             [29, 'F',460000, 'Yes'],\n",
        "             [32, 'M',470000, 'Yes'],\n",
        "             [28, 'M',400000, 'Yes']]\n",
        "LoanData=pd.DataFrame(data=DataValues,columns=ColumnNames)\n",
        "LoanData"
      ]
    },
    {
      "cell_type": "markdown",
      "metadata": {
        "id": "leJzooZL3Kia"
      },
      "source": [
        "¿Hay relación entre el sexo y que concedan el préstamo?"
      ]
    },
    {
      "cell_type": "code",
      "execution_count": null,
      "metadata": {
        "id": "rQmVRcn53Kia"
      },
      "outputs": [],
      "source": [
        "from scipy.stats import chi2_contingency\n",
        "\n",
        "contingencias=pd.crosstab(index=LoanData.GENDER,columns=LoanData.APPROVE_LOAN)\n",
        "ChiSqResult = chi2_contingency(contingencias)\n",
        "ChiSqResult[1]"
      ]
    },
    {
      "cell_type": "markdown",
      "metadata": {
        "id": "-QyuqoeM3Kia"
      },
      "source": [
        "Por tanto no podemos descartar que no haya asociación. Veamos un último caso:"
      ]
    },
    {
      "cell_type": "code",
      "execution_count": null,
      "metadata": {
        "id": "oDYroZzq3Kia"
      },
      "outputs": [],
      "source": [
        "df2 = LoanData.copy()\n",
        "df2[\"GENDER\"] = LoanData.apply(lambda x: \"M\" if x[\"APPROVE_LOAN\"]==\"Yes\" else \"F\",axis=1)\n",
        "contingencias=pd.crosstab(index=df2.GENDER,columns=df2.APPROVE_LOAN)\n",
        "ChiSqResult = chi2_contingency(contingencias)\n",
        "ChiSqResult[1]"
      ]
    },
    {
      "cell_type": "markdown",
      "metadata": {
        "id": "dxowR2tj3Kia"
      },
      "source": [
        " La desventaja es que no vemos entre qué valores es la asociación, solo que existe.\n",
        "\n",
        "\n"
      ]
    },
    {
      "cell_type": "markdown",
      "metadata": {
        "id": "LIP57nO63Kia"
      },
      "source": [
        "<a name=\"Bibliografía\"></a>\n",
        "## Bibliografía\n",
        "\n",
        "\n",
        "Una explicación matemática sencilla de donde he tomado alguna imagen:\n",
        "*Taboga, Marco (2021). \"Linear correlation\", Lectures on probability theory and mathematical statistics. Kindle Direct Publishing. Online appendix.* https://www.statlect.com/fundamentals-of-probability/linear-correlation.\n",
        "\n",
        "\n",
        "\n",
        "Sobre correlación y causalidad:\n",
        " [Why correlation does not imply causation?](https://medium.com/@seema.singh/why-correlation-does-not-imply-causation-5b99790df07e)\n",
        "\n",
        "\n",
        "\n",
        "Descripción de los distintos tipos de tests para variables categóricas y numéricas:\n",
        "*Data Preprocessing in Data Mining*. Intelligent Systems Reference Library №72. Salvador García, Julián Luengo, Francisco Herrera. Spring, 2015.  Ver en particular: *3.2.1 Finding Redundant Attributes*\n",
        "\n"
      ]
    },
    {
      "cell_type": "code",
      "execution_count": null,
      "metadata": {
        "id": "aeJUG7az3Kia"
      },
      "outputs": [],
      "source": []
    },
    {
      "cell_type": "code",
      "execution_count": null,
      "metadata": {
        "id": "xhyXJPHQ3Kia"
      },
      "outputs": [],
      "source": []
    }
  ],
  "metadata": {
    "kernelspec": {
      "display_name": "Python 3 (ipykernel)",
      "language": "python",
      "name": "python3"
    },
    "language_info": {
      "codemirror_mode": {
        "name": "ipython",
        "version": 3
      },
      "file_extension": ".py",
      "mimetype": "text/x-python",
      "name": "python",
      "nbconvert_exporter": "python",
      "pygments_lexer": "ipython3",
      "version": "3.9.12"
    },
    "colab": {
      "provenance": [],
      "include_colab_link": true
    }
  },
  "nbformat": 4,
  "nbformat_minor": 0
}