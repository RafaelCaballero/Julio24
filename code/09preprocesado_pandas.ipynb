{
  "cells": [
    {
      "cell_type": "markdown",
      "metadata": {
        "id": "view-in-github",
        "colab_type": "text"
      },
      "source": [
        "<a href=\"https://colab.research.google.com/github/RafaelCaballero/Julio24/blob/main/code/09preprocesado_pandas.ipynb\" target=\"_parent\"><img src=\"https://colab.research.google.com/assets/colab-badge.svg\" alt=\"Open In Colab\"/></a>"
      ]
    },
    {
      "cell_type": "markdown",
      "metadata": {
        "id": "Zj_n2gLkzmUI"
      },
      "source": [
        "# Introducción a la ciencia de datos con Python\n",
        "### Rafa Caballero\n",
        "\n",
        "##  Preprocesado\n",
        "\n",
        "Veamos cómo se pueden utilizar las características de Pandas para preprocesado básico de los datos\n",
        "\n",
        "\n",
        "\n",
        "### Índice\n",
        "[Duplicados](#Duplicados)<br>\n",
        "[Ver nulos](#Ver-nulos)<br>\n",
        "[Eliminar nulos](#Eliminar-nulos)<br>\n",
        "[Tranformación de valores](#Tranformación-de-valores)<br>\n",
        "[Normalización y estandarización](#normalizacion)<br>\n"
      ]
    },
    {
      "cell_type": "markdown",
      "metadata": {
        "id": "chMyb2sOzmUK"
      },
      "source": [
        "<a name=\"Duplicados\"></a>\n",
        "### Duplicados\n",
        "\n",
        "A menudo nos interesaría eliminar datos duplicados ya sean filas o columnas que pueden influir negativamente en nuestros resultados."
      ]
    },
    {
      "cell_type": "code",
      "execution_count": null,
      "metadata": {
        "id": "wbiN_aiizmUL"
      },
      "outputs": [],
      "source": [
        "import pandas as pd\n",
        "\n",
        "data = pd.DataFrame({'k1': ['a'] * 3 + ['b'] * 4,\n",
        "                  'k2': [1, 1, 2, 3, 3, 4, 4]})\n",
        "data"
      ]
    },
    {
      "cell_type": "markdown",
      "metadata": {
        "id": "3FeFI008zmUN"
      },
      "source": [
        "El método `duplicated` devuelve una serie de booleanos que indican si la fila correspondiente está duplicada"
      ]
    },
    {
      "cell_type": "code",
      "execution_count": null,
      "metadata": {
        "id": "uLFV02y9zmUO"
      },
      "outputs": [],
      "source": [
        "data.duplicated()"
      ]
    },
    {
      "cell_type": "markdown",
      "metadata": {
        "id": "LeK5bNFIzmUP"
      },
      "source": [
        "Vemos que tiene toda la apariencia de un filtro; ahora es fácil eliminar duplicados usando el operador not para arrays ~"
      ]
    },
    {
      "cell_type": "code",
      "execution_count": null,
      "metadata": {
        "id": "1NsgQF_9zmUP"
      },
      "outputs": [],
      "source": [
        "data[~data.duplicated()]"
      ]
    },
    {
      "cell_type": "markdown",
      "metadata": {
        "id": "aixHt-QCzmUQ"
      },
      "source": [
        "Otra forma de hacerlo"
      ]
    },
    {
      "cell_type": "code",
      "execution_count": null,
      "metadata": {
        "id": "tUSgEOZqzmUR"
      },
      "outputs": [],
      "source": [
        "data.drop_duplicates()"
      ]
    },
    {
      "cell_type": "markdown",
      "metadata": {
        "id": "YDjlR1i5zmUR"
      },
      "source": [
        "Se puede limitar el borrado a ciertas columnas"
      ]
    },
    {
      "cell_type": "code",
      "execution_count": null,
      "metadata": {
        "id": "bRTOs1kzzmUS"
      },
      "outputs": [],
      "source": [
        "data['v1'] = range(7)\n",
        "data"
      ]
    },
    {
      "cell_type": "code",
      "execution_count": null,
      "metadata": {
        "id": "UBNHVhk0zmUS"
      },
      "outputs": [],
      "source": [
        "data.drop_duplicates(['k1'])"
      ]
    },
    {
      "cell_type": "markdown",
      "metadata": {
        "id": "yZab6zpTissY"
      },
      "source": [
        "<a name=\"Ver-nulos\"></a>\n",
        "### Ver nulos"
      ]
    },
    {
      "cell_type": "markdown",
      "metadata": {
        "id": "2d-CCfuEzmUU"
      },
      "source": [
        "Lo primero que hay que indicar es que en general los valores NaN/missing/nulos no son un problema para Pandas, la mayoría de las funciones los aceptan sin problemas.\n",
        "\n",
        "Sin embargo, en la librería de machine learning `sklearn` sí puede dar error, por lo que puede que queramos eliminarlos.\n",
        "\n",
        "Empezamos creando un ejemplo:"
      ]
    },
    {
      "cell_type": "code",
      "execution_count": 1,
      "metadata": {
        "id": "wolfaa7vzmUU",
        "outputId": "e9c9cba4-380f-40fc-e235-ff8bc5920d88",
        "colab": {
          "base_uri": "https://localhost:8080/",
          "height": 268
        }
      },
      "outputs": [
        {
          "output_type": "execute_result",
          "data": {
            "text/plain": [
              "          A           B         C    D     E   F\n",
              "0  601166.0  20111231.0  601166.0  NaN   NaN NaN\n",
              "1  600036.0  20111231.0  600036.0  NaN  12.0 NaN\n",
              "2  600016.0  20111231.0  600016.0  4.3   NaN NaN\n",
              "3  601009.0  20111231.0  601009.0  NaN   NaN NaN\n",
              "4  601939.0  20111231.0  601939.0  2.5   8.0 NaN\n",
              "5  100001.0  20111231.0  100001.0  NaN   NaN NaN\n",
              "6       NaN         NaN       NaN  NaN   NaN NaN"
            ],
            "text/html": [
              "\n",
              "  <div id=\"df-039652e9-9e9f-4d9f-92d6-5d02c1277235\" class=\"colab-df-container\">\n",
              "    <div>\n",
              "<style scoped>\n",
              "    .dataframe tbody tr th:only-of-type {\n",
              "        vertical-align: middle;\n",
              "    }\n",
              "\n",
              "    .dataframe tbody tr th {\n",
              "        vertical-align: top;\n",
              "    }\n",
              "\n",
              "    .dataframe thead th {\n",
              "        text-align: right;\n",
              "    }\n",
              "</style>\n",
              "<table border=\"1\" class=\"dataframe\">\n",
              "  <thead>\n",
              "    <tr style=\"text-align: right;\">\n",
              "      <th></th>\n",
              "      <th>A</th>\n",
              "      <th>B</th>\n",
              "      <th>C</th>\n",
              "      <th>D</th>\n",
              "      <th>E</th>\n",
              "      <th>F</th>\n",
              "    </tr>\n",
              "  </thead>\n",
              "  <tbody>\n",
              "    <tr>\n",
              "      <th>0</th>\n",
              "      <td>601166.0</td>\n",
              "      <td>20111231.0</td>\n",
              "      <td>601166.0</td>\n",
              "      <td>NaN</td>\n",
              "      <td>NaN</td>\n",
              "      <td>NaN</td>\n",
              "    </tr>\n",
              "    <tr>\n",
              "      <th>1</th>\n",
              "      <td>600036.0</td>\n",
              "      <td>20111231.0</td>\n",
              "      <td>600036.0</td>\n",
              "      <td>NaN</td>\n",
              "      <td>12.0</td>\n",
              "      <td>NaN</td>\n",
              "    </tr>\n",
              "    <tr>\n",
              "      <th>2</th>\n",
              "      <td>600016.0</td>\n",
              "      <td>20111231.0</td>\n",
              "      <td>600016.0</td>\n",
              "      <td>4.3</td>\n",
              "      <td>NaN</td>\n",
              "      <td>NaN</td>\n",
              "    </tr>\n",
              "    <tr>\n",
              "      <th>3</th>\n",
              "      <td>601009.0</td>\n",
              "      <td>20111231.0</td>\n",
              "      <td>601009.0</td>\n",
              "      <td>NaN</td>\n",
              "      <td>NaN</td>\n",
              "      <td>NaN</td>\n",
              "    </tr>\n",
              "    <tr>\n",
              "      <th>4</th>\n",
              "      <td>601939.0</td>\n",
              "      <td>20111231.0</td>\n",
              "      <td>601939.0</td>\n",
              "      <td>2.5</td>\n",
              "      <td>8.0</td>\n",
              "      <td>NaN</td>\n",
              "    </tr>\n",
              "    <tr>\n",
              "      <th>5</th>\n",
              "      <td>100001.0</td>\n",
              "      <td>20111231.0</td>\n",
              "      <td>100001.0</td>\n",
              "      <td>NaN</td>\n",
              "      <td>NaN</td>\n",
              "      <td>NaN</td>\n",
              "    </tr>\n",
              "    <tr>\n",
              "      <th>6</th>\n",
              "      <td>NaN</td>\n",
              "      <td>NaN</td>\n",
              "      <td>NaN</td>\n",
              "      <td>NaN</td>\n",
              "      <td>NaN</td>\n",
              "      <td>NaN</td>\n",
              "    </tr>\n",
              "  </tbody>\n",
              "</table>\n",
              "</div>\n",
              "    <div class=\"colab-df-buttons\">\n",
              "\n",
              "  <div class=\"colab-df-container\">\n",
              "    <button class=\"colab-df-convert\" onclick=\"convertToInteractive('df-039652e9-9e9f-4d9f-92d6-5d02c1277235')\"\n",
              "            title=\"Convert this dataframe to an interactive table.\"\n",
              "            style=\"display:none;\">\n",
              "\n",
              "  <svg xmlns=\"http://www.w3.org/2000/svg\" height=\"24px\" viewBox=\"0 -960 960 960\">\n",
              "    <path d=\"M120-120v-720h720v720H120Zm60-500h600v-160H180v160Zm220 220h160v-160H400v160Zm0 220h160v-160H400v160ZM180-400h160v-160H180v160Zm440 0h160v-160H620v160ZM180-180h160v-160H180v160Zm440 0h160v-160H620v160Z\"/>\n",
              "  </svg>\n",
              "    </button>\n",
              "\n",
              "  <style>\n",
              "    .colab-df-container {\n",
              "      display:flex;\n",
              "      gap: 12px;\n",
              "    }\n",
              "\n",
              "    .colab-df-convert {\n",
              "      background-color: #E8F0FE;\n",
              "      border: none;\n",
              "      border-radius: 50%;\n",
              "      cursor: pointer;\n",
              "      display: none;\n",
              "      fill: #1967D2;\n",
              "      height: 32px;\n",
              "      padding: 0 0 0 0;\n",
              "      width: 32px;\n",
              "    }\n",
              "\n",
              "    .colab-df-convert:hover {\n",
              "      background-color: #E2EBFA;\n",
              "      box-shadow: 0px 1px 2px rgba(60, 64, 67, 0.3), 0px 1px 3px 1px rgba(60, 64, 67, 0.15);\n",
              "      fill: #174EA6;\n",
              "    }\n",
              "\n",
              "    .colab-df-buttons div {\n",
              "      margin-bottom: 4px;\n",
              "    }\n",
              "\n",
              "    [theme=dark] .colab-df-convert {\n",
              "      background-color: #3B4455;\n",
              "      fill: #D2E3FC;\n",
              "    }\n",
              "\n",
              "    [theme=dark] .colab-df-convert:hover {\n",
              "      background-color: #434B5C;\n",
              "      box-shadow: 0px 1px 3px 1px rgba(0, 0, 0, 0.15);\n",
              "      filter: drop-shadow(0px 1px 2px rgba(0, 0, 0, 0.3));\n",
              "      fill: #FFFFFF;\n",
              "    }\n",
              "  </style>\n",
              "\n",
              "    <script>\n",
              "      const buttonEl =\n",
              "        document.querySelector('#df-039652e9-9e9f-4d9f-92d6-5d02c1277235 button.colab-df-convert');\n",
              "      buttonEl.style.display =\n",
              "        google.colab.kernel.accessAllowed ? 'block' : 'none';\n",
              "\n",
              "      async function convertToInteractive(key) {\n",
              "        const element = document.querySelector('#df-039652e9-9e9f-4d9f-92d6-5d02c1277235');\n",
              "        const dataTable =\n",
              "          await google.colab.kernel.invokeFunction('convertToInteractive',\n",
              "                                                    [key], {});\n",
              "        if (!dataTable) return;\n",
              "\n",
              "        const docLinkHtml = 'Like what you see? Visit the ' +\n",
              "          '<a target=\"_blank\" href=https://colab.research.google.com/notebooks/data_table.ipynb>data table notebook</a>'\n",
              "          + ' to learn more about interactive tables.';\n",
              "        element.innerHTML = '';\n",
              "        dataTable['output_type'] = 'display_data';\n",
              "        await google.colab.output.renderOutput(dataTable, element);\n",
              "        const docLink = document.createElement('div');\n",
              "        docLink.innerHTML = docLinkHtml;\n",
              "        element.appendChild(docLink);\n",
              "      }\n",
              "    </script>\n",
              "  </div>\n",
              "\n",
              "\n",
              "<div id=\"df-e3e5bdc0-935f-4f90-9696-1b909e5adae7\">\n",
              "  <button class=\"colab-df-quickchart\" onclick=\"quickchart('df-e3e5bdc0-935f-4f90-9696-1b909e5adae7')\"\n",
              "            title=\"Suggest charts\"\n",
              "            style=\"display:none;\">\n",
              "\n",
              "<svg xmlns=\"http://www.w3.org/2000/svg\" height=\"24px\"viewBox=\"0 0 24 24\"\n",
              "     width=\"24px\">\n",
              "    <g>\n",
              "        <path d=\"M19 3H5c-1.1 0-2 .9-2 2v14c0 1.1.9 2 2 2h14c1.1 0 2-.9 2-2V5c0-1.1-.9-2-2-2zM9 17H7v-7h2v7zm4 0h-2V7h2v10zm4 0h-2v-4h2v4z\"/>\n",
              "    </g>\n",
              "</svg>\n",
              "  </button>\n",
              "\n",
              "<style>\n",
              "  .colab-df-quickchart {\n",
              "      --bg-color: #E8F0FE;\n",
              "      --fill-color: #1967D2;\n",
              "      --hover-bg-color: #E2EBFA;\n",
              "      --hover-fill-color: #174EA6;\n",
              "      --disabled-fill-color: #AAA;\n",
              "      --disabled-bg-color: #DDD;\n",
              "  }\n",
              "\n",
              "  [theme=dark] .colab-df-quickchart {\n",
              "      --bg-color: #3B4455;\n",
              "      --fill-color: #D2E3FC;\n",
              "      --hover-bg-color: #434B5C;\n",
              "      --hover-fill-color: #FFFFFF;\n",
              "      --disabled-bg-color: #3B4455;\n",
              "      --disabled-fill-color: #666;\n",
              "  }\n",
              "\n",
              "  .colab-df-quickchart {\n",
              "    background-color: var(--bg-color);\n",
              "    border: none;\n",
              "    border-radius: 50%;\n",
              "    cursor: pointer;\n",
              "    display: none;\n",
              "    fill: var(--fill-color);\n",
              "    height: 32px;\n",
              "    padding: 0;\n",
              "    width: 32px;\n",
              "  }\n",
              "\n",
              "  .colab-df-quickchart:hover {\n",
              "    background-color: var(--hover-bg-color);\n",
              "    box-shadow: 0 1px 2px rgba(60, 64, 67, 0.3), 0 1px 3px 1px rgba(60, 64, 67, 0.15);\n",
              "    fill: var(--button-hover-fill-color);\n",
              "  }\n",
              "\n",
              "  .colab-df-quickchart-complete:disabled,\n",
              "  .colab-df-quickchart-complete:disabled:hover {\n",
              "    background-color: var(--disabled-bg-color);\n",
              "    fill: var(--disabled-fill-color);\n",
              "    box-shadow: none;\n",
              "  }\n",
              "\n",
              "  .colab-df-spinner {\n",
              "    border: 2px solid var(--fill-color);\n",
              "    border-color: transparent;\n",
              "    border-bottom-color: var(--fill-color);\n",
              "    animation:\n",
              "      spin 1s steps(1) infinite;\n",
              "  }\n",
              "\n",
              "  @keyframes spin {\n",
              "    0% {\n",
              "      border-color: transparent;\n",
              "      border-bottom-color: var(--fill-color);\n",
              "      border-left-color: var(--fill-color);\n",
              "    }\n",
              "    20% {\n",
              "      border-color: transparent;\n",
              "      border-left-color: var(--fill-color);\n",
              "      border-top-color: var(--fill-color);\n",
              "    }\n",
              "    30% {\n",
              "      border-color: transparent;\n",
              "      border-left-color: var(--fill-color);\n",
              "      border-top-color: var(--fill-color);\n",
              "      border-right-color: var(--fill-color);\n",
              "    }\n",
              "    40% {\n",
              "      border-color: transparent;\n",
              "      border-right-color: var(--fill-color);\n",
              "      border-top-color: var(--fill-color);\n",
              "    }\n",
              "    60% {\n",
              "      border-color: transparent;\n",
              "      border-right-color: var(--fill-color);\n",
              "    }\n",
              "    80% {\n",
              "      border-color: transparent;\n",
              "      border-right-color: var(--fill-color);\n",
              "      border-bottom-color: var(--fill-color);\n",
              "    }\n",
              "    90% {\n",
              "      border-color: transparent;\n",
              "      border-bottom-color: var(--fill-color);\n",
              "    }\n",
              "  }\n",
              "</style>\n",
              "\n",
              "  <script>\n",
              "    async function quickchart(key) {\n",
              "      const quickchartButtonEl =\n",
              "        document.querySelector('#' + key + ' button');\n",
              "      quickchartButtonEl.disabled = true;  // To prevent multiple clicks.\n",
              "      quickchartButtonEl.classList.add('colab-df-spinner');\n",
              "      try {\n",
              "        const charts = await google.colab.kernel.invokeFunction(\n",
              "            'suggestCharts', [key], {});\n",
              "      } catch (error) {\n",
              "        console.error('Error during call to suggestCharts:', error);\n",
              "      }\n",
              "      quickchartButtonEl.classList.remove('colab-df-spinner');\n",
              "      quickchartButtonEl.classList.add('colab-df-quickchart-complete');\n",
              "    }\n",
              "    (() => {\n",
              "      let quickchartButtonEl =\n",
              "        document.querySelector('#df-e3e5bdc0-935f-4f90-9696-1b909e5adae7 button');\n",
              "      quickchartButtonEl.style.display =\n",
              "        google.colab.kernel.accessAllowed ? 'block' : 'none';\n",
              "    })();\n",
              "  </script>\n",
              "</div>\n",
              "\n",
              "  <div id=\"id_d0583909-e623-4379-920b-5b8ca90701f4\">\n",
              "    <style>\n",
              "      .colab-df-generate {\n",
              "        background-color: #E8F0FE;\n",
              "        border: none;\n",
              "        border-radius: 50%;\n",
              "        cursor: pointer;\n",
              "        display: none;\n",
              "        fill: #1967D2;\n",
              "        height: 32px;\n",
              "        padding: 0 0 0 0;\n",
              "        width: 32px;\n",
              "      }\n",
              "\n",
              "      .colab-df-generate:hover {\n",
              "        background-color: #E2EBFA;\n",
              "        box-shadow: 0px 1px 2px rgba(60, 64, 67, 0.3), 0px 1px 3px 1px rgba(60, 64, 67, 0.15);\n",
              "        fill: #174EA6;\n",
              "      }\n",
              "\n",
              "      [theme=dark] .colab-df-generate {\n",
              "        background-color: #3B4455;\n",
              "        fill: #D2E3FC;\n",
              "      }\n",
              "\n",
              "      [theme=dark] .colab-df-generate:hover {\n",
              "        background-color: #434B5C;\n",
              "        box-shadow: 0px 1px 3px 1px rgba(0, 0, 0, 0.15);\n",
              "        filter: drop-shadow(0px 1px 2px rgba(0, 0, 0, 0.3));\n",
              "        fill: #FFFFFF;\n",
              "      }\n",
              "    </style>\n",
              "    <button class=\"colab-df-generate\" onclick=\"generateWithVariable('df')\"\n",
              "            title=\"Generate code using this dataframe.\"\n",
              "            style=\"display:none;\">\n",
              "\n",
              "  <svg xmlns=\"http://www.w3.org/2000/svg\" height=\"24px\"viewBox=\"0 0 24 24\"\n",
              "       width=\"24px\">\n",
              "    <path d=\"M7,19H8.4L18.45,9,17,7.55,7,17.6ZM5,21V16.75L18.45,3.32a2,2,0,0,1,2.83,0l1.4,1.43a1.91,1.91,0,0,1,.58,1.4,1.91,1.91,0,0,1-.58,1.4L9.25,21ZM18.45,9,17,7.55Zm-12,3A5.31,5.31,0,0,0,4.9,8.1,5.31,5.31,0,0,0,1,6.5,5.31,5.31,0,0,0,4.9,4.9,5.31,5.31,0,0,0,6.5,1,5.31,5.31,0,0,0,8.1,4.9,5.31,5.31,0,0,0,12,6.5,5.46,5.46,0,0,0,6.5,12Z\"/>\n",
              "  </svg>\n",
              "    </button>\n",
              "    <script>\n",
              "      (() => {\n",
              "      const buttonEl =\n",
              "        document.querySelector('#id_d0583909-e623-4379-920b-5b8ca90701f4 button.colab-df-generate');\n",
              "      buttonEl.style.display =\n",
              "        google.colab.kernel.accessAllowed ? 'block' : 'none';\n",
              "\n",
              "      buttonEl.onclick = () => {\n",
              "        google.colab.notebook.generateWithVariable('df');\n",
              "      }\n",
              "      })();\n",
              "    </script>\n",
              "  </div>\n",
              "\n",
              "    </div>\n",
              "  </div>\n"
            ],
            "application/vnd.google.colaboratory.intrinsic+json": {
              "type": "dataframe",
              "variable_name": "df",
              "summary": "{\n  \"name\": \"df\",\n  \"rows\": 7,\n  \"fields\": [\n    {\n      \"column\": \"A\",\n      \"properties\": {\n        \"dtype\": \"number\",\n        \"std\": 204465.19423258,\n        \"min\": 100001.0,\n        \"max\": 601939.0,\n        \"num_unique_values\": 6,\n        \"samples\": [\n          601166.0,\n          600036.0,\n          100001.0\n        ],\n        \"semantic_type\": \"\",\n        \"description\": \"\"\n      }\n    },\n    {\n      \"column\": \"B\",\n      \"properties\": {\n        \"dtype\": \"number\",\n        \"std\": 0.0,\n        \"min\": 20111231.0,\n        \"max\": 20111231.0,\n        \"num_unique_values\": 1,\n        \"samples\": [\n          20111231.0\n        ],\n        \"semantic_type\": \"\",\n        \"description\": \"\"\n      }\n    },\n    {\n      \"column\": \"C\",\n      \"properties\": {\n        \"dtype\": \"number\",\n        \"std\": 204465.19423258,\n        \"min\": 100001.0,\n        \"max\": 601939.0,\n        \"num_unique_values\": 6,\n        \"samples\": [\n          601166.0\n        ],\n        \"semantic_type\": \"\",\n        \"description\": \"\"\n      }\n    },\n    {\n      \"column\": \"D\",\n      \"properties\": {\n        \"dtype\": \"number\",\n        \"std\": 1.2727922061357855,\n        \"min\": 2.5,\n        \"max\": 4.3,\n        \"num_unique_values\": 2,\n        \"samples\": [\n          2.5\n        ],\n        \"semantic_type\": \"\",\n        \"description\": \"\"\n      }\n    },\n    {\n      \"column\": \"E\",\n      \"properties\": {\n        \"dtype\": \"number\",\n        \"std\": 2.8284271247461903,\n        \"min\": 8.0,\n        \"max\": 12.0,\n        \"num_unique_values\": 2,\n        \"samples\": [\n          8.0\n        ],\n        \"semantic_type\": \"\",\n        \"description\": \"\"\n      }\n    },\n    {\n      \"column\": \"F\",\n      \"properties\": {\n        \"dtype\": \"number\",\n        \"std\": null,\n        \"min\": null,\n        \"max\": null,\n        \"num_unique_values\": 0,\n        \"samples\": [],\n        \"semantic_type\": \"\",\n        \"description\": \"\"\n      }\n    }\n  ]\n}"
            }
          },
          "metadata": {},
          "execution_count": 1
        }
      ],
      "source": [
        "import pandas as pd\n",
        "import numpy as np\n",
        "datos= [\n",
        "    [601166, 20111231,  601166,  np.nan,   np.nan, np.nan],\n",
        "    [600036, 20111231,  600036,  np.nan,    12, np.nan],\n",
        "    [600016, 20111231,  600016,  4.3,   np.nan, np.nan],\n",
        "    [601009, 20111231,  601009,  np.nan,   np.nan, np.nan],\n",
        "    [601939, 20111231,  601939,  2.5,  8],\n",
        "    [100001, 20111231,  100001,  np.nan,   np.nan, np.nan],\n",
        "    [np.nan, np.nan,  np.nan,  np.nan,   np.nan, np.nan]\n",
        "\n",
        "]\n",
        "\n",
        "df = pd.DataFrame(datos,columns=['A','B','C','D','E','F'])\n",
        "df"
      ]
    },
    {
      "cell_type": "markdown",
      "metadata": {
        "id": "v5RODZjhzmUU"
      },
      "source": [
        "Lo primero sería contar el número de nulos por columna"
      ]
    },
    {
      "cell_type": "code",
      "execution_count": 2,
      "metadata": {
        "id": "_8egWM8nzmUV",
        "outputId": "31122f43-9971-4a52-a105-3b6bedcab0bc",
        "colab": {
          "base_uri": "https://localhost:8080/"
        }
      },
      "outputs": [
        {
          "output_type": "execute_result",
          "data": {
            "text/plain": [
              "A    1\n",
              "B    1\n",
              "C    1\n",
              "D    5\n",
              "E    5\n",
              "F    7\n",
              "dtype: int64"
            ]
          },
          "metadata": {},
          "execution_count": 2
        }
      ],
      "source": [
        "df.isnull().sum()"
      ]
    },
    {
      "cell_type": "markdown",
      "metadata": {
        "id": "R6XtP7RczmUW"
      },
      "source": [
        "**Ejercicio 1** ¿Cómo contar el total de nulos?"
      ]
    },
    {
      "cell_type": "code",
      "execution_count": null,
      "metadata": {
        "id": "4pcX6MkOzmUW"
      },
      "outputs": [],
      "source": []
    },
    {
      "cell_type": "markdown",
      "metadata": {
        "id": "jAGrPrgLhxQS"
      },
      "source": [
        "También podemos verlo por filas con axis; axis=0 se refiere a filas y axis=1 a columnas"
      ]
    },
    {
      "cell_type": "code",
      "execution_count": 3,
      "metadata": {
        "id": "x_ecaVaBh0MP",
        "outputId": "a265a590-c725-4a0c-ecc3-80b9ea357afa",
        "colab": {
          "base_uri": "https://localhost:8080/"
        }
      },
      "outputs": [
        {
          "output_type": "execute_result",
          "data": {
            "text/plain": [
              "0    3\n",
              "1    2\n",
              "2    2\n",
              "3    3\n",
              "4    1\n",
              "5    3\n",
              "6    6\n",
              "dtype: int64"
            ]
          },
          "metadata": {},
          "execution_count": 3
        }
      ],
      "source": [
        "df.isna().sum(axis=1) # axis =1 número de columnas nulas en cada fila"
      ]
    },
    {
      "cell_type": "markdown",
      "metadata": {
        "id": "bss9JqEMiELX"
      },
      "source": [
        "Filas con algún nulo"
      ]
    },
    {
      "cell_type": "code",
      "execution_count": 4,
      "metadata": {
        "id": "46KgNyJMiHVo",
        "outputId": "cbf13c40-7471-43f5-efbe-9e1a3379c001",
        "colab": {
          "base_uri": "https://localhost:8080/"
        }
      },
      "outputs": [
        {
          "output_type": "execute_result",
          "data": {
            "text/plain": [
              "6"
            ]
          },
          "metadata": {},
          "execution_count": 4
        }
      ],
      "source": [
        "(df.isna().sum() > 0).sum()"
      ]
    },
    {
      "cell_type": "markdown",
      "metadata": {
        "id": "Kc-8jAWriIX3"
      },
      "source": [
        "Número de columnas con algún nulo"
      ]
    },
    {
      "cell_type": "code",
      "execution_count": 5,
      "metadata": {
        "id": "PgcpB1WniKFg",
        "outputId": "fd6fa402-c0ee-431a-b3be-5db1fa2b9ab6",
        "colab": {
          "base_uri": "https://localhost:8080/"
        }
      },
      "outputs": [
        {
          "output_type": "execute_result",
          "data": {
            "text/plain": [
              "7"
            ]
          },
          "metadata": {},
          "execution_count": 5
        }
      ],
      "source": [
        "(df.isna().sum(axis=1) > 0).sum()"
      ]
    },
    {
      "cell_type": "markdown",
      "source": [
        "¿Qué columnas tienen nulos?"
      ],
      "metadata": {
        "id": "WQm15cvvapjx"
      }
    },
    {
      "cell_type": "code",
      "source": [
        "df.columns[df.isnull().sum() >0]"
      ],
      "metadata": {
        "id": "uAEgYxg6af1p",
        "outputId": "12966507-b6bb-430b-bfb4-44c6434d21ae",
        "colab": {
          "base_uri": "https://localhost:8080/"
        }
      },
      "execution_count": 7,
      "outputs": [
        {
          "output_type": "execute_result",
          "data": {
            "text/plain": [
              "Index(['A', 'B', 'C', 'D', 'E', 'F'], dtype='object')"
            ]
          },
          "metadata": {},
          "execution_count": 7
        }
      ]
    },
    {
      "cell_type": "markdown",
      "source": [
        "Número de columnas con todo nulos"
      ],
      "metadata": {
        "id": "ak6WNUxMbGAE"
      }
    },
    {
      "cell_type": "code",
      "source": [
        "(df.isna().sum() == df.shape[0]).sum()"
      ],
      "metadata": {
        "id": "5gAKxjbZayIC",
        "outputId": "b1713862-df79-4aef-cb49-2a7b9252e54b",
        "colab": {
          "base_uri": "https://localhost:8080/"
        }
      },
      "execution_count": 8,
      "outputs": [
        {
          "output_type": "execute_result",
          "data": {
            "text/plain": [
              "1"
            ]
          },
          "metadata": {},
          "execution_count": 8
        }
      ]
    },
    {
      "cell_type": "markdown",
      "source": [
        "Qué columnas tienen todo a nulos"
      ],
      "metadata": {
        "id": "uoahjDczbbWH"
      }
    },
    {
      "cell_type": "code",
      "source": [
        "df.columns[df.isna().sum() == df.shape[0]]"
      ],
      "metadata": {
        "id": "UJ-5G_RJbfyH",
        "outputId": "98630fed-a5a4-40bd-b864-776b37c41b69",
        "colab": {
          "base_uri": "https://localhost:8080/"
        }
      },
      "execution_count": 9,
      "outputs": [
        {
          "output_type": "execute_result",
          "data": {
            "text/plain": [
              "Index(['F'], dtype='object')"
            ]
          },
          "metadata": {},
          "execution_count": 9
        }
      ]
    },
    {
      "cell_type": "markdown",
      "metadata": {
        "id": "-kAhTw1Xi-J3"
      },
      "source": [
        "\n",
        "Sobre todo en el caso de dataframes con gran cantidad de datos utilizar una visualización adecuada puede ayudar a entender el origen de los nulos. La biblioteca missingno puede ser muy útil en este sentido"
      ]
    },
    {
      "cell_type": "code",
      "execution_count": null,
      "metadata": {
        "id": "3A8jnjOGi5oP"
      },
      "outputs": [],
      "source": [
        "#!pip install missingno"
      ]
    },
    {
      "cell_type": "code",
      "execution_count": null,
      "metadata": {
        "id": "rVSrLIsmjPcn"
      },
      "outputs": [],
      "source": [
        "\n",
        "import pandas as pd\n",
        "import missingno as msno\n",
        "%matplotlib inline\n",
        "\n",
        "url=\"https://github.com/RafaelCaballero/tdm/blob/master/datos/tusa2020.csv?raw=true\"\n",
        "df = pd.read_csv(url)\n",
        "df"
      ]
    },
    {
      "cell_type": "code",
      "execution_count": null,
      "metadata": {
        "id": "xPjDlHoENVFl"
      },
      "outputs": [],
      "source": [
        "df.info()"
      ]
    },
    {
      "cell_type": "markdown",
      "metadata": {
        "id": "GnkA0tFpNVFm"
      },
      "source": [
        "Vemos que `coordinates`solo tiene nulos; podemos quitarla directamente"
      ]
    },
    {
      "cell_type": "code",
      "execution_count": null,
      "metadata": {
        "id": "2yNK5XSNNVFm"
      },
      "outputs": [],
      "source": [
        "df2 = df.drop(columns=[\"coordinates\"])"
      ]
    },
    {
      "cell_type": "markdown",
      "metadata": {
        "id": "Ux5q0piFNVFm"
      },
      "source": [
        "Un \"histograma de nulos\":"
      ]
    },
    {
      "cell_type": "code",
      "execution_count": null,
      "metadata": {
        "id": "2kdSRL4LNVFm"
      },
      "outputs": [],
      "source": [
        "msno.bar(df)"
      ]
    },
    {
      "cell_type": "markdown",
      "metadata": {
        "id": "76wSIFyiNVFm"
      },
      "source": [
        "Otra forma, que puede resultar más informativa"
      ]
    },
    {
      "cell_type": "code",
      "execution_count": null,
      "metadata": {
        "id": "YtruAA3bNVFn"
      },
      "outputs": [],
      "source": [
        "msno.matrix(df)"
      ]
    },
    {
      "cell_type": "markdown",
      "metadata": {
        "id": "1quflM0mNVFn"
      },
      "source": [
        "En este gráfico los nulos aparecen como líneas blancas ¿llama algo la atención al comparar unas columnas con otras?"
      ]
    },
    {
      "cell_type": "markdown",
      "metadata": {
        "id": "qZ9lF0CANVFn"
      },
      "source": [
        "El método `heatmap` nos ayudará a relacionar columnas con nulos entre sí:"
      ]
    },
    {
      "cell_type": "code",
      "execution_count": null,
      "metadata": {
        "id": "RVf-NWdnNVFn"
      },
      "outputs": [],
      "source": [
        "msno.heatmap(df)"
      ]
    },
    {
      "cell_type": "markdown",
      "source": [
        "El valor 1 indica que los nulos suceden a la vez. ne la misma fila, y el -1 que lo hacen en filas contrarias"
      ],
      "metadata": {
        "id": "vW8JSzMJO9K-"
      }
    },
    {
      "cell_type": "markdown",
      "metadata": {
        "id": "7cviZ-QLzmUT"
      },
      "source": [
        "<a name=\"Eliminar-nulos\"></a>\n",
        "### Eliminar nulos"
      ]
    },
    {
      "cell_type": "markdown",
      "metadata": {
        "id": "YpIC-8q1zmUW"
      },
      "source": [
        "Por defecto, `dropna` borra las filas que tienen algún NaN"
      ]
    },
    {
      "cell_type": "code",
      "execution_count": null,
      "metadata": {
        "id": "J19Cu6VnzmUW"
      },
      "outputs": [],
      "source": [
        "df2 = df.dropna()\n",
        "df2"
      ]
    },
    {
      "cell_type": "markdown",
      "metadata": {
        "id": "jJghw-ndzmUW"
      },
      "source": [
        "Problema: hemos borrado el dataframe entero. Una alternativa más conservadora es borrar filas tienen todas sus columnas a  NaN"
      ]
    },
    {
      "cell_type": "code",
      "execution_count": null,
      "metadata": {
        "id": "EUa28s85zmUW"
      },
      "outputs": [],
      "source": [
        "df.dropna(how=\"all\")"
      ]
    },
    {
      "cell_type": "markdown",
      "source": [
        "Ahora no hemos borrado ninguno!! todas las filas tienen algún componente no nulo"
      ],
      "metadata": {
        "id": "ASH-NyjNNlCW"
      }
    },
    {
      "cell_type": "code",
      "execution_count": null,
      "metadata": {
        "id": "R_EdO7EHNVFp"
      },
      "outputs": [],
      "source": []
    },
    {
      "cell_type": "markdown",
      "metadata": {
        "id": "Gn87bqhZzmUW"
      },
      "source": [
        "**Ejercicio 2** También se pueden borrar columnas añadiendo axis=1 para indicar que trabaje por columnas. Hacerlo:"
      ]
    },
    {
      "cell_type": "code",
      "execution_count": null,
      "metadata": {
        "id": "f3vZUYxGzmUX"
      },
      "outputs": [],
      "source": []
    },
    {
      "cell_type": "markdown",
      "metadata": {
        "id": "uyh8U3jOzmUX"
      },
      "source": [
        "También se pueden conservar solo las que tienen a partir un cierto número de valores distintos de 0"
      ]
    },
    {
      "cell_type": "code",
      "execution_count": null,
      "metadata": {
        "id": "bMly924WzmUX"
      },
      "outputs": [],
      "source": [
        "df.dropna(thresh=7) # probar a poner 6"
      ]
    },
    {
      "cell_type": "markdown",
      "metadata": {
        "id": "et7t3ikfzmUX"
      },
      "source": [
        "Finalmente, podemos indicar que borre solo las que tiene nulos en una cierta columna"
      ]
    },
    {
      "cell_type": "code",
      "execution_count": null,
      "metadata": {
        "id": "inZGum1hzmUY"
      },
      "outputs": [],
      "source": [
        "df.dropna(subset=['lang'])"
      ]
    },
    {
      "cell_type": "markdown",
      "metadata": {
        "id": "X7XmEkykhdn_"
      },
      "source": [
        "**Comentario**  La eliminación de nulos puede ser complicada; quizás perdiendo información ya que al quitar los nulos quitamos también otros datos potencialmente valiosos. Es conveniente hacer un estudio detallado de dónde aparecen los nulos y qué efectos tienen las distintas medidas que pueden ser\n",
        "\n",
        "\n",
        "\n",
        "*   Eliminarlos, hay que ver si por filas, por columnas o por ambas y en qué orden\n",
        "*   Sustituirlo por un valor adecuado, por ejemplo la media de los valores o la interpolación mediante una función. **Nunca** sustituirlos por un valor mágico, que afectará a nuestros análisis\n",
        "\n",
        "\n"
      ]
    },
    {
      "cell_type": "markdown",
      "metadata": {
        "id": "hOGrzxSZo6Fp"
      },
      "source": [
        "**Ejercicio 3**\n",
        "Separar el dataframe df2 en dos, uno df_RT con los valores RT_source distinto de  null y otro df_original con  los valores RT_source a null"
      ]
    },
    {
      "cell_type": "code",
      "execution_count": null,
      "metadata": {
        "id": "7SK7TAvlsSRo"
      },
      "outputs": [],
      "source": []
    },
    {
      "cell_type": "markdown",
      "metadata": {
        "id": "nyhv_qZys9JQ"
      },
      "source": [
        "**Ejercicio 4**\n",
        "\n",
        "---\n",
        "\n",
        "\n",
        "\n",
        "¿Eliminarías alguna columna de alguno de los dos ficheros por tener nulos?"
      ]
    },
    {
      "cell_type": "code",
      "execution_count": null,
      "metadata": {
        "id": "XJq1tYtKtF9A"
      },
      "outputs": [],
      "source": []
    },
    {
      "cell_type": "markdown",
      "metadata": {
        "id": "SarbCOV6wKjQ"
      },
      "source": [
        "**Consejo** En ocasiones es mejor no eliminar a priori los nulos porque puede ser que hagamos distintos análisis con distintas columnas, en ese caso eliminaremos solo tras obtener el dataframe auxiliar conl as columnas necesarias, reduciendo la pérdida de información"
      ]
    },
    {
      "cell_type": "markdown",
      "metadata": {
        "id": "CRloiKiAzmUY"
      },
      "source": [
        "<a name=\"Transformación-de-valores\"></a>\n",
        "### Tranformación de valores"
      ]
    },
    {
      "cell_type": "markdown",
      "metadata": {
        "id": "zwAfoS0GzmUY"
      },
      "source": [
        "Empezamos con un ejemplo de asignaturas y los créditos que representan"
      ]
    },
    {
      "cell_type": "code",
      "execution_count": null,
      "metadata": {
        "id": "calOBgBEzmUZ"
      },
      "outputs": [],
      "source": [
        "data = {'nombre': ['A', 'B', 'C', 'D','E', 'F', 'G'],\n",
        "        'creditos': [4,  6,  4.5, 6,  6, 4.5,  12]}\n",
        "df = pd.DataFrame(data)\n",
        "df"
      ]
    },
    {
      "cell_type": "markdown",
      "metadata": {
        "id": "bKF3RfFlzmUZ"
      },
      "source": [
        "**Ejercicio 6** Suponiendo que un crédito son 10 horas lectivas, añadir una columna que 'horas' con los créditos multiplicados por 10"
      ]
    },
    {
      "cell_type": "code",
      "execution_count": null,
      "metadata": {
        "id": "UjcCaVDAzmUZ"
      },
      "outputs": [],
      "source": []
    },
    {
      "cell_type": "markdown",
      "metadata": {
        "id": "yYbfeiKuzmUa"
      },
      "source": [
        "Un caso especial: reemplazar todos los valores concretos. Supongamos que todas las asignaturas de 12 créditos pasan a ser de 16. Podemos hacer"
      ]
    },
    {
      "cell_type": "code",
      "execution_count": null,
      "metadata": {
        "id": "Uidtn18bzmUa"
      },
      "outputs": [],
      "source": [
        "df2 = df.replace(12, 16)\n",
        "df2['horas'] = df2.creditos*10\n",
        "df2"
      ]
    },
    {
      "cell_type": "markdown",
      "metadata": {
        "id": "87fuyo9VzmUa"
      },
      "source": [
        "Supongamos ahora que queremos añadir una columna 'tipo' que vale 'optativa' para todas las asignaturas de 4.5 créditos o menos y 'troncal' para asignaturas de más de 4.5 créditos.\n",
        "\n",
        "Lo primero será escribir una función que haga esta transformación:"
      ]
    },
    {
      "cell_type": "code",
      "execution_count": null,
      "metadata": {
        "id": "Cs-lhwEXzmUa"
      },
      "outputs": [],
      "source": [
        "def calcula_tipo(creditos):\n",
        "    if creditos>4.5:\n",
        "        r = 'troncal'\n",
        "    else:\n",
        "        r = 'optativa'\n",
        "    return r"
      ]
    },
    {
      "cell_type": "markdown",
      "metadata": {
        "id": "STR0e0p7zmUb"
      },
      "source": [
        "Ahora la aplicamos a columna créditos con la función `map` que aplica una función a todos los elementos de una columna:"
      ]
    },
    {
      "cell_type": "code",
      "execution_count": null,
      "metadata": {
        "id": "A6wR_3NgzmUb"
      },
      "outputs": [],
      "source": [
        "df['tipo'] = df.creditos.map(calcula_tipo)\n",
        "df"
      ]
    },
    {
      "cell_type": "markdown",
      "metadata": {
        "id": "czM2avwTzmUb"
      },
      "source": [
        "También se puede hacer directamente con una función lambda:"
      ]
    },
    {
      "cell_type": "code",
      "execution_count": null,
      "metadata": {
        "id": "TDbBYEC3zmUb"
      },
      "outputs": [],
      "source": [
        "df['tipo2'] = df.creditos.map(lambda x:'optativa' if x<=4.5 else 'troncal')\n",
        "df"
      ]
    },
    {
      "cell_type": "markdown",
      "metadata": {
        "id": "Ou6LVh_ivIY4"
      },
      "source": [
        "<a name=\"normalizacion\"></a>\n",
        "### Normalización y estandarización"
      ]
    },
    {
      "cell_type": "markdown",
      "metadata": {
        "id": "agrxjrXDvcYX"
      },
      "source": [
        "Vamos a ver estas dos formas de ajustar los datos con un ejemplo\n"
      ]
    },
    {
      "cell_type": "code",
      "execution_count": null,
      "metadata": {
        "id": "Vsu-hN5azmUc"
      },
      "outputs": [],
      "source": [
        "import pandas as pd\n",
        "\n",
        "fich = \"https://raw.githubusercontent.com/RafaelCaballero/tdm/master/datos/madrid/contmettraf.csv\"\n",
        "df = pd.read_csv(fich,parse_dates=[\"FECHAH\"])\n",
        "df.index = df[\"FECHAH\"]\n",
        "df"
      ]
    },
    {
      "cell_type": "markdown",
      "metadata": {
        "id": "j38JtnZ_waPm"
      },
      "source": [
        "#### Normalización\n",
        "\n",
        "Supongamos que queremos hacer una gráfica sencilla de NO y CO\n",
        "\n",
        "Primero vamos a escribir código para obtener un dataframe `dfEne21` que solo tenga las filas de df que correspondan al mes 1 de 2021. Esto se puede hacer filtrando el mes y el año (se utiliza .dt. para indcar a pandas que es una fecha)"
      ]
    },
    {
      "cell_type": "code",
      "execution_count": null,
      "metadata": {
        "id": "fKsC8oNowlYw"
      },
      "outputs": [],
      "source": [
        "filtro = (df.FECHAH.dt.month == 1) & (df.FECHAH.dt.year == 2021)\n",
        "dfEne21 = df[filtro]\n",
        "dfEne21\n"
      ]
    },
    {
      "cell_type": "markdown",
      "metadata": {
        "id": "_LT-W8LCxVSo"
      },
      "source": [
        "**Ejercicio 8** Escribir código para obtener un dataframe df2 a partir de `dfEne21` que solo tenga la columna \"CO\" y \"NO\". Eliminar  además de df2 todas las filas con algún nulo"
      ]
    },
    {
      "cell_type": "code",
      "execution_count": null,
      "metadata": {
        "id": "9qnendvcxmxf"
      },
      "outputs": [],
      "source": []
    },
    {
      "cell_type": "markdown",
      "metadata": {
        "id": "ZODFiTY-xCo3"
      },
      "source": [
        "Podemos hacer la gráfica así de fácil"
      ]
    },
    {
      "cell_type": "code",
      "execution_count": null,
      "metadata": {
        "id": "gwELPE9-xBwv"
      },
      "outputs": [],
      "source": [
        "df2.iloc[100:300,:].plot()"
      ]
    },
    {
      "cell_type": "markdown",
      "metadata": {
        "id": "oahZnBMu0QAA"
      },
      "source": [
        "¿Cuál es el problema? que está en escalas diferentes. y el CO apenas se ve. Vamos a *normalizar* las columnas con la fórmula\n",
        "\n",
        "X_new = (X - X_min)/(X_max - X_min)"
      ]
    },
    {
      "cell_type": "code",
      "execution_count": null,
      "metadata": {
        "id": "VgvSFm3H0gvg"
      },
      "outputs": [],
      "source": [
        "from sklearn.preprocessing import MinMaxScaler\n",
        "\n",
        "metodo = MinMaxScaler()\n",
        "escalador = metodo.fit(df2)\n",
        "escalados = escalador.transform(df2)\n",
        "df3 = pd.DataFrame(escalados,columns=df2.columns)\n",
        "df3"
      ]
    },
    {
      "cell_type": "code",
      "execution_count": null,
      "metadata": {
        "id": "x5fowalG1RQP"
      },
      "outputs": [],
      "source": [
        "df3.describe()"
      ]
    },
    {
      "cell_type": "code",
      "execution_count": null,
      "metadata": {
        "id": "QS4B_Plt4AIA"
      },
      "outputs": [],
      "source": [
        "df3.iloc[100:300,:].plot()"
      ]
    },
    {
      "cell_type": "markdown",
      "metadata": {
        "id": "3CRDd52U4QWo"
      },
      "source": [
        "### Estandarización\n",
        "\n",
        "Para algunos tests y comparaciones nos puede interesar que las distribuciones tengan media 0 y desviación típica 0. Esto se hace con la fórmula\n",
        "X_new = (X - mean)/Std"
      ]
    },
    {
      "cell_type": "code",
      "execution_count": null,
      "metadata": {
        "id": "MU5raDlj4ZH3"
      },
      "outputs": [],
      "source": [
        "df[ [\"TEMPERATURA\",\"HUMEDAD RELATIVA\"]].hist(bins=40)"
      ]
    },
    {
      "cell_type": "code",
      "execution_count": null,
      "metadata": {
        "id": "ZyuUNnq-5DBX"
      },
      "outputs": [],
      "source": [
        "from sklearn.preprocessing import StandardScaler\n",
        "df2 = df[[\"TEMPERATURA\",\"HUMEDAD RELATIVA\"]].dropna()\n",
        "metodo = StandardScaler()\n",
        "escalador = metodo.fit(df2)\n",
        "escalados = escalador.transform(df2)\n",
        "df3 = pd.DataFrame(escalados,columns=df2.columns)\n",
        "df3.hist(bins=40)\n"
      ]
    }
  ],
  "metadata": {
    "colab": {
      "provenance": [],
      "include_colab_link": true
    },
    "kernelspec": {
      "display_name": "Python 3 (ipykernel)",
      "language": "python",
      "name": "python3"
    },
    "language_info": {
      "codemirror_mode": {
        "name": "ipython",
        "version": 3
      },
      "file_extension": ".py",
      "mimetype": "text/x-python",
      "name": "python",
      "nbconvert_exporter": "python",
      "pygments_lexer": "ipython3",
      "version": "3.9.12"
    }
  },
  "nbformat": 4,
  "nbformat_minor": 0
}