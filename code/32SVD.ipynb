{
  "cells": [
    {
      "cell_type": "markdown",
      "metadata": {
        "id": "view-in-github",
        "colab_type": "text"
      },
      "source": [
        "<a href=\"https://colab.research.google.com/github/RafaelCaballero/Julio24/blob/main/code/32SVD.ipynb\" target=\"_parent\"><img src=\"https://colab.research.google.com/assets/colab-badge.svg\" alt=\"Open In Colab\"/></a>"
      ]
    },
    {
      "cell_type": "markdown",
      "metadata": {
        "id": "DhpbT44MWD69"
      },
      "source": [
        "# Introducción a la ciencia de datos con Python\n",
        "Rafa Caballero\n",
        "\n",
        "\n",
        "\n",
        "## SVD (singular value decomposition)\n",
        "\n",
        "- Descomposición de una matriz (dataset) en producto de 3\n",
        "- Permite ver \"conceptos\" diferentes\n",
        "- Útil para reducción de dimensiones y recomendación\n",
        "\n",
        "Ejemplo de descomposición SVD"
      ]
    },
    {
      "cell_type": "code",
      "execution_count": null,
      "metadata": {
        "scrolled": true,
        "id": "sB_-es70WD6-"
      },
      "outputs": [],
      "source": [
        "\n",
        "import numpy as np\n",
        "# para mostrar los arrays con 2 decimales y sin e\n",
        "np.set_printoptions(precision=2,suppress=True)\n",
        "from numpy import array\n",
        "\n",
        "from scipy.linalg import svd\n",
        "# define a matrix\n",
        "A = array([[1,1,1,0,0],\n",
        "           [3,3,3,0,0],\n",
        "           [4,4,4,0,0],\n",
        "           [5,5,5,0,0],\n",
        "           [0,2,0,4,4],\n",
        "           [0,0,0,5,5],\n",
        "           [0,1,0,2,2]\n",
        "          ])\n",
        "print(A)\n",
        "# SVD\n",
        "U, s, VT = svd(A)\n",
        "\n",
        "# s es un vector, lo convertimos en una matriz\n",
        "S = np.zeros((A.shape[0], A.shape[1]))\n",
        "S[:A.shape[1], :A.shape[1]] = np.diag(s)\n",
        "\n",
        "print(\"U\\n\",U)\n",
        "print(\"S\\n\",S)\n",
        "print(\"VT\\n\",VT)"
      ]
    },
    {
      "cell_type": "markdown",
      "metadata": {
        "id": "gLUkQjMxWD6-"
      },
      "source": [
        "#### Reducción de dimensiones\n",
        "\n",
        "Primero vemos cuanta \"energía\" representa cada autovector"
      ]
    },
    {
      "cell_type": "code",
      "execution_count": null,
      "metadata": {
        "id": "iXA3SgrwWD6-"
      },
      "outputs": [],
      "source": [
        "suma = 0\n",
        "energiaTotal = np.sum([ x*x for x in s])\n",
        "for i in range(len(s)):\n",
        "    suma += s[i]*s[i]\n",
        "    print(i,suma*100/energiaTotal)"
      ]
    },
    {
      "cell_type": "markdown",
      "metadata": {
        "id": "zyoffLHZWD6_"
      },
      "source": [
        "Nos quedamos solo con 2 elementos de s."
      ]
    },
    {
      "cell_type": "code",
      "execution_count": null,
      "metadata": {
        "id": "0KD4lnbcWD6_"
      },
      "outputs": [],
      "source": [
        "k = 2 # número de componentes a seleccionar\n",
        "U2 = U[:,:k] # eliminamos columnas\n",
        "S2 = S[:k,:k] # eliminamos filas y columnas\n",
        "VT2 = VT[:k,:] # eliminamos filas\n",
        "V2 = np.transpose(VT2)\n",
        "\n"
      ]
    },
    {
      "cell_type": "markdown",
      "metadata": {
        "id": "-QD4FN-tWD6_"
      },
      "source": [
        "Ahora utilizamos esto para predecir las áreas temáticas y gustos particulares de nuevos usuarios"
      ]
    },
    {
      "cell_type": "code",
      "execution_count": null,
      "metadata": {
        "id": "MQPXF_qpWD6_"
      },
      "outputs": [],
      "source": [
        "opinion = [0,0,0,0,4]\n",
        "u = np.array(opinion)\n",
        "gustos = u.dot(V2)\n",
        "print(\"gustos: \", abs(gustos))\n",
        "print(\"recomendaciones: \",gustos.dot(VT2))\n"
      ]
    },
    {
      "cell_type": "markdown",
      "metadata": {
        "id": "snb_TS7ZWD6_"
      },
      "source": [
        "Sugerencia: jugar a cambiar los valores de la opinión"
      ]
    },
    {
      "cell_type": "code",
      "execution_count": null,
      "metadata": {
        "id": "4NG5a2mNWD6_"
      },
      "outputs": [],
      "source": []
    }
  ],
  "metadata": {
    "kernelspec": {
      "display_name": "Python 3 (ipykernel)",
      "language": "python",
      "name": "python3"
    },
    "language_info": {
      "codemirror_mode": {
        "name": "ipython",
        "version": 3
      },
      "file_extension": ".py",
      "mimetype": "text/x-python",
      "name": "python",
      "nbconvert_exporter": "python",
      "pygments_lexer": "ipython3",
      "version": "3.9.12"
    },
    "colab": {
      "provenance": [],
      "include_colab_link": true
    }
  },
  "nbformat": 4,
  "nbformat_minor": 0
}