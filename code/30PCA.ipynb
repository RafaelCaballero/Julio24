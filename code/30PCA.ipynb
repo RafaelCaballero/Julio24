{
  "cells": [
    {
      "cell_type": "markdown",
      "metadata": {
        "id": "view-in-github",
        "colab_type": "text"
      },
      "source": [
        "<a href=\"https://colab.research.google.com/github/RafaelCaballero/Julio24/blob/main/code/30PCA.ipynb\" target=\"_parent\"><img src=\"https://colab.research.google.com/assets/colab-badge.svg\" alt=\"Open In Colab\"/></a>"
      ]
    },
    {
      "cell_type": "markdown",
      "id": "18fd0f91",
      "metadata": {
        "id": "18fd0f91"
      },
      "source": [
        "# Introducción a la ciencia de datos con Python\n",
        "Rafa Caballero\n",
        "\n",
        "\n",
        "\n",
        "### Índice\n",
        "[Carga de datos](#carga)<br>\n",
        "[PCA para representación gráfica](#pca-graf)<br>\n",
        "[TSNE](#tsne)<br>\n",
        "[PCA para reducción de dimensiones](#reduc)<br>\n",
        "\n"
      ]
    },
    {
      "cell_type": "markdown",
      "id": "2a60774c",
      "metadata": {
        "id": "2a60774c"
      },
      "source": [
        "<a name=\"carga\"></a>\n",
        "### Carga de datos"
      ]
    },
    {
      "cell_type": "code",
      "execution_count": null,
      "id": "c8042b41",
      "metadata": {
        "id": "c8042b41"
      },
      "outputs": [],
      "source": [
        "import pandas as pd\n",
        "import numpy as np\n",
        "fich = \"https://raw.githubusercontent.com/RafaelCaballero/tdm/master/datos/datoscajas.csv\"\n",
        "\n",
        "df = pd.read_csv(fich)\n",
        "df"
      ]
    },
    {
      "cell_type": "code",
      "execution_count": null,
      "id": "f28c25e6",
      "metadata": {
        "id": "f28c25e6"
      },
      "outputs": [],
      "source": [
        "df.label.value_counts()"
      ]
    },
    {
      "cell_type": "markdown",
      "id": "f2c5fc17",
      "metadata": {
        "id": "f2c5fc17"
      },
      "source": [
        "Un poco de ruido"
      ]
    },
    {
      "cell_type": "code",
      "execution_count": null,
      "id": "b6b029f7",
      "metadata": {
        "id": "b6b029f7"
      },
      "outputs": [],
      "source": [
        "dfo = df.copy()\n",
        "# 5 columnas de ruido\n",
        "for i in range(20):\n",
        "     df[\"ruido_\"+str(i)] = np.random.randint(0,(i+1)*200,size=len(df))\n",
        "df"
      ]
    },
    {
      "cell_type": "markdown",
      "id": "467b878d",
      "metadata": {
        "id": "467b878d"
      },
      "source": [
        "Estandarizar"
      ]
    },
    {
      "cell_type": "code",
      "execution_count": null,
      "id": "ebd34370",
      "metadata": {
        "id": "ebd34370"
      },
      "outputs": [],
      "source": [
        "from sklearn.preprocessing import StandardScaler\n",
        "\n",
        "def escalar(df):\n",
        "    scaler = StandardScaler()\n",
        "    etiqs = [\"label\"]\n",
        "    XColumns = [c for c in df.columns if c not in etiqs]\n",
        "\n",
        "    S = scaler.fit_transform(df[XColumns]) # no se aplica a la etiqueta\n",
        "\n",
        "\n",
        "    df_s = pd.DataFrame(S,columns=XColumns)\n",
        "    df_s[\"label\"] = df[\"label\"]\n",
        "    return df_s\n",
        "\n",
        "dfo_s = escalar(dfo)\n",
        "df_s = escalar(df)"
      ]
    },
    {
      "cell_type": "markdown",
      "id": "53ff5161",
      "metadata": {
        "id": "53ff5161"
      },
      "source": [
        "<a name=\"pca-graf\"></a>\n",
        "### PCA para representación gráfica\n",
        "\n",
        "Convertimos a 2D quedándonos con 2 ejes"
      ]
    },
    {
      "cell_type": "code",
      "execution_count": null,
      "id": "475a97cd",
      "metadata": {
        "id": "475a97cd"
      },
      "outputs": [],
      "source": [
        "from sklearn.decomposition  import PCA\n",
        "from sklearn.manifold  import TSNE\n",
        "import numpy as np\n",
        "from mpl_toolkits.mplot3d.axes3d import Axes3D\n",
        "from matplotlib import pyplot as plt, colors\n",
        "import matplotlib\n",
        "import seaborn as sns\n",
        "\n",
        "def get_pca(df2, feat_cols, label, n_label):\n",
        "    df = df2.copy()\n",
        "    pca = PCA(n_components=3)\n",
        "    pca_result = pca.fit_transform(df[feat_cols].values)\n",
        "    df['pca-one'] = pca_result[:,0]\n",
        "    df['pca-two'] = pca_result[:,1]\n",
        "    df['pca-three'] = pca_result[:,2]\n",
        "    print('Explained variation per principal component:',pca.explained_variance_ratio_)\n",
        "\n",
        "    print('Components\\n',np.round(pca.components_,3))\n",
        "    plt.figure(figsize=(10,10))\n",
        "    sns.scatterplot(\n",
        "        x=\"pca-one\", y=\"pca-two\",\n",
        "        hue=label,\n",
        "        palette=sns.color_palette(\"hls\", n_label),\n",
        "        data=df,\n",
        "        legend=\"full\",\n",
        "        alpha=0.5\n",
        "    )\n",
        "    plt.show()\n",
        "\n",
        "    # en 3 Dim\n",
        "    fig = plt.figure(figsize=(14,6))\n",
        "\n",
        "    # projection='3d' indica que este subplot es en 3d\n",
        "    ax = fig.add_subplot(1, 2, 1, projection='3d')\n",
        "\n",
        "    ax.scatter(df['pca-one'], df['pca-two'], df['pca-three'], c=df[\"label\"], marker='o')\n",
        "    ax.set_xlabel('pca-one')\n",
        "    ax.set_ylabel('pca-two')\n",
        "    ax.set_zlabel('pca-three')\n",
        "    plt.show()\n",
        "\n",
        "\n",
        "    #sns.barplot(data=df,x=\"pca-one\")\n",
        "    return pca\n",
        "\n",
        "\n",
        "\n",
        "\n"
      ]
    },
    {
      "cell_type": "code",
      "execution_count": null,
      "id": "8f84a482",
      "metadata": {
        "id": "8f84a482"
      },
      "outputs": [],
      "source": [
        "etiqs = [\"label\"]\n",
        "XColumnso = [c for c in dfo_s.columns if c not in etiqs]\n",
        "pca_data = get_pca(dfo_s,XColumnso,\"label\",5)"
      ]
    },
    {
      "cell_type": "code",
      "execution_count": null,
      "id": "84fdba85",
      "metadata": {
        "id": "84fdba85"
      },
      "outputs": [],
      "source": [
        "\n",
        "etiqs = [\"label\"]\n",
        "XColumns = [c for c in df_s.columns if c not in etiqs]\n",
        "pca_data = get_pca(df_s,XColumns,\"label\",5)"
      ]
    },
    {
      "cell_type": "markdown",
      "id": "5002b4c8",
      "metadata": {
        "id": "5002b4c8"
      },
      "source": [
        "<a name=\"reduc\"></a>\n",
        "### PCA para reducción de dimensiones"
      ]
    },
    {
      "cell_type": "markdown",
      "id": "aadbac1e",
      "metadata": {
        "id": "aadbac1e"
      },
      "source": [
        "Vamos a representar el peso de cada columna para tener idea de cómo influyen los ejes generados"
      ]
    },
    {
      "cell_type": "code",
      "execution_count": null,
      "id": "ecf8ff7c",
      "metadata": {
        "id": "ecf8ff7c"
      },
      "outputs": [],
      "source": [
        "component_labels = [\"pca-one\",\"pca-two\",\"pca-three\"]\n",
        "etiqs = [\"label\"]\n",
        "XColumns = [c for c in df_s.columns if c not in etiqs]\n",
        "\n",
        "df_components = pd.DataFrame(pca_data.components_.transpose(),index=XColumns,columns=component_labels)\n",
        "for c in component_labels:\n",
        "    print(c)\n",
        "    fig, ax = plt.subplots(1, 1,figsize=(10,5))\n",
        "    plt.bar(XColumns,df_components[c].values, label=c)\n",
        "    plt.setp(ax.get_xticklabels(), rotation=45, ha='right')\n",
        "    ax.set_title(c)\n",
        "    plt.show()"
      ]
    },
    {
      "cell_type": "markdown",
      "id": "17901db5",
      "metadata": {
        "id": "17901db5"
      },
      "source": [
        "<a name=\"tsne\"></a>\n",
        "### TSNE\n",
        "\n",
        "Los parámetro de TSNE vienen explicados en la [documentación](https://scikit-learn.org/stable/modules/generated/sklearn.manifold.TSNE.html)"
      ]
    },
    {
      "cell_type": "code",
      "execution_count": null,
      "id": "04efe894",
      "metadata": {
        "id": "04efe894"
      },
      "outputs": [],
      "source": [
        "from sklearn.manifold  import TSNE\n",
        "\n",
        "def tsne(df,feat_cols,label,n_etiq):\n",
        "    df_subset = df.copy()\n",
        "    data_subset = df_subset[feat_cols].values\n",
        "    tsne = TSNE(n_components=2,  perplexity=10, n_iter=1000)\n",
        "    tsne_results = tsne.fit_transform(data_subset)\n",
        "    df_subset['tsne-2d-one'] = tsne_results[:,0]\n",
        "    df_subset['tsne-2d-two'] = tsne_results[:,1]\n",
        "    plt.figure(figsize=(8,5))\n",
        "    sns.scatterplot(\n",
        "        x=\"tsne-2d-one\", y=\"tsne-2d-two\",\n",
        "        hue=label,\n",
        "        palette=sns.color_palette(\"hls\", n_etiq), # número de valores de la etiqueta\n",
        "        data=df_subset,\n",
        "        legend=\"full\",\n",
        "        alpha=0.3\n",
        "    )\n",
        "    return df_subset\n",
        "df_subset = tsne(df,df.columns[:12],\"label\",5)"
      ]
    },
    {
      "cell_type": "code",
      "execution_count": null,
      "id": "2c5173ac",
      "metadata": {
        "id": "2c5173ac"
      },
      "outputs": [],
      "source": [
        "from mpl_toolkits.mplot3d.axes3d import Axes3D\n",
        "import matplotlib.pyplot as plt\n",
        "import matplotlib\n",
        "%matplotlib notebook\n",
        "\n",
        "def tsne_3d(df,feat_cols):\n",
        "    df_subset = df.copy()\n",
        "    data_subset = df_subset[feat_cols].values\n",
        "    tsne = TSNE(n_components=3,  perplexity=10, n_iter=1000)\n",
        "    tsne_results = tsne.fit_transform(data_subset)\n",
        "    df_subset['tsne-3d-one'] = tsne_results[:,0]\n",
        "    df_subset['tsne-3d-two'] = tsne_results[:,1]\n",
        "    df_subset['tsne-3d-three'] = tsne_results[:,2]\n",
        "    # en 3 Dim\n",
        "    fig = plt.figure(figsize=(14,6))\n",
        "\n",
        "    # projection='3d' indica que este subplot es en 3d\n",
        "    ax = fig.add_subplot(1, 2, 1, projection='3d')\n",
        "\n",
        "    ax.scatter( df_subset['tsne-3d-one'],  df_subset['tsne-3d-two'],  df_subset['tsne-3d-three'], c=df[\"label\"], marker='o')\n",
        "    ax.set_xlabel('tsne-3d-one')\n",
        "    ax.set_ylabel('tsne-3d-two')\n",
        "    ax.set_zlabel('tsne-3d-three')\n",
        "    plt.show()\n",
        "    return df_subset\n",
        "df_subset = tsne_3d(df,df.columns[:12])"
      ]
    },
    {
      "cell_type": "code",
      "execution_count": null,
      "id": "dd7f9b6c",
      "metadata": {
        "id": "dd7f9b6c"
      },
      "outputs": [],
      "source": []
    }
  ],
  "metadata": {
    "kernelspec": {
      "display_name": "Python 3 (ipykernel)",
      "language": "python",
      "name": "python3"
    },
    "language_info": {
      "codemirror_mode": {
        "name": "ipython",
        "version": 3
      },
      "file_extension": ".py",
      "mimetype": "text/x-python",
      "name": "python",
      "nbconvert_exporter": "python",
      "pygments_lexer": "ipython3",
      "version": "3.10.9"
    },
    "colab": {
      "provenance": [],
      "include_colab_link": true
    }
  },
  "nbformat": 4,
  "nbformat_minor": 5
}