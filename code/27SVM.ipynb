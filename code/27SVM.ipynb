{
  "cells": [
    {
      "cell_type": "markdown",
      "metadata": {
        "id": "view-in-github",
        "colab_type": "text"
      },
      "source": [
        "<a href=\"https://colab.research.google.com/github/RafaelCaballero/Julio24/blob/main/code/27SVM.ipynb\" target=\"_parent\"><img src=\"https://colab.research.google.com/assets/colab-badge.svg\" alt=\"Open In Colab\"/></a>"
      ]
    },
    {
      "cell_type": "markdown",
      "id": "cf404ad4",
      "metadata": {
        "id": "cf404ad4"
      },
      "source": [
        "# Introducción a la ciencia de datos con Python\n",
        "Rafa Caballero\n",
        "\n",
        "## Support Vector Machines\n",
        "\n",
        "Cargamos y preparamos los datos"
      ]
    },
    {
      "cell_type": "code",
      "execution_count": null,
      "id": "439feb94",
      "metadata": {
        "id": "439feb94"
      },
      "outputs": [],
      "source": [
        "import statistics as s\n",
        "import numpy as np\n",
        "import pandas as pd\n",
        "\n",
        "size = 200\n",
        "n = s.NormalDist(mu=20, sigma=0.16) # generador de números siguiendo una normal N(1.76,0.16)\n",
        "a1 = n.samples(size,seed=3)\n",
        "n2 = s.NormalDist(mu=40, sigma=0.25) # generador de números siguiendo una normal N(1.76,0.16)\n",
        "a2 = n.samples(size,seed=4)\n",
        "a1.extend(a2)\n",
        "a = np.array(a1).round(2)\n",
        "n2 = s.NormalDist(mu=25, sigma=3.2) # generador de números siguiendo una normal N(40,3.2)\n",
        "b1 = n2.samples(size,seed=5)\n",
        "n2 = s.NormalDist(mu=50, sigma=3.2) # generador de números siguiendo una normal N(40,3.2)\n",
        "b2 = n2.samples(size,seed=6)\n",
        "b1.extend(b2)\n",
        "b = np.array(b1).round(2)\n",
        "\n",
        "df = pd.DataFrame({\"a\":a*0.8+b*0.02,\"b\":b*0.5+3})\n",
        "df[\"c\"] = 1\n",
        "df.loc[(df.b*0.8 + df.a>16*2+2),\"c\"] = 0"
      ]
    },
    {
      "cell_type": "code",
      "execution_count": null,
      "id": "cb8a8562",
      "metadata": {
        "id": "cb8a8562"
      },
      "outputs": [],
      "source": [
        "df"
      ]
    },
    {
      "cell_type": "code",
      "execution_count": null,
      "id": "6cbb0d1a",
      "metadata": {
        "id": "6cbb0d1a"
      },
      "outputs": [],
      "source": [
        "import matplotlib.pyplot as plt\n",
        "%matplotlib inline\n",
        "\n",
        "df0 = df[df.c==0]\n",
        "df1 = df[df.c==1]\n",
        "\n",
        "plt.scatter(df0.a,df0.b,color=\"b\",s=3)\n",
        "plt.scatter(df1.a,df1.b,color=\"r\",s=3)\n",
        "plt.show()"
      ]
    },
    {
      "cell_type": "code",
      "execution_count": null,
      "id": "70c601a1",
      "metadata": {
        "id": "70c601a1"
      },
      "outputs": [],
      "source": [
        "from sklearn.svm import SVC\n",
        "\n",
        "XColumns = [\"a\",\"b\"]\n",
        "yColumn = [\"c\"]\n",
        "X = df[XColumns]\n",
        "y = df[yColumn]\n",
        "\n",
        "metodo = SVC(kernel='linear', C=1E10)\n",
        "model = metodo.fit(X, y)\n",
        "\n",
        "model.support_vectors_"
      ]
    },
    {
      "cell_type": "code",
      "execution_count": null,
      "id": "2b2e1ed3",
      "metadata": {
        "id": "2b2e1ed3"
      },
      "outputs": [],
      "source": [
        "plt.scatter(df0.a,df0.b,color=\"b\",s=3)\n",
        "plt.scatter(df1.a,df1.b,color=\"r\",s=3)\n",
        "plt.scatter(model.support_vectors_[:,0],model.support_vectors_[:,1],color=\"green\")\n",
        "plt.show()"
      ]
    },
    {
      "cell_type": "code",
      "execution_count": null,
      "id": "d56d9685",
      "metadata": {
        "scrolled": true,
        "id": "d56d9685"
      },
      "outputs": [],
      "source": [
        "fig, ax = plt.subplots(figsize=(7, 5))\n",
        "ax.scatter(df0.a,df0.b,color=\"b\",s=3)\n",
        "ax.scatter(df1.a,df1.b,color=\"r\",s=3)\n",
        "xlim = ax.get_xlim()\n",
        "ylim = ax.get_ylim()\n",
        "xx = np.linspace(xlim[0], xlim[1], 30)\n",
        "yy = np.linspace(ylim[0], ylim[1], 30)\n",
        "YY, XX = np.meshgrid(yy, xx)\n",
        "xy = np.vstack([XX.ravel(), YY.ravel()]).T\n",
        "Z = model.decision_function(xy).reshape(XX.shape)\n",
        "ax.contour(XX, YY, Z, colors='k', levels=[-1, 0, 1], alpha=0.5,\n",
        "           linestyles=['--', '-', '--'])\n",
        "\n",
        "ax.scatter(model.support_vectors_[:, 0], model.support_vectors_[:, 1], s=100,\n",
        "           linewidth=1, facecolors='none', edgecolors='k')\n",
        "plt.show()"
      ]
    },
    {
      "cell_type": "markdown",
      "id": "a126a0ce",
      "metadata": {
        "id": "a126a0ce"
      },
      "source": [
        "Una propiedad muy interesante de SVM es que realmente solo interesan los puntos cercanos a la línea de separación, el resto no vana a cambiar nada. Esto le hace más independiente a outlayers"
      ]
    },
    {
      "cell_type": "code",
      "execution_count": null,
      "id": "f314cf57",
      "metadata": {
        "id": "f314cf57"
      },
      "outputs": [],
      "source": [
        "df2 = df[(df.a>16.6) & (df.b>16.1)]\n",
        "df0 = df2[df2.c==0]\n",
        "df1 = df2[df2.c==1]\n",
        "\n",
        "XColumns = [\"a\",\"b\"]\n",
        "yColumn = [\"c\"]\n",
        "X = df2[XColumns]\n",
        "y = df2[yColumn]\n",
        "\n",
        "metodo = SVC(kernel='linear', C=1E10)\n",
        "model = metodo.fit(X, y)\n",
        "\n",
        "model.support_vectors_\n",
        "\n",
        "fig, ax = plt.subplots(figsize=(7, 5))\n",
        "ax.scatter(df0.a,df0.b,color=\"b\",s=3)\n",
        "ax.scatter(df1.a,df1.b,color=\"r\",s=3)\n",
        "xlim = ax.get_xlim()\n",
        "ylim = ax.get_ylim()\n",
        "xx = np.linspace(xlim[0], xlim[1], 30)\n",
        "yy = np.linspace(ylim[0], ylim[1], 30)\n",
        "YY, XX = np.meshgrid(yy, xx)\n",
        "xy = np.vstack([XX.ravel(), YY.ravel()]).T\n",
        "Z = model.decision_function(xy).reshape(XX.shape)\n",
        "ax.contour(XX, YY, Z, colors='k', levels=[-1, 0, 1], alpha=0.5,\n",
        "           linestyles=['--', '-', '--'])\n",
        "\n",
        "ax.scatter(model.support_vectors_[:, 0], model.support_vectors_[:, 1], s=100,\n",
        "           linewidth=1, facecolors='none', edgecolors='k')\n",
        "plt.show()"
      ]
    },
    {
      "cell_type": "markdown",
      "id": "1c58f77f",
      "metadata": {
        "id": "1c58f77f"
      },
      "source": [
        "Vamos ahora a probar con datos no linealmente separables"
      ]
    },
    {
      "cell_type": "code",
      "execution_count": null,
      "id": "c4bc807a",
      "metadata": {
        "id": "c4bc807a"
      },
      "outputs": [],
      "source": [
        "from sklearn.datasets import make_circles\n",
        "X, y = make_circles(100, factor=.1, noise=.1)\n",
        "\n",
        "df= pd.DataFrame(X,columns=[\"a\",\"b\"])\n",
        "df[\"c\"] = y\n",
        "df0 = df[df.c==0]\n",
        "df1 = df[df.c==1]\n",
        "\n",
        "fig, ax = plt.subplots(figsize=(7, 5))\n",
        "ax.scatter(df0.a,df0.b,color=\"b\",s=3)\n",
        "ax.scatter(df1.a,df1.b,color=\"r\",s=3)\n",
        "\n",
        "#plt.scatter(X[:, 0], X[:, 1], c=y, s=50, cmap='autumn')\n",
        "plt.show()"
      ]
    },
    {
      "cell_type": "code",
      "execution_count": null,
      "id": "56f2a3f1",
      "metadata": {
        "id": "56f2a3f1"
      },
      "outputs": [],
      "source": [
        "model=SVC(kernel='linear').fit(X, y)\n",
        "\n",
        "fig, ax = plt.subplots(figsize=(7, 5))\n",
        "ax.scatter(df0.a,df0.b,color=\"b\",s=3)\n",
        "ax.scatter(df1.a,df1.b,color=\"r\",s=3)\n",
        "\n",
        "xlim = ax.get_xlim()\n",
        "ylim = ax.get_ylim()\n",
        "xx = np.linspace(xlim[0], xlim[1], 30)\n",
        "yy = np.linspace(ylim[0], ylim[1], 30)\n",
        "YY, XX = np.meshgrid(yy, xx)\n",
        "xy = np.vstack([XX.ravel(), YY.ravel()]).T\n",
        "Z = model.decision_function(xy).reshape(XX.shape)# plot decision boundary and margins\n",
        "ax.contour(XX, YY, Z, colors='k', levels=[-1, 0, 1], alpha=0.5,\n",
        "           linestyles=['--', '-', '--'])\n",
        "# plot support vectors\n",
        "ax.scatter(model.support_vectors_[:, 0], model.support_vectors_[:, 1], s=100,\n",
        "           linewidth=1, facecolors='none', edgecolors='k')\n",
        "plt.show()"
      ]
    },
    {
      "cell_type": "code",
      "execution_count": null,
      "id": "d242149b",
      "metadata": {
        "scrolled": true,
        "id": "d242149b"
      },
      "outputs": [],
      "source": [
        "from mpl_toolkits.mplot3d import axes3d\n",
        "fig = plt.figure()\n",
        "ax = fig.add_subplot(projection='3d')\n",
        "ax.scatter(df0.a,df0.b,df0.c,color=\"b\",s=3)\n",
        "ax.scatter(df1.a,df1.b,df1.c,color=\"r\",s=3)\n",
        "#ax.view_init(14, 5, 1)\n",
        "plt.show()"
      ]
    },
    {
      "cell_type": "markdown",
      "id": "ca20f8ce",
      "metadata": {
        "id": "ca20f8ce"
      },
      "source": [
        "El \"Kernel Trick\""
      ]
    },
    {
      "cell_type": "code",
      "execution_count": null,
      "id": "c8d4bd97",
      "metadata": {
        "id": "c8d4bd97"
      },
      "outputs": [],
      "source": [
        "model=SVC(kernel='rbf',probability=True).fit(X, y)\n",
        "fig, ax = plt.subplots(figsize=(7, 5))\n",
        "ax.scatter(df0.a,df0.b,color=\"b\",s=3,label=\"0\")\n",
        "ax.scatter(df1.a,df1.b,color=\"r\",s=3,label=\"1\")\n",
        "\n",
        "xlim = ax.get_xlim()\n",
        "ylim = ax.get_ylim()\n",
        "xx = np.linspace(xlim[0], xlim[1], 30)\n",
        "yy = np.linspace(ylim[0], ylim[1], 30)\n",
        "YY, XX = np.meshgrid(yy, xx)\n",
        "xy = np.vstack([XX.ravel(), YY.ravel()]).T\n",
        "Z = model.decision_function(xy).reshape(XX.shape)# plot decision boundary and margins\n",
        "ax.contour(XX, YY, Z, colors='k', levels=[-1, 0, 1], alpha=0.5,\n",
        "           linestyles=['--', '-', '--'])\n",
        "# plot support vectors\n",
        "ax.scatter(model.support_vectors_[:, 0], model.support_vectors_[:, 1], s=100,\n",
        "           linewidth=1, facecolors='none', edgecolors='k')\n",
        "plt.legend()\n",
        "plt.show()"
      ]
    },
    {
      "cell_type": "code",
      "execution_count": null,
      "id": "702e5285",
      "metadata": {
        "id": "702e5285"
      },
      "outputs": [],
      "source": [
        "model.predict_proba([[0,0],[-1,1], [-0.4,0]])"
      ]
    },
    {
      "cell_type": "code",
      "execution_count": null,
      "id": "148031ca",
      "metadata": {
        "id": "148031ca"
      },
      "outputs": [],
      "source": []
    }
  ],
  "metadata": {
    "kernelspec": {
      "display_name": "Python 3 (ipykernel)",
      "language": "python",
      "name": "python3"
    },
    "language_info": {
      "codemirror_mode": {
        "name": "ipython",
        "version": 3
      },
      "file_extension": ".py",
      "mimetype": "text/x-python",
      "name": "python",
      "nbconvert_exporter": "python",
      "pygments_lexer": "ipython3",
      "version": "3.9.12"
    },
    "colab": {
      "provenance": [],
      "include_colab_link": true
    }
  },
  "nbformat": 4,
  "nbformat_minor": 5
}