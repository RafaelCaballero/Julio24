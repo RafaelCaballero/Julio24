{
 "cells": [
  {
   "cell_type": "markdown",
   "metadata": {
    "id": "rUA6_wKkxs30"
   },
   "source": [
    "# Introducción a la ciencia de datos con Python\n",
    "### Rafa Caballero\n",
    "\n",
    "## Fechas\n",
    "\n",
    "\n",
    "A menudo tenemos que trabajar con fechas. Una operación habitual es tener que convertir un string a formato fecha. Para eso utilizaremos la función `strptime`"
   ]
  },
  {
   "cell_type": "code",
   "execution_count": null,
   "metadata": {
    "id": "SnojbzTTxsGN",
    "outputId": "9b352c6a-7953-42bc-8bed-d71abf0ad61f"
   },
   "outputs": [],
   "source": [
    "from datetime import datetime\n",
    "\n",
    "date_time_str1 = '18/09/19 01:55:19'\n",
    "\n",
    "date_time1 = datetime.strptime(date_time_str1, '%d/%m/%y %H:%M:%S')\n",
    "\n",
    "\n",
    "print (\"El tipo ahora es \",  type(date_time1))\n",
    "print (\"El valor es \", date_time1)"
   ]
  },
  {
   "cell_type": "markdown",
   "metadata": {
    "id": "qhZCnRzxz5uU"
   },
   "source": [
    "La lista de formatos posibles se puede ver [aquí](https://docs.python.org/3.7/library/datetime.html?highlight=strptime#strftime-strptime-behavior)"
   ]
  },
  {
   "cell_type": "code",
   "execution_count": null,
   "metadata": {
    "id": "-jI47tWzx6Yr",
    "outputId": "5d4dcd91-9ed8-495e-8392-374d97dd4a8a"
   },
   "outputs": [],
   "source": [
    "date_time_str2 = '16-09-21| 22:55:19'\n",
    "\n",
    "date_time2 = datetime.strptime(date_time_str2, '%d-%m-%y| %H:%M:%S')\n",
    "\n",
    "\n",
    "print (\"El tipo ahora es \",  type(date_time2))\n",
    "print (\"El valor es \", date_time2)"
   ]
  },
  {
   "cell_type": "markdown",
   "metadata": {
    "id": "eMqUSm9d1WRV"
   },
   "source": [
    "Una ventaja de tener el tipo fecha es que podemos obtener los componentes y hacer operaciones"
   ]
  },
  {
   "cell_type": "code",
   "execution_count": null,
   "metadata": {
    "id": "3hJtbIJo1eCj",
    "outputId": "acabc9bb-6ed6-4a98-ab67-61f9e427bace"
   },
   "outputs": [],
   "source": [
    "date_time2.day"
   ]
  },
  {
   "cell_type": "markdown",
   "metadata": {
    "id": "9uXIbjyw1zWl"
   },
   "source": [
    "Las diferencias de fechas son los llamados \"deltas\""
   ]
  },
  {
   "cell_type": "code",
   "execution_count": null,
   "metadata": {
    "id": "YcKiqbzS1ovw",
    "outputId": "a8b2397f-9640-427b-ec43-950bd0dfb649"
   },
   "outputs": [],
   "source": [
    "dif = date_time2 - date_time1\n",
    "dif"
   ]
  },
  {
   "cell_type": "code",
   "execution_count": null,
   "metadata": {
    "id": "wX-AVnjS1lcd",
    "outputId": "e72af98d-c5d0-4ec6-bc7f-11236435be48"
   },
   "outputs": [],
   "source": [
    "date_time2 + dif"
   ]
  },
  {
   "cell_type": "markdown",
   "metadata": {
    "id": "tvDGx5ga2W1t"
   },
   "source": [
    "La función inversa es strftime"
   ]
  },
  {
   "cell_type": "code",
   "execution_count": null,
   "metadata": {
    "id": "0V2RaKlF2aQK",
    "outputId": "8e5d3e8b-2c79-49b7-d4d2-e63a68b5ad57"
   },
   "outputs": [],
   "source": [
    "sfecha = date_time2.strftime(\"%Y-%m-%d, %H:%M:%S\")\n",
    "print(\"fecha:\",sfecha)"
   ]
  },
  {
   "cell_type": "markdown",
   "metadata": {
    "id": "UV1CbCj13KG1"
   },
   "source": [
    "**Ejercicio** Consideramos el siguiente fichero"
   ]
  },
  {
   "cell_type": "code",
   "execution_count": null,
   "metadata": {
    "id": "yOH9oJ6b3iWt",
    "outputId": "6c5e5571-c15d-4b1a-fc00-4646e4ee4bb4"
   },
   "outputs": [],
   "source": [
    "fileIn = \"https://raw.githubusercontent.com/RafaelCaballero/tdm/master/datos/tusa2020.csv\"\n",
    "import pandas as pd\n",
    "df = pd.read_csv(fileIn)\n",
    "df"
   ]
  },
  {
   "cell_type": "markdown",
   "metadata": {
    "id": "vo1xsne54Oq-"
   },
   "source": [
    "queremos extraer los datos de la fecha, por ejemplo para saber a qué hora se tuitea más. Para ello intentamos primero convertir una fecha concreta a datetime. Es importante observar que todas las fechas acaban en .000Z"
   ]
  },
  {
   "cell_type": "code",
   "execution_count": null,
   "metadata": {
    "id": "8KzTt7et4KzF"
   },
   "outputs": [],
   "source": [
    "s = \"2020-10-30T13:04:26.000Z\"\n",
    "\n",
    "formato = \n",
    "datetime.strptime(s,formato)"
   ]
  },
  {
   "cell_type": "markdown",
   "metadata": {
    "id": "u-kwKW6h6HLe"
   },
   "source": [
    "Ahora podemos aplicárselo a la columna completa, para convertirla en fecha, usando pd.to_datetime, como se explica [aquí](https://stackoverflow.com/questions/17134716/convert-dataframe-column-type-from-string-to-datetime). El formato es el mismo"
   ]
  },
  {
   "cell_type": "code",
   "execution_count": null,
   "metadata": {
    "id": "s26asRsu6K0l"
   },
   "outputs": [],
   "source": [
    "\n"
   ]
  },
  {
   "cell_type": "markdown",
   "metadata": {
    "id": "W2WFnBJ2724m"
   },
   "source": [
    "Finalmente podemos extraer la hora. Un detalle importante: cuando queramos aplicar funciones, propiedades típicas de un tipo a una columna, debemos añadir primero un indicador del tipo. Por ejemplo si la columna es un string deberemos incluir algo como `df[\"nombre\"].str.upper()`, y si es una fecha/hora lo mismo pero con dt `df[\"fecha\"].dt.hour`"
   ]
  },
  {
   "cell_type": "code",
   "execution_count": null,
   "metadata": {
    "id": "vH7NoF7_8W-u"
   },
   "outputs": [],
   "source": []
  },
  {
   "cell_type": "markdown",
   "metadata": {
    "id": "uuq8A81o8YJ1"
   },
   "source": [
    "Ahora ya podemos crear la columna hora:"
   ]
  },
  {
   "cell_type": "code",
   "execution_count": null,
   "metadata": {
    "id": "9kZwn1DG8a6F"
   },
   "outputs": [],
   "source": []
  },
  {
   "cell_type": "markdown",
   "metadata": {},
   "source": [
    "Para terminar señalemos que a menudo podemos hacer la conversión automáticamente al cargar el dataframe, ahorrándonos el esfuerzo de buscar el formato etc...no funciona siempre pero sí a menudo"
   ]
  },
  {
   "cell_type": "code",
   "execution_count": null,
   "metadata": {},
   "outputs": [],
   "source": [
    "fileIn = \"https://raw.githubusercontent.com/RafaelCaballero/tdm/master/datos/tusa2020.csv\"\n",
    "import pandas as pd\n",
    "df= pd.read_csv(fileIn, parse_dates=[\"created_at\"])\n",
    "df"
   ]
  },
  {
   "cell_type": "code",
   "execution_count": null,
   "metadata": {},
   "outputs": [],
   "source": [
    "df.info()"
   ]
  },
  {
   "cell_type": "code",
   "execution_count": null,
   "metadata": {},
   "outputs": [],
   "source": [
    "df.created_at.dt.hour"
   ]
  },
  {
   "cell_type": "code",
   "execution_count": null,
   "metadata": {},
   "outputs": [],
   "source": []
  }
 ],
 "metadata": {
  "colab": {
   "name": "6fechas.ipynb",
   "provenance": []
  },
  "kernelspec": {
   "display_name": "Python 3 (ipykernel)",
   "language": "python",
   "name": "python3"
  },
  "language_info": {
   "codemirror_mode": {
    "name": "ipython",
    "version": 3
   },
   "file_extension": ".py",
   "mimetype": "text/x-python",
   "name": "python",
   "nbconvert_exporter": "python",
   "pygments_lexer": "ipython3",
   "version": "3.9.12"
  }
 },
 "nbformat": 4,
 "nbformat_minor": 1
}
