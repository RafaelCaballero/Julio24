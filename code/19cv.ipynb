{
  "cells": [
    {
      "cell_type": "markdown",
      "metadata": {
        "id": "view-in-github",
        "colab_type": "text"
      },
      "source": [
        "<a href=\"https://colab.research.google.com/github/RafaelCaballero/Julio24/blob/main/code/19cv.ipynb\" target=\"_parent\"><img src=\"https://colab.research.google.com/assets/colab-badge.svg\" alt=\"Open In Colab\"/></a>"
      ]
    },
    {
      "cell_type": "markdown",
      "id": "87c7b269",
      "metadata": {
        "id": "87c7b269"
      },
      "source": [
        "# Introducción a la ciencia de datos con Python\n",
        "### Rafa Caballero\n",
        "\n",
        "\n",
        "## Validación cruzada\n",
        "\n",
        "Como hemos visto para obtener resultados fiables tenemos que repetir muchas veces un experimento. Una forma de evitar esto es utilizar **validación cruzada**. La idea es la siguiente\n",
        "\n",
        "- El dataset se divide aleatoriamente en n trozos (n es un número decidido por el usuario)\n",
        "- Se realizan n experimentos. En cada experimento uno de los trozos es seleccionado como test, y el resto como entrenamiento\n",
        "- El resultado es la media de las n iteraciones\n",
        "\n",
        "El encargado de esta labor es el método [sklearn.model_selection.cross_val_score](https://scikit-learn.org/stable/modules/generated/sklearn.model_selection.cross_val_score.html#sklearn.model_selection.cross_val_score) que recibe el método, la métrica y el número de divisiones a realizar. Las métricas posibles se pueden encontrar [aquí](https://scikit-learn.org/stable/modules/model_evaluation.html)"
      ]
    },
    {
      "cell_type": "code",
      "execution_count": null,
      "id": "7aa061df",
      "metadata": {
        "id": "7aa061df"
      },
      "outputs": [],
      "source": [
        "# Carga del fichero\n",
        "import pandas as pd\n",
        "url = \"https://raw.githubusercontent.com/RafaelCaballero/tdm/master/datos/pisaDataClean.csv\"\n",
        "df = pd.read_csv(url)\n",
        "df"
      ]
    },
    {
      "cell_type": "code",
      "execution_count": null,
      "id": "4b698862",
      "metadata": {
        "id": "4b698862"
      },
      "outputs": [],
      "source": [
        "import math\n",
        "from  sklearn.model_selection import cross_val_score\n",
        "from sklearn.linear_model import LinearRegression\n",
        "\n",
        "\n",
        "# 1 selección de datos\n",
        "XColumns = [\"SCI\", \"REA\"]\n",
        "yColumn = \"MAT\"\n",
        "X = df[XColumns]\n",
        "y = df[yColumn]\n",
        "\n",
        "# 2,3,4\n",
        "metodo = LinearRegression()\n",
        "res = cross_val_score(metodo, X, y, cv=10, scoring=\"neg_mean_squared_error\")\n",
        "math.sqrt(-1*res.mean())"
      ]
    },
    {
      "cell_type": "code",
      "execution_count": null,
      "id": "12b62d93",
      "metadata": {
        "id": "12b62d93"
      },
      "outputs": [],
      "source": [
        "res"
      ]
    },
    {
      "cell_type": "markdown",
      "id": "22d760cc",
      "metadata": {
        "id": "22d760cc"
      },
      "source": [
        "Puede ser muy lento pero puede trabajar en paralelo; `n_jobs=1` indica que utilice todos los procesadores disponibles"
      ]
    },
    {
      "cell_type": "code",
      "execution_count": null,
      "id": "a433966c",
      "metadata": {
        "id": "a433966c"
      },
      "outputs": [],
      "source": [
        "metodo = LinearRegression()\n",
        "res = cross_val_score(metodo, X, y, cv=10, scoring=\"neg_mean_squared_error\",verbose=3,n_jobs=-1)"
      ]
    },
    {
      "cell_type": "markdown",
      "id": "a4b5e155",
      "metadata": {
        "id": "a4b5e155"
      },
      "source": [
        "En algunos casos no tendremos un método \"scoring\" adecuado, o queerremos hacer particiones más complejas, en ese caso se puede construir la métrica o el método para dividir. Por ejemplo, podemos querer \"barajar\" antes de dividir en trozos:"
      ]
    },
    {
      "cell_type": "code",
      "execution_count": null,
      "id": "39e3d628",
      "metadata": {
        "id": "39e3d628"
      },
      "outputs": [],
      "source": [
        "from sklearn.model_selection import KFold\n",
        "from sklearn.metrics import make_scorer\n",
        "from sklearn.metrics import mean_squared_error\n",
        "from sklearn.model_selection import cross_val_score\n",
        "\n",
        "scorer = make_scorer(mean_squared_error)\n",
        "particiones = KFold(n_splits=10, shuffle=True) # nuevo. Para clas. KFoldStratified\n",
        "res = cross_val_score(metodo,X,y,scoring=scorer,cv=particiones)\n",
        "math.sqrt(res.mean())\n"
      ]
    },
    {
      "cell_type": "markdown",
      "id": "cb62125a",
      "metadata": {
        "id": "cb62125a"
      },
      "source": [
        "Si queremos además hacerla media de varias pruebas podemos usar:"
      ]
    },
    {
      "cell_type": "code",
      "execution_count": null,
      "id": "285a4303",
      "metadata": {
        "id": "285a4303"
      },
      "outputs": [],
      "source": [
        "from sklearn.model_selection import RepeatedKFold\n",
        "from sklearn.model_selection import cross_val_score\n",
        "\n",
        "repite = RepeatedKFold(n_splits=20, n_repeats=10)\n",
        "res = cross_val_score(metodo,X,y,scoring=scorer,cv=repite)\n",
        "RMSE = math.sqrt(res.mean())\n",
        "RMSE"
      ]
    },
    {
      "cell_type": "markdown",
      "id": "5c2602fd",
      "metadata": {
        "id": "5c2602fd"
      },
      "source": [
        "Si lo que queremos es obtener una buena estimación de las predicciones totales podemos utilizar [cross_val_predict](https://scikit-learn.org/stable/modules/generated/sklearn.model_selection.cross_val_predict.html)"
      ]
    },
    {
      "cell_type": "code",
      "execution_count": null,
      "id": "e02ab59a",
      "metadata": {
        "id": "e02ab59a"
      },
      "outputs": [],
      "source": [
        "from sklearn.model_selection import cross_val_predict\n",
        "y_pred = cross_val_predict(metodo, X, y, cv=len(X))"
      ]
    },
    {
      "cell_type": "code",
      "execution_count": null,
      "id": "d7cb9b69",
      "metadata": {
        "id": "d7cb9b69"
      },
      "outputs": [],
      "source": [
        "import matplotlib.pyplot as plt\n",
        "\n",
        "\n",
        "x = range(len(y))\n",
        "fig, ax = plt.subplots(figsize=(10, 5))\n",
        "ci = 1.96*RMSE\n",
        "for i in range(len(y_pred)):\n",
        "    plt.plot([x[i],x[i]], [y_pred[i],y[i]],color=\"blue\",alpha=.4)\n",
        "ax.fill_between(x, ( y_pred-ci), ( y_pred+ci), color='b', alpha=.1)\n",
        "ax.scatter(x,y_pred,color=\"red\",s=8,label=\"predicho\")\n",
        "ax.scatter(x,y,color=\"green\",s=8,label=\"real\")\n",
        "plt.legend()\n",
        "plt.show()"
      ]
    },
    {
      "cell_type": "code",
      "source": [],
      "metadata": {
        "id": "0tOCazAgbTvc"
      },
      "id": "0tOCazAgbTvc",
      "execution_count": null,
      "outputs": []
    },
    {
      "cell_type": "markdown",
      "source": [
        "Mas información: https://scikit-learn.org/stable/modules/cross_validation.html#cross-validation"
      ],
      "metadata": {
        "id": "4UuMz5N_bQLs"
      },
      "id": "4UuMz5N_bQLs"
    }
  ],
  "metadata": {
    "kernelspec": {
      "display_name": "Python 3 (ipykernel)",
      "language": "python",
      "name": "python3"
    },
    "language_info": {
      "codemirror_mode": {
        "name": "ipython",
        "version": 3
      },
      "file_extension": ".py",
      "mimetype": "text/x-python",
      "name": "python",
      "nbconvert_exporter": "python",
      "pygments_lexer": "ipython3",
      "version": "3.9.12"
    },
    "colab": {
      "provenance": [],
      "include_colab_link": true
    }
  },
  "nbformat": 4,
  "nbformat_minor": 5
}