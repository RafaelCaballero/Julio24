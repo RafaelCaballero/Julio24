{
  "nbformat": 4,
  "nbformat_minor": 0,
  "metadata": {
    "colab": {
      "provenance": []
    },
    "kernelspec": {
      "name": "python3",
      "display_name": "Python 3"
    },
    "language_info": {
      "name": "python"
    }
  },
  "cells": [
    {
      "cell_type": "markdown",
      "source": [
        "\n",
        "### Ejemplo de nube de palabras\n"
      ],
      "metadata": {
        "id": "NrGV7nCbEgNH"
      }
    },
    {
      "cell_type": "code",
      "source": [
        "!pip install goose3"
      ],
      "metadata": {
        "id": "tuEdpXi8jk16"
      },
      "execution_count": null,
      "outputs": []
    },
    {
      "cell_type": "code",
      "execution_count": null,
      "metadata": {
        "id": "Upgd8U61igZY"
      },
      "outputs": [],
      "source": [
        "# Ejemplo  3.5.1. Nube de palabras\n",
        "from goose3 import Goose\n",
        "import spacy\n",
        "from wordcloud import WordCloud\n",
        "import matplotlib.pyplot as plt\n",
        "\n",
        "# descargamos la noticia\n",
        "g = Goose()\n",
        "pag_dir = \"https://elpais.com/diario/1980/12/10/cultura/\"+\\\n",
        "          \"345250806_850215.html\"\n",
        "articulo = g.extract(url=pag_dir)\n",
        "texto = articulo.cleaned_text\n",
        "\n",
        "# generar nube de palabras\n",
        "nlp = spacy.blank('es')\n",
        "palabrasvacías = nlp.Defaults.stop_words\n",
        "w = WordCloud(stopwords = palabrasvacías)\n",
        "w.generate(texto)\n",
        "\n",
        "# mostramos el resultado\n",
        "fig, ax = plt.subplots(1,1, figsize=(20,7),dpi=100)\n",
        "plt.imshow(w)\n",
        "fig.savefig(\"wordcloud1.png\")"
      ]
    }
  ]
}