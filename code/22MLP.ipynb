{
  "cells": [
    {
      "cell_type": "markdown",
      "metadata": {
        "id": "view-in-github",
        "colab_type": "text"
      },
      "source": [
        "<a href=\"https://colab.research.google.com/github/RafaelCaballero/Julio24/blob/main/code/22MLP.ipynb\" target=\"_parent\"><img src=\"https://colab.research.google.com/assets/colab-badge.svg\" alt=\"Open In Colab\"/></a>"
      ]
    },
    {
      "cell_type": "markdown",
      "id": "62f28d88",
      "metadata": {
        "id": "62f28d88"
      },
      "source": [
        "\n",
        "# Introducción a la ciencia de datos con Python\n",
        "### Rafa Caballero\n",
        "\n",
        "## Aprendizaje automático en Python (I) - Rafael Caballero\n",
        "\n",
        "## Multilayer Perceptron"
      ]
    },
    {
      "cell_type": "code",
      "execution_count": null,
      "id": "064ff1f3",
      "metadata": {
        "id": "064ff1f3",
        "outputId": "64a07b24-9cc1-47a9-cabc-316ae954f149"
      },
      "outputs": [
        {
          "data": {
            "text/plain": [
              "(70000, 784)"
            ]
          },
          "execution_count": 86,
          "metadata": {},
          "output_type": "execute_result"
        }
      ],
      "source": [
        "import warnings\n",
        "import matplotlib.pyplot as plt\n",
        "from sklearn.datasets import fetch_openml\n",
        "from sklearn.exceptions import ConvergenceWarning\n",
        "from sklearn.neural_network import MLPClassifier\n",
        "from sklearn.model_selection import train_test_split\n",
        "warnings.filterwarnings(\"ignore\", category=ConvergenceWarning, module=\"sklearn\")\n",
        "\n",
        "# Load data from https://www.openml.org/d/554\n",
        "X, y = fetch_openml(\n",
        "    \"mnist_784\", version=1, return_X_y=True, as_frame=False, parser=\"pandas\"\n",
        ")\n",
        "X = X / 255.0 # valores entre 0 y 1\n",
        "\n",
        "\n",
        "a,b = X.shape\n",
        "a,b"
      ]
    },
    {
      "cell_type": "code",
      "execution_count": null,
      "id": "6f5f59d9",
      "metadata": {
        "id": "6f5f59d9",
        "outputId": "1af0248b-9a92-4563-891e-d00d86872f17"
      },
      "outputs": [
        {
          "data": {
            "text/plain": [
              "1    7877\n",
              "7    7293\n",
              "3    7141\n",
              "2    6990\n",
              "9    6958\n",
              "0    6903\n",
              "6    6876\n",
              "8    6825\n",
              "4    6824\n",
              "5    6313\n",
              "dtype: int64"
            ]
          },
          "execution_count": 68,
          "metadata": {},
          "output_type": "execute_result"
        }
      ],
      "source": [
        "import pandas as pd\n",
        "pd.value_counts(y)"
      ]
    },
    {
      "cell_type": "markdown",
      "id": "27917e48",
      "metadata": {
        "id": "27917e48"
      },
      "source": [
        "Mostramos un dígito al azar"
      ]
    },
    {
      "cell_type": "code",
      "execution_count": null,
      "id": "9b03c7f4",
      "metadata": {
        "id": "9b03c7f4",
        "outputId": "f490ff7c-0595-4739-d327-501102c62d3a"
      },
      "outputs": [
        {
          "data": {
            "image/png": "[encoded data removed]",
            "text/plain": [
              "<Figure size 640x480 with 1 Axes>"
            ]
          },
          "metadata": {},
          "output_type": "display_data"
        }
      ],
      "source": [
        "import random\n",
        "\n",
        "p  = random.randint(0,a)\n",
        "plt.imshow(X[p].reshape(28,28))\n",
        "plt.title(y[p])\n",
        "plt.show()"
      ]
    },
    {
      "cell_type": "markdown",
      "id": "4d63f90e",
      "metadata": {
        "id": "4d63f90e"
      },
      "source": [
        "Aplicamos un perceptrón de una sola capa con 60 celulas"
      ]
    },
    {
      "cell_type": "code",
      "execution_count": null,
      "id": "3cc2f6df",
      "metadata": {
        "id": "3cc2f6df",
        "outputId": "03b1f5b0-9838-4a48-fb14-a24f8adaddc9"
      },
      "outputs": [
        {
          "name": "stdout",
          "output_type": "stream",
          "text": [
            "Iteration 1, loss = 0.42139196\n",
            "Iteration 2, loss = 0.17166282\n",
            "Iteration 3, loss = 0.12394311\n",
            "Iteration 4, loss = 0.09444770\n",
            "Iteration 5, loss = 0.07559358\n",
            "Iteration 6, loss = 0.06126929\n",
            "Iteration 7, loss = 0.04876525\n",
            "Iteration 8, loss = 0.03968531\n",
            "Iteration 9, loss = 0.02932676\n",
            "Iteration 10, loss = 0.02133327\n",
            "Iteration 11, loss = 0.01778153\n",
            "Iteration 12, loss = 0.01574767\n",
            "Iteration 13, loss = 0.00944468\n",
            "Iteration 14, loss = 0.00574016\n",
            "Iteration 15, loss = 0.00357786\n",
            "Iteration 16, loss = 0.00248450\n",
            "Iteration 17, loss = 0.00225842\n",
            "Iteration 18, loss = 0.00169201\n",
            "Iteration 19, loss = 0.00147455\n",
            "Iteration 20, loss = 0.00139295\n",
            "Iteration 21, loss = 0.00132305\n",
            "Iteration 22, loss = 0.00123449\n",
            "Iteration 23, loss = 0.00117360\n",
            "Iteration 24, loss = 0.00112034\n",
            "Iteration 25, loss = 0.00106820\n",
            "Iteration 26, loss = 0.00104170\n",
            "Iteration 27, loss = 0.00099454\n",
            "Iteration 28, loss = 0.00096471\n",
            "Iteration 29, loss = 0.00093429\n",
            "Iteration 30, loss = 0.00090730\n",
            "Training loss did not improve more than tol=0.000100 for 10 consecutive epochs. Stopping.\n",
            "Training set score:  1.0\n",
            "Test set score:  0.9666122448979592\n"
          ]
        }
      ],
      "source": [
        "\n",
        "X_train, X_test, y_train, y_test = train_test_split(X, y, test_size=0.7)\n",
        "\n",
        "mlp = MLPClassifier(\n",
        "    hidden_layer_sizes=(60,),\n",
        "    max_iter=100,\n",
        "    alpha=1e-4,\n",
        "    solver=\"sgd\",\n",
        "    verbose=10,\n",
        "    random_state=1,\n",
        "    learning_rate_init=0.25,\n",
        ")\n",
        "\n",
        "mlp.fit(X_train, y_train)\n",
        "\n",
        "print(\"Training set score: \",  mlp.score(X_train, y_train))\n",
        "print(\"Test set score: \",  mlp.score(X_test, y_test))\n"
      ]
    },
    {
      "cell_type": "code",
      "execution_count": null,
      "id": "2e97098c",
      "metadata": {
        "id": "2e97098c",
        "outputId": "68bad39c-dc8e-4f6b-ebe2-2b9d86652c55"
      },
      "outputs": [
        {
          "data": {
            "image/png": "[encoded data removed]",
            "text/plain": [
              "<Figure size 640x480 with 1 Axes>"
            ]
          },
          "metadata": {},
          "output_type": "display_data"
        }
      ],
      "source": [
        "i = random.randint(0,len(X_test)-1)\n",
        "plt.imshow(X_test[i].reshape(28,28))\n",
        "\n",
        "p = mlp.predict([X_test[i]])\n",
        "plt.title(\"real \"+y_test[i]+\" - predicho: \"+p[0])\n",
        "plt.show()\n"
      ]
    },
    {
      "cell_type": "code",
      "execution_count": null,
      "id": "c03ad561",
      "metadata": {
        "id": "c03ad561"
      },
      "outputs": [],
      "source": []
    }
  ],
  "metadata": {
    "kernelspec": {
      "display_name": "Python 3 (ipykernel)",
      "language": "python",
      "name": "python3"
    },
    "language_info": {
      "codemirror_mode": {
        "name": "ipython",
        "version": 3
      },
      "file_extension": ".py",
      "mimetype": "text/x-python",
      "name": "python",
      "nbconvert_exporter": "python",
      "pygments_lexer": "ipython3",
      "version": "3.9.12"
    },
    "colab": {
      "provenance": [],
      "include_colab_link": true
    }
  },
  "nbformat": 4,
  "nbformat_minor": 5
}