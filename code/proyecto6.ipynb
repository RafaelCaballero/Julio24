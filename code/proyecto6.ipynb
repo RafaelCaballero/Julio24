{
  "cells": [
    {
      "cell_type": "markdown",
      "metadata": {
        "id": "view-in-github",
        "colab_type": "text"
      },
      "source": [
        "<a href=\"https://colab.research.google.com/github/RafaelCaballero/Julio24/blob/main/code/proyecto6.ipynb\" target=\"_parent\"><img src=\"https://colab.research.google.com/assets/colab-badge.svg\" alt=\"Open In Colab\"/></a>"
      ]
    },
    {
      "cell_type": "markdown",
      "id": "48880c54",
      "metadata": {
        "id": "48880c54"
      },
      "source": [
        "# Introducción a la ciencia de datos con Python\n",
        "Rafa Caballero\n",
        "\n",
        "## Proyecto 8, regresión logística\n",
        "\n",
        "Comenzamos cargando algunos datos\n"
      ]
    },
    {
      "cell_type": "code",
      "execution_count": null,
      "id": "fb8e8be6",
      "metadata": {
        "id": "fb8e8be6"
      },
      "outputs": [],
      "source": [
        "import pandas as pd\n",
        "import yfinance as yf\n",
        "import numpy as np\n",
        "\n",
        "valores = [\"AAPL\",\"AMZN\",\"GOOG\",\"NFLX\",\"MSFT\",\"SHEL\",\"LLY\"]\n",
        "for v in valores:\n",
        "    #print(v)\n",
        "    df = yf.download(v,\n",
        "                          start='2008-01-01',\n",
        "                          end='2024-06-30')\n",
        "\n",
        "    # además lo renombramos\n",
        "    df.columns = [c+\"_\"+v for c in df.columns]\n",
        "    if v==valores[0]:\n",
        "        df_total = df\n",
        "    else:\n",
        "        df_total = pd.concat([df_total, df], axis=1)\n",
        "\n",
        "df_total = df_total.pct_change().dropna()\n"
      ]
    },
    {
      "cell_type": "markdown",
      "id": "5e48fd1b",
      "metadata": {
        "id": "5e48fd1b"
      },
      "source": [
        "Marcamos con 1 las columnas en las que AAPL-Close supera la media de la serie histórica"
      ]
    },
    {
      "cell_type": "code",
      "execution_count": null,
      "id": "f0fee4f2",
      "metadata": {
        "id": "f0fee4f2"
      },
      "outputs": [],
      "source": [
        "filtro = df_total[\"Close_AAPL\"]> df_total[\"Close_AAPL\"].mean()\n",
        "df_total.loc[filtro,\"label\"]=1\n",
        "df_total.loc[~filtro,\"label\"]=0\n",
        "# la ponemos la primera para que se vea mejor\n",
        "first_column = df_total.pop('label')\n",
        "df_total.insert(0, 'label', first_column)\n",
        "df_total"
      ]
    },
    {
      "cell_type": "markdown",
      "source": [
        "**Ejercicio**\n",
        "\n",
        "Intentar enteder las siguientes instrucciones ¿qué efecto tienen? (pista: fijarse en la columna \"label\")"
      ],
      "metadata": {
        "id": "Q7Bx0dpsFiMU"
      },
      "id": "Q7Bx0dpsFiMU"
    },
    {
      "cell_type": "code",
      "source": [
        "df = df_total.copy()\n",
        "df.iloc[0:-1,0] = df.iloc[1:,0]\n",
        "df = df.iloc[0:-1]\n",
        "df"
      ],
      "metadata": {
        "id": "MJOcNCWXFqnW"
      },
      "id": "MJOcNCWXFqnW",
      "execution_count": null,
      "outputs": []
    },
    {
      "cell_type": "markdown",
      "source": [
        "**Ejercicio**\n",
        "Eliminar de df todas las columnas relacionadas con AAPL, porque lo que buscamos es ver si Apple va a tener un incremento a partir del resto. Se puede escribir el nombre de las columnas a borrar a mano"
      ],
      "metadata": {
        "id": "kuQPJYMVHPlV"
      },
      "id": "kuQPJYMVHPlV"
    },
    {
      "cell_type": "code",
      "source": [
        "print(df.columns)\n",
        "# Solución\n"
      ],
      "metadata": {
        "id": "P3qU15i3HZrr"
      },
      "id": "P3qU15i3HZrr",
      "execution_count": null,
      "outputs": []
    },
    {
      "cell_type": "markdown",
      "id": "33298716",
      "metadata": {
        "id": "33298716"
      },
      "source": [
        "**Ejercicio**\n",
        "\n",
        "Utilizar regresión logística para intentar determinar label a partir del resto de columnas en df. Se puede utilizar la siguiente función para mostrar los resultados:"
      ]
    },
    {
      "cell_type": "code",
      "source": [
        "from sklearn.metrics import classification_report\n",
        "from sklearn.metrics import cohen_kappa_score\n",
        "from sklearn.metrics import confusion_matrix, ConfusionMatrixDisplay\n",
        "import matplotlib.pyplot as plt\n",
        "def evaluar(y_test,y_pred):\n",
        "  k =  cohen_kappa_score(y_test,y_pred)\n",
        "  print(\"kappa \",k)\n",
        "  cm = confusion_matrix(y_test, y_pred, labels=modelo.classes_)\n",
        "  disp = ConfusionMatrixDisplay(confusion_matrix=cm,\n",
        "                                display_labels=modelo.classes_)\n",
        "  disp.plot()\n",
        "\n",
        "  plt.show()\n",
        "\n",
        "  print(classification_report(y_test, y_pred))\n",
        "  return k,cm"
      ],
      "metadata": {
        "id": "_HVdm7ffH3vz"
      },
      "id": "_HVdm7ffH3vz",
      "execution_count": null,
      "outputs": []
    },
    {
      "cell_type": "code",
      "execution_count": null,
      "id": "32c6f6cf",
      "metadata": {
        "id": "32c6f6cf"
      },
      "outputs": [],
      "source": [
        "import matplotlib.pyplot as plt\n",
        "from sklearn.metrics import RocCurveDisplay\n",
        "from sklearn.metrics import roc_auc_score\n",
        "from sklearn.metrics import classification_report\n",
        "from sklearn.metrics import make_scorer,f1_score, accuracy_score, recall_score,cohen_kappa_score\n",
        "\n",
        "from sklearn.linear_model import LogisticRegression\n",
        "\n",
        "### Solución\n",
        "\n",
        "\n",
        "\n",
        ""
      ]
    },
    {
      "cell_type": "code",
      "execution_count": null,
      "id": "8005f3f5",
      "metadata": {
        "id": "8005f3f5"
      },
      "outputs": [],
      "source": []
    },
    {
      "cell_type": "markdown",
      "id": "ca6b32c2",
      "metadata": {
        "id": "ca6b32c2"
      },
      "source": [
        "¿Cuál es el peor valor entre precision y recall que se obtiene? ¿qué indica? ¿a qué puede deberse?"
      ]
    },
    {
      "cell_type": "code",
      "execution_count": null,
      "id": "7dd28c13",
      "metadata": {
        "id": "7dd28c13"
      },
      "outputs": [],
      "source": []
    },
    {
      "cell_type": "markdown",
      "source": [
        "**Ejercicio**\n",
        "\n",
        "PArtimos de los mismos datos:"
      ],
      "metadata": {
        "id": "3gDXVrROH8nR"
      },
      "id": "3gDXVrROH8nR"
    },
    {
      "cell_type": "code",
      "source": [
        "import pandas as pd\n",
        "import yfinance as yf\n",
        "import numpy as np\n",
        "\n",
        "valores = [\"AAPL\",\"AMZN\",\"GOOG\",\"NFLX\",\"MSFT\",\"SHEL\",\"LLY\"]\n",
        "for v in valores:\n",
        "    #print(v)\n",
        "    df = yf.download(v,\n",
        "                          start='2008-01-01',\n",
        "                          end='2024-06-30')\n",
        "\n",
        "    # además lo renombramos\n",
        "    df.columns = [c+\"_\"+v for c in df.columns]\n",
        "    if v==valores[0]:\n",
        "        df_total = df\n",
        "    else:\n",
        "        df_total = pd.concat([df_total, df], axis=1)\n",
        "\n",
        "df_total = df_total.pct_change().dropna()\n",
        "df_total"
      ],
      "metadata": {
        "id": "Jl60C8qhILwv"
      },
      "id": "Jl60C8qhILwv",
      "execution_count": null,
      "outputs": []
    },
    {
      "cell_type": "markdown",
      "source": [
        "Ahora queremos obtener el incremento de Close_AAPL mediante regresión\n",
        "\n",
        "En particular se propone:\n",
        "\n",
        "1) Eliminar todas las columnas relacionadas con APPL excepto CLOSE_APPL\n",
        "\n",
        "2) Usar regresión lineal para intentar calcularla\n",
        "\n",
        "Se propone usar los 4 pasos (sin validación cruzada)"
      ],
      "metadata": {
        "id": "sB4VNbzgIOxd"
      },
      "id": "sB4VNbzgIOxd"
    },
    {
      "cell_type": "code",
      "source": [
        "#  Solución\n"
      ],
      "metadata": {
        "id": "NaQPPvhGIq_a"
      },
      "id": "NaQPPvhGIq_a",
      "execution_count": null,
      "outputs": []
    },
    {
      "cell_type": "markdown",
      "source": [
        "**Ejercicio**\n",
        "\n",
        "Examinar los coeficientes del modelo ¿Qué indican?\n",
        "\n",
        "\n",
        "\n",
        "\n"
      ],
      "metadata": {
        "id": "2TXW-whoIsZw"
      },
      "id": "2TXW-whoIsZw"
    },
    {
      "cell_type": "markdown",
      "source": [
        "**Ejercicio**\n",
        "\n",
        "Hacerlo ahora con validación cruzada"
      ],
      "metadata": {
        "id": "G4e1EFyzI9Kx"
      },
      "id": "G4e1EFyzI9Kx"
    },
    {
      "cell_type": "code",
      "source": [],
      "metadata": {
        "id": "Q-7zOZmfI6zj"
      },
      "id": "Q-7zOZmfI6zj",
      "execution_count": null,
      "outputs": []
    },
    {
      "cell_type": "markdown",
      "source": [
        "**Ejercicio**\n",
        "\n",
        "Probar algún otro método de regresión como RandomForestRegressor o GradientBoostingRegressor ¿se mejora el error?"
      ],
      "metadata": {
        "id": "DT-EMG-nJBAK"
      },
      "id": "DT-EMG-nJBAK"
    },
    {
      "cell_type": "code",
      "source": [],
      "metadata": {
        "id": "ZaZEAyLoJClw"
      },
      "id": "ZaZEAyLoJClw",
      "execution_count": null,
      "outputs": []
    }
  ],
  "metadata": {
    "kernelspec": {
      "display_name": "Python 3 (ipykernel)",
      "language": "python",
      "name": "python3"
    },
    "language_info": {
      "codemirror_mode": {
        "name": "ipython",
        "version": 3
      },
      "file_extension": ".py",
      "mimetype": "text/x-python",
      "name": "python",
      "nbconvert_exporter": "python",
      "pygments_lexer": "ipython3",
      "version": "3.11.4"
    },
    "colab": {
      "provenance": [],
      "include_colab_link": true
    }
  },
  "nbformat": 4,
  "nbformat_minor": 5
}