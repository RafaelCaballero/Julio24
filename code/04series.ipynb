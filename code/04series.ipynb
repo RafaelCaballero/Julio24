{
  "cells": [
    {
      "cell_type": "markdown",
      "metadata": {
        "id": "view-in-github",
        "colab_type": "text"
      },
      "source": [
        "<a href=\"https://colab.research.google.com/github/RafaelCaballero/Julio24/blob/main/code/04series.ipynb\" target=\"_parent\"><img src=\"https://colab.research.google.com/assets/colab-badge.svg\" alt=\"Open In Colab\"/></a>"
      ]
    },
    {
      "cell_type": "markdown",
      "metadata": {
        "id": "jf7mOx9ZLKNJ"
      },
      "source": [
        "# Introducción a la ciencia de datos con Python\n",
        "###  Rafa Caballero\n",
        "\n",
        "\n",
        "## Pandas - Series\n",
        "\n",
        "Vamos a ver las características principales de esta biblioteca\n",
        "que \"recubre\" numpy con estructuras de alto nivel y herramientas que\n",
        "facilitan el tratamiento de datos. Representa una fila o una columna de un dataframe\n",
        "\n",
        "\n",
        "### Índice\n",
        "[Creación](#Creación)<br>\n",
        "[Índices](#Índices)<br>\n",
        "[Atributos](#Atributos)<br>\n",
        "[Valores temporales](#Valores-temporales)<br>\n"
      ]
    },
    {
      "cell_type": "markdown",
      "metadata": {
        "id": "9w5cPdWCLKNN"
      },
      "source": [
        "### Creación"
      ]
    },
    {
      "cell_type": "markdown",
      "metadata": {
        "id": "gxQFZdYsLKNO"
      },
      "source": [
        "La forma más sencilla: a partir de arrays unidimensionales de cualquier tipo admitido por Numpy"
      ]
    },
    {
      "cell_type": "code",
      "execution_count": null,
      "metadata": {
        "id": "JKpOgVUdLKNP"
      },
      "outputs": [],
      "source": [
        "import pandas as pd\n",
        "from pandas import Series\n",
        "\n",
        "serie = Series([1.0, 7., 5., 3.1]) # creación\n",
        "serie"
      ]
    },
    {
      "cell_type": "markdown",
      "metadata": {
        "id": "ZwN76Z8cLKNR"
      },
      "source": [
        "Ya vemos algo interesante; salen 2 columnas, el valor que hemos puesto pero antes su posición. Es lo que vamos a llamar *índice* y se puede ver como un \"nombre\" del valor."
      ]
    },
    {
      "cell_type": "markdown",
      "metadata": {
        "id": "J5StqA7MLKNR"
      },
      "source": [
        "### Índices"
      ]
    },
    {
      "cell_type": "markdown",
      "metadata": {
        "id": "vhK28mlRLKNS"
      },
      "source": [
        "Por tanto la columna de la izquierda contiene los índices. Un error muy común es crer que el índice que simplemente es la posición de cada elemento, como parece a primera vista"
      ]
    },
    {
      "cell_type": "code",
      "execution_count": null,
      "metadata": {
        "id": "etyZhEShLKNT"
      },
      "outputs": [],
      "source": [
        "print(serie[3]) # esto es un valor\n",
        "print(serie[0:2]) # esto es una serie, e incluye el índice"
      ]
    },
    {
      "cell_type": "markdown",
      "metadata": {
        "id": "tVZSmlttLKNU"
      },
      "source": [
        "Pero son un identificador de fila, que puede tomar cualquier valor básico"
      ]
    },
    {
      "cell_type": "code",
      "execution_count": null,
      "metadata": {
        "id": "FdiV7jJALKNU"
      },
      "outputs": [],
      "source": [
        "serie = Series([\"Bertoldo\", \"Peláez\", \"C/Jazmín\", \"999999\"],\n",
        "               [\"nombre\",    \"apellido\",\"calle\",  \"teléfono\"]) # creación con ind.\n",
        "serie"
      ]
    },
    {
      "cell_type": "code",
      "execution_count": null,
      "metadata": {
        "id": "eo8JLev-LKNV"
      },
      "outputs": [],
      "source": [
        "print(serie[3],serie['calle'])"
      ]
    },
    {
      "cell_type": "code",
      "execution_count": null,
      "metadata": {
        "id": "SIt475PyLKNW",
        "scrolled": false
      },
      "outputs": [],
      "source": [
        "print(serie['nombre':'calle'])"
      ]
    },
    {
      "cell_type": "code",
      "execution_count": null,
      "metadata": {
        "id": "B8hdjyFNLKNW"
      },
      "outputs": [],
      "source": [
        "print(serie[0:3])"
      ]
    },
    {
      "cell_type": "code",
      "execution_count": null,
      "metadata": {
        "id": "1cenLHBWLKNX"
      },
      "outputs": [],
      "source": [
        "serie = Series([1.0, 7., 5., 3.1],[5,6,7,8]) # creación con ind.\n",
        "serie[7]"
      ]
    },
    {
      "cell_type": "markdown",
      "metadata": {
        "id": "xMmcyhX-LKNX"
      },
      "source": [
        "El índice no debe confundirse con una *clave única*, puede repetirse y en ese caso devuelve una serie"
      ]
    },
    {
      "cell_type": "code",
      "execution_count": null,
      "metadata": {
        "id": "EVQffUceLKNX"
      },
      "outputs": [],
      "source": [
        "serie = Series([1.0, 7., 5., 3.1],[\"d\",\"d\",\"b\",\"d\"]) # creación con ind.\n",
        "serie"
      ]
    },
    {
      "cell_type": "code",
      "execution_count": null,
      "metadata": {
        "id": "sR_UJnJpLKNY"
      },
      "outputs": [],
      "source": [
        "serie['d']"
      ]
    },
    {
      "cell_type": "code",
      "execution_count": null,
      "metadata": {
        "id": "b2Dyo-RXLKNY"
      },
      "outputs": [],
      "source": [
        "print(type(serie['b']))\n",
        "print(type(serie['d']))\n"
      ]
    },
    {
      "cell_type": "markdown",
      "metadata": {
        "id": "6zZw-rOZGHRx"
      },
      "source": [
        "En ocasiones puede haber confusión entre índice y posición"
      ]
    },
    {
      "cell_type": "code",
      "execution_count": null,
      "metadata": {
        "id": "lg5oo6eFGHRx"
      },
      "outputs": [],
      "source": [
        "serie = Series(data=[1.0, 7., 5., 3.1],index=[1,1,3,1])\n",
        "serie"
      ]
    },
    {
      "cell_type": "code",
      "execution_count": null,
      "metadata": {
        "id": "dZ1musG1GHRx"
      },
      "outputs": [],
      "source": [
        "serie[1] # accede por índice, pero es confuso"
      ]
    },
    {
      "cell_type": "markdown",
      "metadata": {
        "id": "IvpBwQECGHRy"
      },
      "source": [
        "La ambigüedad se resuelve mediante los atributos:\n",
        "\n",
        "    - `iloc` nos permite acceder por posición\n",
        "    - `loc` que permite acceder por índice:"
      ]
    },
    {
      "cell_type": "code",
      "execution_count": null,
      "metadata": {
        "id": "7VCFD2YxGHRy"
      },
      "outputs": [],
      "source": [
        "serie.iloc[1]"
      ]
    },
    {
      "cell_type": "code",
      "execution_count": null,
      "metadata": {
        "id": "v7cfiH8aGHRy"
      },
      "outputs": [],
      "source": [
        "serie.loc[1]"
      ]
    },
    {
      "cell_type": "markdown",
      "metadata": {
        "id": "CPeLBdfHLKNZ"
      },
      "source": [
        "Por tanto una *Serie* tiene dos componentes: los valores y sus índice"
      ]
    },
    {
      "cell_type": "code",
      "execution_count": null,
      "metadata": {
        "id": "3w1J0zMkLKNZ"
      },
      "outputs": [],
      "source": [
        "print(serie.values, type(serie.values))\n",
        "print(serie.index, type(serie.index))"
      ]
    },
    {
      "cell_type": "markdown",
      "metadata": {
        "id": "MP9YoGHmLKNa"
      },
      "source": [
        "Ya que una serie es un array Numpy; podemos usar todo lo que vimos al hablar de esta bibliteca\n",
        "\n",
        "*Ej.* Mostrar todos los elementos de `serie` mayores que 3"
      ]
    },
    {
      "cell_type": "code",
      "execution_count": null,
      "metadata": {
        "id": "UnH9ky0kLKNa"
      },
      "outputs": [],
      "source": [
        "filtro = serie>3\n",
        "serie[filtro]"
      ]
    },
    {
      "cell_type": "code",
      "execution_count": null,
      "metadata": {
        "id": "DE-uRqIBGHRz"
      },
      "outputs": [],
      "source": [
        "serie.loc[filtro] # equivalente"
      ]
    },
    {
      "cell_type": "markdown",
      "metadata": {
        "id": "Hci6CV6bLKNa"
      },
      "source": [
        "Cambiar por 0 todos los valores de `serie` con índice 'd'"
      ]
    },
    {
      "cell_type": "code",
      "execution_count": null,
      "metadata": {
        "id": "wHfiVgqVLKNb"
      },
      "outputs": [],
      "source": [
        "serie['d']=0\n",
        "serie"
      ]
    },
    {
      "cell_type": "markdown",
      "metadata": {
        "id": "9iUv5oYlLKNb"
      },
      "source": [
        "En general casi todas las operaciones se refieren a los valores y no a los índices. Solo unas pocas, como `in` se refieren a los índices, lo que puede resultar confuso.\n",
        "\n",
        "Para entenderlo podemos pensar en una Serie como un diccionario, con los índices las claves."
      ]
    },
    {
      "cell_type": "code",
      "execution_count": null,
      "metadata": {
        "id": "JOBSfpR0LKNb"
      },
      "outputs": [],
      "source": [
        "print(0 in serie, 0 in serie.values)\n",
        "print('d' in serie)"
      ]
    },
    {
      "cell_type": "code",
      "execution_count": null,
      "metadata": {
        "id": "v6qppqNTLKNb"
      },
      "outputs": [],
      "source": [
        "sdata = {'Madrid': 6507184, 'Barcelona': 5609350,\n",
        "         'Valencia': 2547986, 'Sevilla': 1939887,\n",
        "         'Alicante': 1838819, 'Málaga':1641121  }\n",
        "ciudades = Series(sdata)\n",
        "ciudades"
      ]
    },
    {
      "cell_type": "markdown",
      "metadata": {
        "id": "X--wCrB5LKNc"
      },
      "source": [
        "**Ej.** Nombres de ciudades con más de 2 millones de habitantes"
      ]
    },
    {
      "cell_type": "code",
      "execution_count": null,
      "metadata": {
        "id": "2VN1hoJeLKNc"
      },
      "outputs": [],
      "source": [
        "filtro = ciudades>2000000\n",
        "ciudades[filtro].index"
      ]
    },
    {
      "cell_type": "markdown",
      "metadata": {
        "id": "MZU6IkwtLKNc"
      },
      "source": [
        "Tiene que haber tantos índices como valores"
      ]
    },
    {
      "cell_type": "code",
      "execution_count": null,
      "metadata": {
        "id": "xnQTStOfLKNc"
      },
      "outputs": [],
      "source": [
        "s2 = Series([4.4,5.5,5],['a','b'])\n",
        "s2"
      ]
    },
    {
      "cell_type": "code",
      "execution_count": null,
      "metadata": {
        "id": "40G-NQrpLKNd"
      },
      "outputs": [],
      "source": [
        "s2 = Series([4.4,5.5,5],index = ['d','b','c','a'])\n",
        "s2"
      ]
    },
    {
      "cell_type": "markdown",
      "metadata": {
        "id": "4oiU4KGMLKNd"
      },
      "source": [
        "Con los diccionarios se pueden hacer cosas un poco más extrañas, que provocan la aparición de valores missing"
      ]
    },
    {
      "cell_type": "code",
      "execution_count": null,
      "metadata": {
        "id": "_qJe6WCkGHR9"
      },
      "outputs": [],
      "source": [
        "sdata = {'Madrid': 6507184, 'Barcelona': 5609350,\n",
        "         'Valencia': 2547986, 'Sevilla': 1939887,\n",
        "         'Alicante': 1838819, 'Málaga':1641121  }\n",
        "ciudades2 = Series(sdata)\n",
        "ciudades2"
      ]
    },
    {
      "cell_type": "code",
      "execution_count": null,
      "metadata": {
        "id": "Z0zNZBRJLKNd"
      },
      "outputs": [],
      "source": [
        "sdata = {'Madrid': 6507184, 'Barcelona': 5609350,\n",
        "         'Valencia': 2547986, 'Sevilla': 1939887,\n",
        "         'Alicante': 1838819, 'Málaga':1641121  }\n",
        "ciudades2 = Series(sdata, ['Málaga','Sevilla','Móstoles'])\n",
        "ciudades2"
      ]
    },
    {
      "cell_type": "markdown",
      "metadata": {
        "id": "ms71AIRILKNd"
      },
      "source": [
        "Los predicados `pd.isnull` (método `isnull`) y `pd.notnull` (método `notnull`) permiten devuelve una Serie (o un DataFrame) con valores booleanos para señalar los valores perdidos"
      ]
    },
    {
      "cell_type": "code",
      "execution_count": null,
      "metadata": {
        "id": "7md1HQ3kLKNd"
      },
      "outputs": [],
      "source": [
        "print(pd.isnull(ciudades2),\"\\n\",\n",
        "      ciudades2.notnull(),type(pd.isnull(ciudades2)))"
      ]
    },
    {
      "cell_type": "markdown",
      "metadata": {
        "id": "D199aS4mLKNe"
      },
      "source": [
        "**Ej.** Crear un objeto tipo Series que sea una copia de  `ciudades2` pero con los valores missing puestos a 0"
      ]
    },
    {
      "cell_type": "code",
      "execution_count": null,
      "metadata": {
        "id": "CHgzD3mBLKNe"
      },
      "outputs": [],
      "source": [
        "ciudades3 = ciudades2.copy()\n",
        "ciudades3[ciudades2.isnull()]=0\n",
        "print(ciudades3,\"\\n\",ciudades2)"
      ]
    },
    {
      "cell_type": "markdown",
      "metadata": {
        "id": "1jN-FwrbLKNe"
      },
      "source": [
        "Los índices se usan para *alinear* los dataframes/series"
      ]
    },
    {
      "cell_type": "code",
      "execution_count": null,
      "metadata": {
        "id": "vS-bf2DELKNe"
      },
      "outputs": [],
      "source": [
        "ciudades + ciudades3"
      ]
    },
    {
      "cell_type": "code",
      "execution_count": null,
      "metadata": {
        "id": "ZkmwMDa9LKNf"
      },
      "outputs": [],
      "source": [
        "ciudades + ciudades2"
      ]
    },
    {
      "cell_type": "markdown",
      "metadata": {
        "id": "Zs4ZyMoVLKNf"
      },
      "source": [
        "**Ej.** ¿Qué resultado dará el siguiente código?"
      ]
    },
    {
      "cell_type": "code",
      "execution_count": null,
      "metadata": {
        "id": "EcD75UtJLKNf"
      },
      "outputs": [],
      "source": [
        "a = Series([0,1,2,3])\n",
        "b = Series(range(4),range(3,-1,-1))\n",
        "a+b"
      ]
    },
    {
      "cell_type": "markdown",
      "metadata": {
        "id": "QRWBJEd-LKNf"
      },
      "source": [
        "**Ej.** ¿Qué podemos hacer con lo ya visto para sumar componente a componente?"
      ]
    },
    {
      "cell_type": "code",
      "execution_count": null,
      "metadata": {
        "id": "ZRyPCSNyLKNf"
      },
      "outputs": [],
      "source": [
        "a.values+b.values"
      ]
    },
    {
      "cell_type": "markdown",
      "metadata": {
        "id": "FslGosv4LKNg"
      },
      "source": [
        "Otra posibilidad es modificar los índices de `b`"
      ]
    },
    {
      "cell_type": "code",
      "execution_count": null,
      "metadata": {
        "id": "ARZE0sdILKNg"
      },
      "outputs": [],
      "source": [
        "b.index = range(4)\n",
        "a+b"
      ]
    },
    {
      "cell_type": "markdown",
      "metadata": {
        "id": "XN8IQ_3YLKNg"
      },
      "source": [
        "El tener los índices en orden poco habitual cuando son numéricos puede dar lugar a confusión"
      ]
    },
    {
      "cell_type": "code",
      "execution_count": null,
      "metadata": {
        "id": "eiptHJr5LKNg"
      },
      "outputs": [],
      "source": [
        "b = Series(range(4),['d','c','b','a'])\n",
        "b"
      ]
    },
    {
      "cell_type": "code",
      "execution_count": null,
      "metadata": {
        "id": "p7_A6yY_LKNg"
      },
      "outputs": [],
      "source": [
        "b['a'],b['b']"
      ]
    },
    {
      "cell_type": "code",
      "execution_count": null,
      "metadata": {
        "id": "1EsoDsmaLKNh"
      },
      "outputs": [],
      "source": [
        "b['d':'b']"
      ]
    },
    {
      "cell_type": "markdown",
      "metadata": {
        "id": "iX0FCT08LKNh"
      },
      "source": [
        "### Atributos"
      ]
    },
    {
      "cell_type": "markdown",
      "metadata": {
        "id": "cza180boLKNh"
      },
      "source": [
        "Además de los atributos *loc*, *iloc*, *index* y *values*, `Series` tiene otros atributos de interés.<br><br>\n",
        "\n",
        "Los siguientes permiten comprobar si una serie es monótona, monótona creciente o monótona decreciente"
      ]
    },
    {
      "cell_type": "code",
      "execution_count": null,
      "metadata": {
        "id": "0SZKnsQmLKNh"
      },
      "outputs": [],
      "source": [
        "a = Series(range(4))\n",
        "a.is_monotonic, a.is_monotonic_decreasing, a.is_monotonic_increasing"
      ]
    },
    {
      "cell_type": "code",
      "execution_count": null,
      "metadata": {
        "id": "R_E1nWbYLKNh"
      },
      "outputs": [],
      "source": [
        "a"
      ]
    },
    {
      "cell_type": "code",
      "execution_count": null,
      "metadata": {
        "id": "H_m394IeLKNi"
      },
      "outputs": [],
      "source": []
    },
    {
      "cell_type": "markdown",
      "metadata": {
        "id": "VWO2JWXJLKNi"
      },
      "source": [
        "En ocasiones es interesante ponerle un nombre a una serie"
      ]
    },
    {
      "cell_type": "code",
      "execution_count": null,
      "metadata": {
        "id": "mR60-DyGLKNi"
      },
      "outputs": [],
      "source": [
        "a.name = 'Datos autobuses Almendralejo'\n",
        "b = a\n",
        "print(b.name )"
      ]
    },
    {
      "cell_type": "code",
      "execution_count": null,
      "metadata": {
        "id": "MuTwhkosLKNi"
      },
      "outputs": [],
      "source": [
        "a"
      ]
    },
    {
      "cell_type": "markdown",
      "metadata": {
        "id": "kEqYH1vPLKNj"
      },
      "source": [
        "El índice también puede tener su nombre"
      ]
    },
    {
      "cell_type": "code",
      "execution_count": null,
      "metadata": {
        "id": "oG2fUeEwLKNj"
      },
      "outputs": [],
      "source": [
        "a.index.name = \"El índice\"\n",
        "a"
      ]
    },
    {
      "cell_type": "markdown",
      "metadata": {
        "id": "F_EoUrCYLKNj"
      },
      "source": [
        "Recordemos también que tenemos muchos de los atributos que existían en Numpy."
      ]
    },
    {
      "cell_type": "code",
      "execution_count": null,
      "metadata": {
        "id": "Jr7nW1efLKNj"
      },
      "outputs": [],
      "source": [
        "print(a.shape, \"\\n\", a.size)"
      ]
    },
    {
      "cell_type": "markdown",
      "metadata": {
        "id": "r8Rp6vDQLKNk"
      },
      "source": [
        "### Valores temporales"
      ]
    },
    {
      "cell_type": "markdown",
      "metadata": {
        "id": "5Z7ozxA8LKNl"
      },
      "source": [
        "A veces es útil tener índices que son intervalos temporales"
      ]
    },
    {
      "cell_type": "code",
      "execution_count": null,
      "metadata": {
        "id": "NEX0m_DiLKNl"
      },
      "outputs": [],
      "source": [
        "import numpy as np\n",
        "idia = pd.date_range('12/30/2022', periods=45)\n",
        "print(idia)\n",
        "serie = Series(np.random.randint(30,size=45),idia)\n",
        "serie\n"
      ]
    },
    {
      "cell_type": "markdown",
      "metadata": {
        "id": "LzeU4JmbLKNl"
      },
      "source": [
        "Se puede cambiar la frecuencia:\n",
        "\n",
        "    Alias \tDescription\n",
        "    B \tbusiness day frequency\n",
        "    C \tcustom business day frequency\n",
        "    D \tcalendar day frequency\n",
        "    W \tweekly frequency\n",
        "    M \tmonth end frequency\n",
        "    SM \tsemi-month end frequency (15th and end of month)\n",
        "    BM \tbusiness month end frequency\n",
        "    CBM \tcustom business month end frequency\n",
        "    MS \tmonth start frequency\n",
        "    SMS \tsemi-month start frequency (1st and 15th)\n",
        "    BMS \tbusiness month start frequency\n",
        "    CBMS \tcustom business month start frequency\n",
        "    Q \tquarter end frequency\n",
        "    BQ \tbusiness quarter end frequency\n",
        "    QS \tquarter start frequency\n",
        "    BQS \tbusiness quarter start frequency\n",
        "    A, Y \tyear end frequency\n",
        "    BA, BY \tbusiness year end frequency\n",
        "    AS, YS \tyear start frequency\n",
        "    BAS, BYS \tbusiness year start frequency\n",
        "    BH \tbusiness hour frequency\n",
        "    H \thourly frequency\n",
        "    T, min \tminutely frequency\n",
        "    S \tsecondly frequency\n",
        "    L, ms \tmilliseconds\n",
        "    U, us \tmicroseconds\n",
        "    N \tnanoseconds"
      ]
    },
    {
      "cell_type": "code",
      "execution_count": null,
      "metadata": {
        "id": "DUMBlY01LKNm"
      },
      "outputs": [],
      "source": [
        "idia = pd.date_range('12/11/2019 16:00:00', periods=15, freq='T')\n",
        "print(idia)\n",
        "seriea = Series(np.random.randint(30,size=15),idia)\n",
        "seriea"
      ]
    },
    {
      "cell_type": "code",
      "execution_count": null,
      "metadata": {
        "id": "HBCoQDyiLKNm"
      },
      "outputs": [],
      "source": [
        "idib = pd.date_range('12/11/2019 16:00:00', periods=15, freq='2T')\n",
        "print(idib)\n",
        "serieb = Series(np.random.randint(30,size=15),idib)\n",
        "serieb"
      ]
    },
    {
      "cell_type": "code",
      "execution_count": null,
      "metadata": {
        "id": "uEhqAZBcLKNm"
      },
      "outputs": [],
      "source": [
        "seriea+serieb"
      ]
    },
    {
      "cell_type": "code",
      "execution_count": null,
      "metadata": {
        "id": "dCIaYxiALKNm"
      },
      "outputs": [],
      "source": [
        "seriea"
      ]
    },
    {
      "cell_type": "code",
      "execution_count": null,
      "metadata": {
        "id": "qQcOns1nQLpi"
      },
      "outputs": [],
      "source": [
        "serieb"
      ]
    },
    {
      "cell_type": "code",
      "execution_count": null,
      "metadata": {
        "id": "BkaB6_MWQRG0"
      },
      "outputs": [],
      "source": [
        "seriec = seriea+serieb\n",
        "seriec"
      ]
    },
    {
      "cell_type": "markdown",
      "metadata": {
        "id": "PWwjuW0BGHSL"
      },
      "source": [
        "### Estadísticas descriptivas\n",
        "\n",
        "Series tiene además varias funciones para extraer información numérica como *mean*, *std*, *max*, *min* y muchas otras. Además de por eficiencia se deben utilizar por su buen tratamiento de los valores nulos:"
      ]
    },
    {
      "cell_type": "code",
      "execution_count": null,
      "metadata": {
        "id": "hV7Jf9ARQf1_"
      },
      "outputs": [],
      "source": [
        "sum(seriec)/len(seriec)"
      ]
    },
    {
      "cell_type": "code",
      "execution_count": null,
      "metadata": {
        "id": "74GxO1ZiRaTi"
      },
      "outputs": [],
      "source": [
        "seriec.mean()"
      ]
    }
  ],
  "metadata": {
    "colab": {
      "provenance": [],
      "include_colab_link": true
    },
    "kernelspec": {
      "display_name": "Python 3 (ipykernel)",
      "language": "python",
      "name": "python3"
    },
    "language_info": {
      "codemirror_mode": {
        "name": "ipython",
        "version": 3
      },
      "file_extension": ".py",
      "mimetype": "text/x-python",
      "name": "python",
      "nbconvert_exporter": "python",
      "pygments_lexer": "ipython3",
      "version": "3.9.12"
    }
  },
  "nbformat": 4,
  "nbformat_minor": 0
}