{
  "cells": [
    {
      "cell_type": "markdown",
      "metadata": {
        "id": "view-in-github",
        "colab_type": "text"
      },
      "source": [
        "<a href=\"https://colab.research.google.com/github/RafaelCaballero/Julio24/blob/main/code/proyecto2.ipynb\" target=\"_parent\"><img src=\"https://colab.research.google.com/assets/colab-badge.svg\" alt=\"Open In Colab\"/></a>"
      ]
    },
    {
      "cell_type": "markdown",
      "metadata": {
        "id": "Cr7nj8tx_npp"
      },
      "source": [
        "# Introducción a la ciencia de datos con Python\n",
        "###  Rafa Caballero\n",
        "\n",
        "\n",
        "\n",
        "### Proyecto 2\n",
        "\n",
        "Vamos a jugar un poco con los arrays en NumPy"
      ]
    },
    {
      "cell_type": "markdown",
      "metadata": {
        "id": "-rNm5K_2_npw"
      },
      "source": [
        "#### Carga de datos\n",
        "\n",
        "Ejecutar el siguiente código (no necesitamos entenderlo, pero lo haremos en breve)"
      ]
    },
    {
      "cell_type": "code",
      "execution_count": 1,
      "metadata": {
        "id": "zeb-B6mo_npx"
      },
      "outputs": [],
      "source": [
        "import pandas as pd\n",
        "import numpy as np\n",
        "df = pd.read_csv(\"https://raw.githubusercontent.com/hadley/data-baby-names/master/baby-names.csv\")\n",
        "\n",
        "nombresSerie = df.name\n",
        "nombres = df.name.values\n",
        "sexo = df.sex.values\n",
        "año = df.year.values"
      ]
    },
    {
      "cell_type": "markdown",
      "metadata": {
        "id": "IxoJK1RI_npz"
      },
      "source": [
        "Solo debemos saber que:\n",
        "\n",
        "`nombresSerie` representa los nombres de niños incluyendo un índice con la posición (hay 258000 niños, aunque los nombres se repiten, lógicamente)"
      ]
    },
    {
      "cell_type": "code",
      "execution_count": null,
      "metadata": {
        "id": "M_-PS05n_np0"
      },
      "outputs": [],
      "source": [
        "nombresSerie"
      ]
    },
    {
      "cell_type": "markdown",
      "metadata": {
        "id": "W6uOiV5E_np2"
      },
      "source": [
        "`nombres`, `sexo`, `año` son los nombres, sexo, y año de nacimiento de los niños, cada uno como un array numpy"
      ]
    },
    {
      "cell_type": "code",
      "execution_count": null,
      "metadata": {
        "id": "aE8itUek_np2"
      },
      "outputs": [],
      "source": [
        "nombres"
      ]
    },
    {
      "cell_type": "code",
      "execution_count": null,
      "metadata": {
        "id": "dGhMZLwO_np3"
      },
      "outputs": [],
      "source": [
        "sexo"
      ]
    },
    {
      "cell_type": "code",
      "execution_count": null,
      "metadata": {
        "id": "hHcV22Qx_np4"
      },
      "outputs": [],
      "source": [
        "año"
      ]
    },
    {
      "cell_type": "markdown",
      "metadata": {
        "id": "HlsbfLUP_np4"
      },
      "source": [
        "**Pregunta 1**  Escribe código para determinar cuántos niños (sexo 'boy') hay"
      ]
    },
    {
      "cell_type": "code",
      "execution_count": null,
      "metadata": {
        "id": "wqMI9Lsl_np5"
      },
      "outputs": [],
      "source": [
        "## Solución\n"
      ]
    },
    {
      "cell_type": "markdown",
      "metadata": {
        "id": "V04Gy1hk_np5"
      },
      "source": [
        "**Pregunta 2** Escribe código para determinar cuántos nacidos con posterioridad al año 2000 (es decir del año 2001 inclusive en adelante)"
      ]
    },
    {
      "cell_type": "code",
      "execution_count": null,
      "metadata": {
        "id": "g7oBK97R_np6"
      },
      "outputs": [],
      "source": [
        "## Solución\n"
      ]
    },
    {
      "cell_type": "markdown",
      "metadata": {
        "id": "QRTUaK3x_np6"
      },
      "source": [
        "**Pregunta 3**  Escribe código para determinar cuántos nacidos con posterioridad al año 2000 y que sean niñas 'girl'"
      ]
    },
    {
      "cell_type": "code",
      "execution_count": null,
      "metadata": {
        "id": "6kqjfLdC_np7"
      },
      "outputs": [],
      "source": [
        "## Solución\n"
      ]
    },
    {
      "cell_type": "markdown",
      "metadata": {
        "id": "-EzpGtkJ_np8"
      },
      "source": [
        "**Pregunta 4**\n",
        "\n",
        "Crear un nuevo ndarray (array de numpy) `nombresB` que sea igual que `nombres` salvo porque el nombre `George` ha sido sustituido por `Bertoldo`"
      ]
    },
    {
      "cell_type": "code",
      "execution_count": null,
      "metadata": {
        "id": "Q4WuEEoD_np8"
      },
      "outputs": [],
      "source": [
        "# Solución\n"
      ]
    },
    {
      "cell_type": "code",
      "execution_count": null,
      "metadata": {
        "id": "Eyoar8Or_np9"
      },
      "outputs": [],
      "source": [
        "# para probar el ejercicio; no modificar este código; deben salir 205\n",
        "print((nombresB==\"Bertoldo\").sum())"
      ]
    },
    {
      "cell_type": "markdown",
      "metadata": {
        "id": "PwUvnS5B_np_"
      },
      "source": [
        "**Pregunta 5**\n",
        "Dentro de `muestra` queremos averiguar cuántos chicas tienen nombre que acaba con `a`. Para contar el número de nombres que acaban con 'a' podemos utilizar la función de `Series` [str.endswith](https://pandas.pydata.org/docs/reference/api/pandas.Series.str.endswith.html). Usando esta función calcular el número de elementos de `muestra`que acaban en 'a'. Dejar el resultado (un número) en la variable `numas`"
      ]
    },
    {
      "cell_type": "code",
      "execution_count": null,
      "metadata": {
        "id": "J02uyEhD_nqA"
      },
      "outputs": [],
      "source": [
        "# Solución\n",
        "\n",
        "\n",
        "# no tocar esto, es para ver el resultado. Eso sí, intentad entender el código.\n",
        "print(\"Proporción de nombres que acaban en 'a'\", numas/len(muestra))"
      ]
    }
  ],
  "metadata": {
    "kernelspec": {
      "display_name": "Python 3",
      "language": "python",
      "name": "python3"
    },
    "language_info": {
      "codemirror_mode": {
        "name": "ipython",
        "version": 3
      },
      "file_extension": ".py",
      "mimetype": "text/x-python",
      "name": "python",
      "nbconvert_exporter": "python",
      "pygments_lexer": "ipython3",
      "version": "3.8.5"
    },
    "colab": {
      "provenance": [],
      "include_colab_link": true
    }
  },
  "nbformat": 4,
  "nbformat_minor": 0
}