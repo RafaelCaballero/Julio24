{
  "cells": [
    {
      "cell_type": "markdown",
      "metadata": {
        "id": "view-in-github",
        "colab_type": "text"
      },
      "source": [
        "<a href=\"https://colab.research.google.com/github/RafaelCaballero/Julio24/blob/main/code/25bayes.ipynb\" target=\"_parent\"><img src=\"https://colab.research.google.com/assets/colab-badge.svg\" alt=\"Open In Colab\"/></a>"
      ]
    },
    {
      "cell_type": "markdown",
      "metadata": {
        "id": "KQFEgyYMF1mu"
      },
      "source": [
        "# Introducción a la ciencia de datos con Python\n",
        "Rafa Caballero\n",
        "\n",
        "\n",
        "## Naïve Bayes\n",
        "\n",
        "Tenemos datos sobre mails y sobre si son o no SPAM (obtenidos de [aquí](https://www.codingninjas.com/codestudio/library/bernoulli-naive-bayes) )"
      ]
    },
    {
      "cell_type": "code",
      "execution_count": null,
      "metadata": {
        "id": "BYkPo4SAF1mv"
      },
      "outputs": [],
      "source": [
        "import pandas as pd\n",
        "import numpy as np\n",
        "import seaborn as sns\n",
        "from matplotlib import pyplot as plt\n",
        "from sklearn.naive_bayes import BernoulliNB\n",
        "from sklearn.feature_extraction.text import CountVectorizer\n",
        "import warnings\n",
        "warnings.filterwarnings(\"ignore\")\n",
        "import matplotlib.pyplot as plt\n",
        "plt.style.use('seaborn-whitegrid')\n",
        "\n",
        "\n",
        "#### Carga y preprocesado\n",
        "path = \"https://raw.githubusercontent.com/amankharwal/SMS-Spam-Detection/master/spam.csv\"\n",
        "#path = \"c:/hlocal/tdm/movimiento.csv\"\n",
        "df = pd.read_csv(path,encoding=\"latin1\").drop(['Unnamed: 2', 'Unnamed: 3', 'Unnamed: 4'], axis=1)\n",
        "df"
      ]
    },
    {
      "cell_type": "markdown",
      "metadata": {
        "id": "83Pk4EneF1mv"
      },
      "source": [
        "**Ejercicio** ¿cuántos valores diferentes tiene la columna class?"
      ]
    },
    {
      "cell_type": "code",
      "execution_count": null,
      "metadata": {
        "id": "PGIcuu61F1mv"
      },
      "outputs": [],
      "source": []
    },
    {
      "cell_type": "markdown",
      "metadata": {
        "id": "09DNS7tUF1mw"
      },
      "source": [
        "Crear una nueva columna `label`que valga 1 si `class`es 'spam' y 0 en otro caso"
      ]
    },
    {
      "cell_type": "code",
      "execution_count": null,
      "metadata": {
        "id": "hY7RhvXqF1mw"
      },
      "outputs": [],
      "source": [
        "df[\"label\"]=0\n",
        "df.loc[df[\"class\"]==\"spam\",\"label\"] =1"
      ]
    },
    {
      "cell_type": "markdown",
      "metadata": {
        "id": "6GWdzhjrF1mw"
      },
      "source": [
        "Ahora quitamos las palabras comunes (stopwords), signos de puntuación, etc. Para ello utilizamos la librería `spacy`"
      ]
    },
    {
      "cell_type": "code",
      "execution_count": null,
      "metadata": {
        "id": "wb7_SWyHF1mw"
      },
      "outputs": [],
      "source": [
        "import spacy\n",
        "nlp = spacy.blank('en')\n",
        "stopwords = nlp.Defaults.stop_words\n",
        "\n",
        "l = [\" \".join([token.text.upper() for token in nlp(doc) if not token.is_stop and  token.is_alpha]) for doc in df.message]\n",
        "\n",
        "df[\"limpio\"] = l\n",
        "df.sample(20)"
      ]
    },
    {
      "cell_type": "markdown",
      "metadata": {
        "id": "u2_A0_IWF1mw"
      },
      "source": [
        "Tenemos que convertir las palabras en columnas. El método `CountVectorizer` se encarga de ello. Importante: no se trata de reemplazar cada palabra de la frase por un número, sino de crear tantas columnas como palabras haya en total"
      ]
    },
    {
      "cell_type": "code",
      "execution_count": null,
      "metadata": {
        "id": "YA_JElJ9F1mw"
      },
      "outputs": [],
      "source": [
        "frases =df[\"limpio\"].values\n",
        "y = df[\"label\"].values\n",
        "# creating count vectorizer object\n",
        "cv = CountVectorizer()\n",
        "#tranforming values\n",
        "X = cv.fit_transform(frases)\n",
        "v= X.toarray()\n",
        "#printing sparse matrix\n",
        "print(v.shape)\n",
        "v"
      ]
    },
    {
      "cell_type": "markdown",
      "source": [
        "Casi parece que solo hay 0s. Esto es porque es una matriz *dispersa*, es decir, llena de huecos (representados aquí por un 0). Pero sí que hay valores"
      ],
      "metadata": {
        "id": "vN43if1SGl2d"
      }
    },
    {
      "cell_type": "code",
      "execution_count": null,
      "metadata": {
        "id": "TgW_l8pgF1mw"
      },
      "outputs": [],
      "source": [
        "(v[1]!=0).sum()"
      ]
    },
    {
      "cell_type": "code",
      "execution_count": null,
      "metadata": {
        "id": "pRTGcgCpF1mw"
      },
      "outputs": [],
      "source": [
        "palabras = cv.get_feature_names_out()\n",
        "print(len(palabras))\n",
        "palabras[90:100]"
      ]
    },
    {
      "cell_type": "markdown",
      "metadata": {
        "id": "irBbdTrEF1mw"
      },
      "source": [
        "Ahora probamos los distintos métodos basados en Naïve Bayes"
      ]
    },
    {
      "cell_type": "code",
      "source": [
        "from sklearn.metrics import confusion_matrix, ConfusionMatrixDisplay\n",
        "from sklearn.metrics import classification_report\n",
        "from sklearn.metrics import cohen_kappa_score\n",
        "import matplotlib.pyplot as plt\n",
        "def evaluar(y_test,y_pred):\n",
        "  k =  cohen_kappa_score(y_test,y_pred)\n",
        "  print(\"kappa \",k)\n",
        "  cm = confusion_matrix(y_test, y_pred, labels=modelo.classes_)\n",
        "  disp = ConfusionMatrixDisplay(confusion_matrix=cm,\n",
        "                                display_labels=modelo.classes_)\n",
        "  disp.plot()\n",
        "\n",
        "  plt.show()\n",
        "\n",
        "  print(classification_report(y_test, y_pred))\n",
        "  return k,cm"
      ],
      "metadata": {
        "id": "KryR6VlBHDM3"
      },
      "execution_count": null,
      "outputs": []
    },
    {
      "cell_type": "code",
      "execution_count": null,
      "metadata": {
        "id": "BjcoImT8F1mx"
      },
      "outputs": [],
      "source": [
        "from sklearn.model_selection import train_test_split\n",
        "from sklearn.metrics import cohen_kappa_score\n",
        "from sklearn.metrics import confusion_matrix, ConfusionMatrixDisplay\n",
        "\n",
        "# 2 preparar train y test\n",
        "test = 0.4\n",
        "X_train, X_test, y_train, y_test = train_test_split(X, y, test_size= test)\n",
        "\n",
        "# 3 método y entrenamiento\n",
        "metodo = BernoulliNB()\n",
        "modelo = metodo.fit(X_train,y_train)\n",
        "\n",
        "# 4 evaluar\n",
        "y_pred = modelo.predict(X_test)\n",
        "evaluar(y_test,y_pred)"
      ]
    },
    {
      "cell_type": "markdown",
      "metadata": {
        "id": "dTKXC_D1F1mx"
      },
      "source": [
        "**Pregunta** En el caso del SPAM, ¿Es mejor tener una precisión alta y  un recall un poco más bajo o al revés?"
      ]
    },
    {
      "cell_type": "markdown",
      "metadata": {
        "id": "iIYLO4m2F1mx"
      },
      "source": [
        "**Ejercicio** Queremos probar a obtener el coeficiente kappa con `BernoulliNB`con `RandomOverSampler` (repitiendo los valores menos frecuentes, los del Spam) y validación cruzada\n",
        "\n",
        "Buscar al final del notebook Pipelines, copiar, pegar y hacer los cambios que correspondan"
      ]
    },
    {
      "cell_type": "code",
      "execution_count": null,
      "metadata": {
        "id": "7IttqA8VF1mx"
      },
      "outputs": [],
      "source": []
    },
    {
      "cell_type": "markdown",
      "metadata": {
        "id": "mngO1oH2F1mx"
      },
      "source": [
        "**Ejercicio** probar ahora con regresión logística"
      ]
    },
    {
      "cell_type": "code",
      "execution_count": null,
      "metadata": {
        "id": "l5wubQRhF1mx"
      },
      "outputs": [],
      "source": []
    },
    {
      "cell_type": "markdown",
      "metadata": {
        "id": "MO84yOVjF1mx"
      },
      "source": [
        "**Ejercicio** Probar con SMOTE ¿puedes explicar el resultado?"
      ]
    },
    {
      "cell_type": "code",
      "source": [],
      "metadata": {
        "id": "qPdncFtfHmps"
      },
      "execution_count": null,
      "outputs": []
    },
    {
      "cell_type": "markdown",
      "metadata": {
        "id": "dvhLP-nEF1mx"
      },
      "source": [
        "**Ejercicio** Probar con otros métodos SVM, RandomForest..."
      ]
    },
    {
      "cell_type": "code",
      "execution_count": null,
      "metadata": {
        "id": "7E0iLgDQF1mx"
      },
      "outputs": [],
      "source": []
    }
  ],
  "metadata": {
    "kernelspec": {
      "display_name": "Python 3 (ipykernel)",
      "language": "python",
      "name": "python3"
    },
    "language_info": {
      "codemirror_mode": {
        "name": "ipython",
        "version": 3
      },
      "file_extension": ".py",
      "mimetype": "text/x-python",
      "name": "python",
      "nbconvert_exporter": "python",
      "pygments_lexer": "ipython3",
      "version": "3.9.12"
    },
    "colab": {
      "provenance": [],
      "include_colab_link": true
    }
  },
  "nbformat": 4,
  "nbformat_minor": 0
}