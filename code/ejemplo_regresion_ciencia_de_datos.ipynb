{
  "nbformat": 4,
  "nbformat_minor": 0,
  "metadata": {
    "colab": {
      "provenance": [],
      "authorship_tag": "ABX9TyPbQaLsW5IXlYqQxwpX8NL5",
      "include_colab_link": true
    },
    "kernelspec": {
      "name": "python3",
      "display_name": "Python 3"
    },
    "language_info": {
      "name": "python"
    }
  },
  "cells": [
    {
      "cell_type": "markdown",
      "metadata": {
        "id": "view-in-github",
        "colab_type": "text"
      },
      "source": [
        "<a href=\"https://colab.research.google.com/github/RafaelCaballero/Julio24/blob/main/code/ejemplo_regresion_ciencia_de_datos.ipynb\" target=\"_parent\"><img src=\"https://colab.research.google.com/assets/colab-badge.svg\" alt=\"Open In Colab\"/></a>"
      ]
    },
    {
      "cell_type": "markdown",
      "source": [
        "# Introducción a la ciencia de datos con Python\n",
        "### Rafa Caballero\n",
        "\n",
        "#### Ejemplo\n",
        "\n",
        "\n",
        "# 1 Carga\n",
        "Partimos de datos de popularidad de canciones en Spotify"
      ],
      "metadata": {
        "id": "_zrCwFFCKj3r"
      }
    },
    {
      "cell_type": "code",
      "execution_count": null,
      "metadata": {
        "id": "YUsHH7i6JQu_"
      },
      "outputs": [],
      "source": [
        "import pandas as pd\n",
        "# Configuración global para evitar notación científica\n",
        "pd.set_option('display.float_format', '{:.0f}'.format)\n",
        "\n",
        "url = \"https://github.com/RafaelCaballero/Julio24/raw/main/data/spoty24.csv.zip\"\n",
        "df_raw = pd.read_csv(url,encoding=\"latin1\")\n",
        "df_raw"
      ]
    },
    {
      "cell_type": "code",
      "source": [
        "df_raw.info()"
      ],
      "metadata": {
        "id": "tZzRS8HYJuPR"
      },
      "execution_count": null,
      "outputs": []
    },
    {
      "cell_type": "markdown",
      "source": [
        "Una mala noticia: a partir de ahora Spotify dejará de dar el dato \"Spotify Streams\" (y todos los demás datos de Spotify). Queremos deducir esta columna a partir del resto (columna 'YouTube Views' en adelante), que son las que parece que sí vamos a poder seguir consiguiendo.\n",
        "\n",
        "# 2 Análisis exploratorio, preprocesado\n",
        "\n",
        "## 2.1 Selección de columnas, Tipos\n",
        " Una cosa que observamos es que los números los ha leído mal por culpa del separador \",\". Vamos a corregir esto:"
      ],
      "metadata": {
        "id": "7Thq3fq6KBRZ"
      }
    },
    {
      "cell_type": "code",
      "source": [
        "url = \"https://github.com/RafaelCaballero/Julio24/raw/main/data/spoty24.csv.zip\"\n",
        "df_raw = pd.read_csv(url,encoding=\"latin1\",thousands=\",\")\n",
        "df_raw"
      ],
      "metadata": {
        "id": "Jjh7dHvaO_Up"
      },
      "execution_count": null,
      "outputs": []
    },
    {
      "cell_type": "markdown",
      "source": [
        "Nos quedamos solo con las columnas relavantes para nuestro problema"
      ],
      "metadata": {
        "id": "qP5aGXfUPn_0"
      }
    },
    {
      "cell_type": "code",
      "source": [
        "print(df_raw.columns)\n",
        "columnas = ['Spotify Streams', 'YouTube Views', 'YouTube Likes', 'TikTok Posts',\n",
        "       'TikTok Likes', 'TikTok Views', 'YouTube Playlist Reach',\n",
        "       'Apple Music Playlist Count', 'AirPlay Spins', 'SiriusXM Spins',\n",
        "       'Deezer Playlist Count', 'Deezer Playlist Reach',\n",
        "       'Amazon Playlist Count', 'Pandora Streams', 'Pandora Track Stations',\n",
        "       'Soundcloud Streams', 'Shazam Counts',\n",
        "       'Explicit Track']\n",
        "\n",
        "df = df_raw[columnas]\n",
        "df"
      ],
      "metadata": {
        "id": "Ba-UzWqQKXer"
      },
      "execution_count": null,
      "outputs": []
    },
    {
      "cell_type": "code",
      "source": [
        "df.info()"
      ],
      "metadata": {
        "id": "BGty6KaTMl_G"
      },
      "execution_count": null,
      "outputs": []
    },
    {
      "cell_type": "markdown",
      "source": [
        "En general vemos que las columnas no son detectadas como enteros sino como float. Esto no es grave, pero puede que nos interese que aparezcan como enteros"
      ],
      "metadata": {
        "id": "8dxEmb9rMzj5"
      }
    },
    {
      "cell_type": "code",
      "source": [
        "for c in df.columns:\n",
        "  df[c] = df[c].round().astype('Int64')\n",
        "\n",
        "df.info()"
      ],
      "metadata": {
        "id": "IKki6sdSNRRZ"
      },
      "execution_count": null,
      "outputs": []
    },
    {
      "cell_type": "markdown",
      "source": [
        "## 2.2 Estadísticas básicas"
      ],
      "metadata": {
        "id": "uRCvmsawQ8Xi"
      }
    },
    {
      "cell_type": "code",
      "source": [
        "df.describe()"
      ],
      "metadata": {
        "id": "VozTLTmPN0we"
      },
      "execution_count": null,
      "outputs": []
    },
    {
      "cell_type": "markdown",
      "source": [
        "Como son tan números tan grandes, podemos dividir por 1000 la etiqueta"
      ],
      "metadata": {
        "id": "bW5Vzg4LdtC2"
      }
    },
    {
      "cell_type": "code",
      "source": [
        "df.loc[:,\"Spotify Streams\"] = df[\"Spotify Streams\"] // 1000\n",
        "df.describe()"
      ],
      "metadata": {
        "id": "1-QuyxoEdxKN"
      },
      "execution_count": null,
      "outputs": []
    },
    {
      "cell_type": "markdown",
      "source": [
        "Nulos:"
      ],
      "metadata": {
        "id": "j5lc4xs9VpyI"
      }
    },
    {
      "cell_type": "code",
      "source": [
        "df.isnull().sum()"
      ],
      "metadata": {
        "id": "qBZQb33KVq6W"
      },
      "execution_count": null,
      "outputs": []
    },
    {
      "cell_type": "code",
      "source": [
        "import missingno as msno\n",
        "msno.bar(df)"
      ],
      "metadata": {
        "id": "-rQcSISVV7Ty"
      },
      "execution_count": null,
      "outputs": []
    },
    {
      "cell_type": "code",
      "source": [
        "msno.matrix(df)"
      ],
      "metadata": {
        "id": "UZvVgqrYV-r6"
      },
      "execution_count": null,
      "outputs": []
    },
    {
      "cell_type": "code",
      "source": [
        "msno.heatmap(df)"
      ],
      "metadata": {
        "id": "1ZYBkJUcWBqj"
      },
      "execution_count": null,
      "outputs": []
    },
    {
      "cell_type": "markdown",
      "source": [
        "Una decisión discutible, pero para hacer pruebas rápidas:\n",
        "\n",
        "- Quitar primero las columnas  Soundcloud Streams  y SiriusXM Spins\n",
        "\n",
        "- Después quitar nulos en general\n",
        "\n",
        "Sin embargo lo posponemos al final"
      ],
      "metadata": {
        "id": "yqwVUzswWbJ8"
      }
    },
    {
      "cell_type": "markdown",
      "source": [
        "Histogramas sencillos:\n"
      ],
      "metadata": {
        "id": "apvs7DRQSAvf"
      }
    },
    {
      "cell_type": "code",
      "source": [
        "import matplotlib.pyplot as plt\n",
        "\n",
        "for c in df.columns:\n",
        "  df[c].hist(bins=50)\n",
        "  plt.title(c)\n",
        "  plt.show()\n"
      ],
      "metadata": {
        "id": "XMwSp48BRM5z"
      },
      "execution_count": null,
      "outputs": []
    },
    {
      "cell_type": "markdown",
      "source": [
        "Son las llamadas gráfilas \"libres de escala\" o \"lognormal\"; si esasí se deberían ver similares a normales al poner una escala logarítmica en el eje x. Por fortuna la librería seaborn ya hace eso:"
      ],
      "metadata": {
        "id": "FZskkxEpSQox"
      }
    },
    {
      "cell_type": "code",
      "source": [
        "import seaborn as sns\n",
        "\n",
        "for c in df.columns[:-1]: # quito la col \"explicit\"\n",
        "  sns.histplot(df[c], bins=50, log_scale=True)\n",
        "  plt.title(c)\n",
        "  plt.show()"
      ],
      "metadata": {
        "id": "x9EDNcnATjhe"
      },
      "execution_count": null,
      "outputs": []
    },
    {
      "cell_type": "markdown",
      "source": [
        "Las cols playlist count no parecen lognormal, el resto sí. Una característica de estos valores es que cualquier valor alto se considera outlier:\n",
        "\n"
      ],
      "metadata": {
        "id": "lzQJKTwkUCNZ"
      }
    },
    {
      "cell_type": "code",
      "source": [
        "import matplotlib.pyplot as plt\n",
        "\n",
        "for c in df.columns:\n",
        "  plt.boxplot(df[c].dropna())\n",
        "  plt.title(c)\n",
        "  plt.show()"
      ],
      "metadata": {
        "id": "-YuwmxuDUWdX"
      },
      "execution_count": null,
      "outputs": []
    },
    {
      "cell_type": "markdown",
      "source": [
        "Correlaciones"
      ],
      "metadata": {
        "id": "2QGtqOlnXDRg"
      }
    },
    {
      "cell_type": "code",
      "source": [
        "import seaborn as sns\n",
        "import matplotlib.pyplot as plt\n",
        "\n",
        "g = sns.clustermap(df.corr(),\n",
        "                   method = 'complete',\n",
        "                   cmap   = 'RdBu',\n",
        "                   annot  = True,\n",
        "                   annot_kws = {'size': 8})"
      ],
      "metadata": {
        "id": "UwoN-iBbXEiM"
      },
      "execution_count": null,
      "outputs": []
    },
    {
      "cell_type": "markdown",
      "source": [
        "Parece que sí hay cierta correlación, la regresión lineal podría valer\n",
        "\n",
        "Ahora sí quitamos los nulos, y repetimos correlaciones por ver si cambia muy drásticamente"
      ],
      "metadata": {
        "id": "PvKU7L0ZX8WN"
      }
    },
    {
      "cell_type": "code",
      "source": [
        "df2 = df.drop(columns=[\"Soundcloud Streams\",\"SiriusXM Spins\"]).dropna().reset_index(drop=True)\n",
        "g = sns.clustermap(df2.corr(),\n",
        "                   method = 'complete',\n",
        "                   cmap   = 'RdBu',\n",
        "                   annot  = True,\n",
        "                   annot_kws = {'size': 8})"
      ],
      "metadata": {
        "id": "i-TNtVDKYTlV"
      },
      "execution_count": null,
      "outputs": []
    },
    {
      "cell_type": "markdown",
      "source": [
        "# 3 Machine Learning"
      ],
      "metadata": {
        "id": "7SZLjskCYqW_"
      }
    },
    {
      "cell_type": "code",
      "source": [
        "yColumn = \"Spotify Streams\"\n",
        "XColumns = [ c for c in df2.columns if c!=yColumn] # todas menos la etiqueta\n",
        "\n",
        "X = df2[XColumns]\n",
        "y = df2[yColumn]"
      ],
      "metadata": {
        "id": "7_YzlJ3vY9mp"
      },
      "execution_count": null,
      "outputs": []
    },
    {
      "cell_type": "code",
      "source": [
        "import math\n",
        "from  sklearn.model_selection import cross_val_score\n",
        "\n",
        "from sklearn.model_selection import KFold\n",
        "from sklearn.metrics import make_scorer\n",
        "from sklearn.metrics import mean_squared_error\n",
        "from sklearn.model_selection import RepeatedKFold\n",
        "\n",
        "from sklearn.linear_model import LinearRegression\n",
        "\n",
        "\n",
        "\n",
        "\n",
        "repite = RepeatedKFold(n_splits=20, n_repeats=10)\n",
        "scorer = make_scorer(mean_squared_error)\n",
        "\n",
        "metodo = LinearRegression()\n",
        "\n",
        "res = cross_val_score(metodo,X,y,scoring=scorer,cv=repite)\n",
        "RMSE = math.sqrt(res.mean())\n",
        "print(RMSE)"
      ],
      "metadata": {
        "id": "5ycRvIgQYtC4"
      },
      "execution_count": null,
      "outputs": []
    },
    {
      "cell_type": "code",
      "source": [
        "from sklearn.ensemble import  RandomForestRegressor\n",
        "metodo = RandomForestRegressor() # RandomForestRegressor\n",
        "\n",
        "repite = RepeatedKFold(n_splits=20, n_repeats=2)\n",
        "res = cross_val_score(metodo,X,y,scoring=scorer,cv=repite)\n",
        "RMSE = math.sqrt(res.mean())\n",
        "print(RMSE)"
      ],
      "metadata": {
        "id": "pXDIuC0vcI0Q"
      },
      "execution_count": null,
      "outputs": []
    },
    {
      "cell_type": "code",
      "source": [
        "from sklearn.ensemble import GradientBoostingRegressor\n",
        "metodo = GradientBoostingRegressor()\n",
        "\n",
        "res = cross_val_score(metodo,X,y,scoring=scorer,cv=repite)\n",
        "RMSE = math.sqrt(res.mean())\n",
        "print(RMSE)"
      ],
      "metadata": {
        "id": "YHu-LQ_ycT0Q"
      },
      "execution_count": null,
      "outputs": []
    },
    {
      "cell_type": "code",
      "source": [
        "from sklearn.ensemble import AdaBoostRegressor\n",
        "metodo = AdaBoostRegressor()\n",
        "res = cross_val_score(metodo,X,y,scoring=scorer,cv=repite)\n",
        "RMSE = math.sqrt(res.mean())\n",
        "print(RMSE)"
      ],
      "metadata": {
        "id": "XB7UQH64dda2"
      },
      "execution_count": null,
      "outputs": []
    },
    {
      "cell_type": "code",
      "source": [
        "from sklearn.model_selection import cross_val_predict\n",
        "metodo = LinearRegression()\n",
        "\n",
        "y_pred = cross_val_predict(metodo, X, y, cv=len(X))"
      ],
      "metadata": {
        "id": "y6c2nEd1aCDf"
      },
      "execution_count": null,
      "outputs": []
    },
    {
      "cell_type": "code",
      "source": [
        "import matplotlib.pyplot as plt\n",
        "\n",
        "\n",
        "x = range(len(y))\n",
        "fig, ax = plt.subplots(figsize=(200, 5))\n",
        "ci = 1.96*RMSE\n",
        "for i in range(len(y_pred)):\n",
        "    plt.plot([x[i],x[i]], [y_pred[i],y[i]],color=\"blue\",alpha=.4)\n",
        "ax.fill_between(x, ( y_pred-ci), ( y_pred+ci), color='b', alpha=.1)\n",
        "ax.scatter(x,y_pred,color=\"red\",s=8,label=\"predicho\")\n",
        "ax.scatter(x,y,color=\"green\",s=8,label=\"real\")\n",
        "plt.legend()\n",
        "plt.show()\n",
        "fig.savefig(\"predicciones.pdf\",dpi=300)"
      ],
      "metadata": {
        "id": "RgVUaECnaGRP"
      },
      "execution_count": null,
      "outputs": []
    },
    {
      "cell_type": "code",
      "source": [
        "y"
      ],
      "metadata": {
        "id": "JjKIOrkWatzT"
      },
      "execution_count": null,
      "outputs": []
    }
  ]
}