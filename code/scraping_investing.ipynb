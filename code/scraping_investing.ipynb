{
 "cells": [
  {
   "cell_type": "markdown",
   "metadata": {
    "id": "t3mPSm4W-xRT"
   },
   "source": [
    "# Web Scraping con Python\n",
    "\n",
    "Este script muestra algunas posibilidades de la biblioteca *Selenium* que nos permite obtener, automáticamente, datos de páginas web dinámicas, es decir que necesitan pulsar botones, etc, etc.\n",
    "\n",
    "Selenium está pensado realmente para automatizar pruebas de entornos web, pero a nosotros nos servirá para nuestro propósito de hacer web scraping.\n",
    "\n",
    "En particular, lo que vamos a hacer es arrancar google Chrome y manejarlo automáticamente desde Python.\n",
    "\n",
    "Para ello necesitamos 3 cosas:\n",
    "\n",
    "1.- Tener google Chrome\n",
    "\n",
    "2.- Instalar la biblioteca selenium\n",
    "\n",
    "3.- Tener un fichero controlador, para uso utilizaremos la librería chromedriver_autoinstaller\n",
    "\n"
   ]
  },
  {
   "cell_type": "markdown",
   "metadata": {
    "id": "x0AKhkh4-xRa"
   },
   "source": [
    "Empezamos asegurarnos de que Selenium está instalado"
   ]
  },
  {
   "cell_type": "code",
   "execution_count": 1,
   "metadata": {
    "colab": {
     "base_uri": "https://localhost:8080/"
    },
    "id": "AbmLSr6Q-xRb",
    "outputId": "52e0c0c7-e218-49df-dbd5-e446675627f5"
   },
   "outputs": [
    {
     "name": "stdout",
     "output_type": "stream",
     "text": [
      "Instalando módulos\n",
      "selenium  encontrado\n",
      "chromedriver_autoinstaller  encontrado\n",
      "¡Terminado!\n"
     ]
    }
   ],
   "source": [
    "modules = [\"selenium\",\"chromedriver_autoinstaller\"]\n",
    "\n",
    "\n",
    "import sys\n",
    "import os.path\n",
    "from subprocess import check_call\n",
    "import importlib\n",
    "import os\n",
    "\n",
    "def instala(modules):\n",
    "    print(\"Instalando módulos\")\n",
    "    for m in modules:\n",
    "        # para el import quitamos [...] y ==...\n",
    "        p = m.find(\"[\")\n",
    "        mi = m if p==-1 else m[:p]\n",
    "        p = mi.find(\"==\")\n",
    "        mi = mi if p==-1 else mi[:p]\n",
    "        torch_loader = importlib.util.find_spec(mi)\n",
    "        if torch_loader is not None:\n",
    "            print(m,\" encontrado\")\n",
    "        else:\n",
    "            print(m,\" No encontrado, instalando...\",end=\"\")  \n",
    "            try:        \n",
    "                r = check_call([sys.executable, \"-m\", \"pip\", \"install\", \"--user\",  m])\n",
    "                print(\"¡hecho!\")\n",
    "            except:\n",
    "                print(\"¡Problema al instalar \",m,\"! ¿seguro que el módulo existe?\",sep=\"\")\n",
    "\n",
    "    print(\"¡Terminado!\")\n",
    "\n",
    "instala(modules)  "
   ]
  },
  {
   "cell_type": "markdown",
   "metadata": {
    "id": "aNYxKlmy-xRe"
   },
   "source": [
    "\n",
    "Ahora abrimos el navegador"
   ]
  },
  {
   "cell_type": "code",
   "execution_count": 2,
   "metadata": {
    "colab": {
     "base_uri": "https://localhost:8080/"
    },
    "id": "640iwJu4C8Gx",
    "outputId": "3e896755-8384-4ce4-9971-05f7051934e3"
   },
   "outputs": [],
   "source": [
    "\n",
    "import sys\n",
    "\n",
    "import time\n",
    "import pandas as pd\n",
    "from bs4 import BeautifulSoup\n",
    "from selenium import webdriver\n",
    "import chromedriver_autoinstaller\n",
    "\n",
    "# setup chrome options\n",
    "chrome_options = webdriver.ChromeOptions()\n",
    "#chrome_options.add_argument('--headless') # ensure GUI is off\n",
    "#chrome_options.add_argument('--no-sandbox')\n",
    "#chrome_options.add_argument('--disable-dev-shm-usage')\n",
    "\n",
    "# set path to chromedriver as per your configuration\n",
    "chromedriver_autoinstaller.install()\n",
    "\n",
    "\n",
    "# set up the webdriver\n",
    "driver = webdriver.Chrome(options=chrome_options)"
   ]
  },
  {
   "cell_type": "markdown",
   "metadata": {},
   "source": [
    "# Banco de Santander"
   ]
  },
  {
   "cell_type": "code",
   "execution_count": 4,
   "metadata": {
    "id": "nyKn_uRA-xRg"
   },
   "outputs": [],
   "source": [
    "url = 'https://www.investing.com/equities/banco-santander'\n",
    "driver.get(url)\n",
    "\n"
   ]
  },
  {
   "cell_type": "markdown",
   "metadata": {
    "id": "15572M_c-xRg"
   },
   "source": [
    "Simulamos un click en la página para aceptar las cookies\n"
   ]
  },
  {
   "cell_type": "code",
   "execution_count": 5,
   "metadata": {},
   "outputs": [
    {
     "name": "stdout",
     "output_type": "stream",
     "text": [
      "Cookies aceptadas.\n"
     ]
    }
   ],
   "source": [
    "from selenium.webdriver.common.by import By\n",
    "from selenium.webdriver.chrome.options import Options\n",
    "import time\n",
    "\n",
    "try:\n",
    "    cookies = driver.find_element(By.ID, \"onetrust-accept-btn-handler\")\n",
    "    cookies.click()\n",
    "    print(\"Cookies aceptadas.\")\n",
    "except Exception as e:\n",
    "    print(\"No se encontró el botón de aceptar cookies o ocurrió un error:\", e)\n"
   ]
  },
  {
   "cell_type": "code",
   "execution_count": 6,
   "metadata": {},
   "outputs": [],
   "source": [
    "\n",
    "try:\n",
    "    elemento = driver.find_element(By.CSS_SELECTOR, '[data-test=\"instrument-price-last\"]')\n",
    "except Exception as e:\n",
    "    print(\"No se encontró el botón de aceptar cookies o ocurrió un error:\", e)\n"
   ]
  },
  {
   "cell_type": "code",
   "execution_count": 9,
   "metadata": {},
   "outputs": [
    {
     "data": {
      "text/plain": [
       "'3.8345'"
      ]
     },
     "execution_count": 9,
     "metadata": {},
     "output_type": "execute_result"
    }
   ],
   "source": [
    "elemento.text"
   ]
  },
  {
   "cell_type": "markdown",
   "metadata": {},
   "source": [
    "Obtenemos el elemento que incluye toda la tabla"
   ]
  },
  {
   "cell_type": "code",
   "execution_count": 10,
   "metadata": {},
   "outputs": [],
   "source": [
    "try:\n",
    "    tabla = driver.find_element(By.CSS_SELECTOR, '[data-test=\"key-info\"]')\n",
    "except Exception as e:\n",
    "    print(\"No se encontró el elemento tabla\", e)"
   ]
  },
  {
   "cell_type": "code",
   "execution_count": 11,
   "metadata": {},
   "outputs": [
    {
     "data": {
      "text/plain": [
       "\"Prev. Close\\n3.8345\\nOpen\\n3.8305\\nDay's Range\\n3.7915-3.848\\n52 wk Range\\n2.942-3.9695\\nVolume\\n22,389,316\\nAverage Vol. (3m)\\n33,798,965\\n1-Year Change\\n8.93%\\nShares Outstanding\\n15,814,437,167\\nFair Value\\nUnlock\\nDividends Payment\\nStreak\\nUnlock\\nMarket Cap\\n60.64B\\nRevenue\\n44.76B\\nP/E Ratio\\n5.90\\nEPS\\n0.65\\nDividend (Yield)\\n0.0656\\n(1.71%)\\nBeta\\n1.34\\nNext Earnings Date\\nApr 30, 2024\\nBook Value / Share\\nUnlock\\nEV/EBITDA\\nUnlock\\nISIN\\nES0113900J37\""
      ]
     },
     "execution_count": 11,
     "metadata": {},
     "output_type": "execute_result"
    }
   ],
   "source": [
    "tabla.text"
   ]
  },
  {
   "cell_type": "code",
   "execution_count": 15,
   "metadata": {},
   "outputs": [],
   "source": [
    "try:\n",
    "    clase = \"key-info_dd-numeric__ZQFIs\"\n",
    "    els = tabla.find_elements(By.CLASS_NAME, clase)\n",
    "except Exception as e:\n",
    "    print(\"No se encontró el elemento:\", e)\n",
    "        "
   ]
  },
  {
   "cell_type": "code",
   "execution_count": 16,
   "metadata": {},
   "outputs": [
    {
     "data": {
      "text/plain": [
       "[<selenium.webdriver.remote.webelement.WebElement (session=\"feb7c52af742044e592b176b4d87fc5f\", element=\"BFB1B80842EB6DD2CFD2922DF53DEA6D_element_7291\")>,\n",
       " <selenium.webdriver.remote.webelement.WebElement (session=\"feb7c52af742044e592b176b4d87fc5f\", element=\"BFB1B80842EB6DD2CFD2922DF53DEA6D_element_7294\")>,\n",
       " <selenium.webdriver.remote.webelement.WebElement (session=\"feb7c52af742044e592b176b4d87fc5f\", element=\"BFB1B80842EB6DD2CFD2922DF53DEA6D_element_7295\")>,\n",
       " <selenium.webdriver.remote.webelement.WebElement (session=\"feb7c52af742044e592b176b4d87fc5f\", element=\"BFB1B80842EB6DD2CFD2922DF53DEA6D_element_7296\")>,\n",
       " <selenium.webdriver.remote.webelement.WebElement (session=\"feb7c52af742044e592b176b4d87fc5f\", element=\"BFB1B80842EB6DD2CFD2922DF53DEA6D_element_7297\")>,\n",
       " <selenium.webdriver.remote.webelement.WebElement (session=\"feb7c52af742044e592b176b4d87fc5f\", element=\"BFB1B80842EB6DD2CFD2922DF53DEA6D_element_7298\")>,\n",
       " <selenium.webdriver.remote.webelement.WebElement (session=\"feb7c52af742044e592b176b4d87fc5f\", element=\"BFB1B80842EB6DD2CFD2922DF53DEA6D_element_7299\")>,\n",
       " <selenium.webdriver.remote.webelement.WebElement (session=\"feb7c52af742044e592b176b4d87fc5f\", element=\"BFB1B80842EB6DD2CFD2922DF53DEA6D_element_7300\")>,\n",
       " <selenium.webdriver.remote.webelement.WebElement (session=\"feb7c52af742044e592b176b4d87fc5f\", element=\"BFB1B80842EB6DD2CFD2922DF53DEA6D_element_7301\")>,\n",
       " <selenium.webdriver.remote.webelement.WebElement (session=\"feb7c52af742044e592b176b4d87fc5f\", element=\"BFB1B80842EB6DD2CFD2922DF53DEA6D_element_7302\")>,\n",
       " <selenium.webdriver.remote.webelement.WebElement (session=\"feb7c52af742044e592b176b4d87fc5f\", element=\"BFB1B80842EB6DD2CFD2922DF53DEA6D_element_7303\")>,\n",
       " <selenium.webdriver.remote.webelement.WebElement (session=\"feb7c52af742044e592b176b4d87fc5f\", element=\"BFB1B80842EB6DD2CFD2922DF53DEA6D_element_7304\")>,\n",
       " <selenium.webdriver.remote.webelement.WebElement (session=\"feb7c52af742044e592b176b4d87fc5f\", element=\"BFB1B80842EB6DD2CFD2922DF53DEA6D_element_7305\")>,\n",
       " <selenium.webdriver.remote.webelement.WebElement (session=\"feb7c52af742044e592b176b4d87fc5f\", element=\"BFB1B80842EB6DD2CFD2922DF53DEA6D_element_7306\")>,\n",
       " <selenium.webdriver.remote.webelement.WebElement (session=\"feb7c52af742044e592b176b4d87fc5f\", element=\"BFB1B80842EB6DD2CFD2922DF53DEA6D_element_7307\")>,\n",
       " <selenium.webdriver.remote.webelement.WebElement (session=\"feb7c52af742044e592b176b4d87fc5f\", element=\"BFB1B80842EB6DD2CFD2922DF53DEA6D_element_7308\")>,\n",
       " <selenium.webdriver.remote.webelement.WebElement (session=\"feb7c52af742044e592b176b4d87fc5f\", element=\"BFB1B80842EB6DD2CFD2922DF53DEA6D_element_7309\")>]"
      ]
     },
     "execution_count": 16,
     "metadata": {},
     "output_type": "execute_result"
    }
   ],
   "source": [
    "els"
   ]
  },
  {
   "cell_type": "code",
   "execution_count": 14,
   "metadata": {},
   "outputs": [
    {
     "name": "stdout",
     "output_type": "stream",
     "text": [
      "a\n",
      "b\n",
      "c\n"
     ]
    }
   ],
   "source": [
    "el = els[0]\n",
    "print(el)\n",
    "\n",
    "el=els[1]\n",
    "print(el)\n",
    "\n",
    "el=els[2]\n",
    "print(el)"
   ]
  },
  {
   "cell_type": "code",
   "execution_count": 18,
   "metadata": {},
   "outputs": [
    {
     "data": {
      "text/plain": [
       "(17,\n",
       " ['3.8345',\n",
       "  '3.8305',\n",
       "  '3.7915',\n",
       "  '3.848',\n",
       "  '2.942',\n",
       "  '3.9695',\n",
       "  '22,389,316',\n",
       "  '33,798,965',\n",
       "  '8.93%',\n",
       "  '15,814,437,167',\n",
       "  '60.64B',\n",
       "  '44.76B',\n",
       "  '5.90',\n",
       "  '0.65',\n",
       "  '0.0656',\n",
       "  '1.71%',\n",
       "  '1.34'])"
      ]
     },
     "execution_count": 18,
     "metadata": {},
     "output_type": "execute_result"
    }
   ],
   "source": [
    "valores = []\n",
    "for el in els:\n",
    "    valores.append(el.text) # lo añadimos a la lista\n",
    "len(valores),valores    "
   ]
  },
  {
   "cell_type": "markdown",
   "metadata": {},
   "source": [
    "Ahora los nombres de los datos "
   ]
  },
  {
   "cell_type": "code",
   "execution_count": 19,
   "metadata": {},
   "outputs": [
    {
     "data": {
      "text/html": [
       "<div>\n",
       "<style scoped>\n",
       "    .dataframe tbody tr th:only-of-type {\n",
       "        vertical-align: middle;\n",
       "    }\n",
       "\n",
       "    .dataframe tbody tr th {\n",
       "        vertical-align: top;\n",
       "    }\n",
       "\n",
       "    .dataframe thead th {\n",
       "        text-align: right;\n",
       "    }\n",
       "</style>\n",
       "<table border=\"1\" class=\"dataframe\">\n",
       "  <thead>\n",
       "    <tr style=\"text-align: right;\">\n",
       "      <th></th>\n",
       "      <th>Prev. Close</th>\n",
       "      <th>Open</th>\n",
       "      <th>Day's Range 1</th>\n",
       "      <th>Day's Range 2</th>\n",
       "      <th>52 wk Range 1</th>\n",
       "      <th>52 wk Range 2</th>\n",
       "      <th>Volume</th>\n",
       "      <th>Average Vol. (3m)</th>\n",
       "      <th>1-Year Change</th>\n",
       "      <th>Shares Outstanding</th>\n",
       "      <th>Market Cap</th>\n",
       "      <th>Revenue</th>\n",
       "      <th>P/E Ratio</th>\n",
       "      <th>EPS</th>\n",
       "      <th>Dividend (Yield) 1</th>\n",
       "      <th>Dividend (Yield) 2</th>\n",
       "      <th>Beta</th>\n",
       "    </tr>\n",
       "  </thead>\n",
       "  <tbody>\n",
       "    <tr>\n",
       "      <th>0</th>\n",
       "      <td>3.8345</td>\n",
       "      <td>3.8305</td>\n",
       "      <td>3.7915</td>\n",
       "      <td>3.848</td>\n",
       "      <td>2.942</td>\n",
       "      <td>3.9695</td>\n",
       "      <td>22,389,316</td>\n",
       "      <td>33,798,965</td>\n",
       "      <td>8.93%</td>\n",
       "      <td>15,814,437,167</td>\n",
       "      <td>60.64B</td>\n",
       "      <td>44.76B</td>\n",
       "      <td>5.90</td>\n",
       "      <td>0.65</td>\n",
       "      <td>0.0656</td>\n",
       "      <td>1.71%</td>\n",
       "      <td>1.34</td>\n",
       "    </tr>\n",
       "  </tbody>\n",
       "</table>\n",
       "</div>"
      ],
      "text/plain": [
       "  Prev. Close    Open Day's Range 1 Day's Range 2 52 wk Range 1 52 wk Range 2  \\\n",
       "0      3.8345  3.8305        3.7915         3.848         2.942        3.9695   \n",
       "\n",
       "       Volume Average Vol. (3m) 1-Year Change Shares Outstanding Market Cap  \\\n",
       "0  22,389,316        33,798,965         8.93%     15,814,437,167     60.64B   \n",
       "\n",
       "  Revenue P/E Ratio   EPS Dividend (Yield) 1 Dividend (Yield) 2  Beta  \n",
       "0  44.76B      5.90  0.65             0.0656              1.71%  1.34  "
      ]
     },
     "execution_count": 19,
     "metadata": {},
     "output_type": "execute_result"
    }
   ],
   "source": [
    "nombres = ['Prev. Close',\n",
    "  'Open',\n",
    "  \"Day's Range 1\",\n",
    "  \"Day's Range 2\",\n",
    "  '52 wk Range 1',\n",
    "  '52 wk Range 2',\n",
    "  'Volume',\n",
    "  'Average Vol. (3m)',\n",
    "  '1-Year Change',\n",
    "  'Shares Outstanding',\n",
    "  'Market Cap',\n",
    "  'Revenue',\n",
    "  'P/E Ratio',\n",
    "  'EPS',\n",
    "  'Dividend (Yield) 1',\n",
    "  'Dividend (Yield) 2',\n",
    "  'Beta']\n",
    "    \n",
    "import pandas as pd\n",
    "df = pd.DataFrame([valores], columns=nombres)\n",
    "df"
   ]
  },
  {
   "cell_type": "code",
   "execution_count": 20,
   "metadata": {},
   "outputs": [],
   "source": [
    "df.to_excel(\"santander.xlsx\", index=False)\n",
    "driver.close()"
   ]
  },
  {
   "cell_type": "markdown",
   "metadata": {},
   "source": [
    "### IBEX \n"
   ]
  },
  {
   "cell_type": "code",
   "execution_count": 21,
   "metadata": {},
   "outputs": [],
   "source": [
    "\n",
    "# setup chrome options\n",
    "chrome_options = webdriver.ChromeOptions()\n",
    "#chrome_options.add_argument('--headless') # ensure GUI is off\n",
    "#chrome_options.add_argument('--no-sandbox')\n",
    "#chrome_options.add_argument('--disable-dev-shm-usage')\n",
    "\n",
    "# set path to chromedriver as per your configuration\n",
    "chromedriver_autoinstaller.install()\n",
    "\n",
    "\n",
    "# set up the webdriver\n",
    "driver = webdriver.Chrome(options=chrome_options)\n",
    "\n",
    "url = 'https://es.investing.com/indices/spain-35'\n",
    "driver.get(url)\n",
    "          "
   ]
  },
  {
   "cell_type": "code",
   "execution_count": 22,
   "metadata": {
    "colab": {
     "base_uri": "https://localhost:8080/"
    },
    "id": "zfqQoT_d-xRh",
    "outputId": "150ed46f-388b-4067-82e2-7794028f7f81"
   },
   "outputs": [
    {
     "name": "stdout",
     "output_type": "stream",
     "text": [
      "Tabla seleccionada\n"
     ]
    }
   ],
   "source": [
    "\n",
    "try:\n",
    "    elemento = driver.find_element(By.CSS_SELECTOR, '[data-test=\"most-active-stocks-table\"]')\n",
    "    table = elemento.find_element(By.TAG_NAME, \"table\")\n",
    "    print(\"Tabla seleccionada\")\n",
    "except Exception as e:\n",
    "    print(\"No se encontró el elemento:\", e)\n",
    "            "
   ]
  },
  {
   "cell_type": "markdown",
   "metadata": {
    "id": "i8YpXpyY-xRi"
   },
   "source": [
    "Vamos fila a fila"
   ]
  },
  {
   "cell_type": "code",
   "execution_count": 23,
   "metadata": {
    "id": "00TfeTGK-xRi"
   },
   "outputs": [
    {
     "name": "stdout",
     "output_type": "stream",
     "text": [
      "6\n"
     ]
    }
   ],
   "source": [
    "\n",
    "try:\n",
    "    filas = table.find_elements(By.TAG_NAME, \"tr\") # elements porque hay más de 1\n",
    "    print(len(filas))\n",
    "except Exception as e:\n",
    "    print(\"No se encontró el elemento:\", e)"
   ]
  },
  {
   "cell_type": "markdown",
   "metadata": {},
   "source": [
    "Cabeceras"
   ]
  },
  {
   "cell_type": "code",
   "execution_count": 25,
   "metadata": {},
   "outputs": [
    {
     "data": {
      "text/plain": [
       "(10,\n",
       " ['Nombre',\n",
       "  'Último',\n",
       "  'Anterior',\n",
       "  'Máximo',\n",
       "  'Mínimo',\n",
       "  '% Var.',\n",
       "  'Vol.',\n",
       "  'Hora',\n",
       "  '',\n",
       "  ''])"
      ]
     },
     "execution_count": 25,
     "metadata": {},
     "output_type": "execute_result"
    }
   ],
   "source": [
    "cabecera_els = filas[0].find_elements(By.TAG_NAME, \"th\")\n",
    "cabecera = []\n",
    "for cab in cabecera_els:\n",
    "    cabecera.append(cab.text)\n",
    "len(cabecera),cabecera    "
   ]
  },
  {
   "cell_type": "markdown",
   "metadata": {},
   "source": [
    "Echamos un vistazo a las filas 1 a 1"
   ]
  },
  {
   "cell_type": "code",
   "execution_count": 26,
   "metadata": {},
   "outputs": [
    {
     "name": "stdout",
     "output_type": "stream",
     "text": [
      "Fila  0 Columnas  9\n",
      "Columna  0 SAN\n",
      "Banco Santander S.A.\n",
      "Columna  1 3,8345\n",
      "Columna  2 38.345,00\n",
      "Columna  3 3,848\n",
      "Columna  4 3,7915\n",
      "Columna  5 -0,12%\n",
      "Columna  6 22,39M\n",
      "Columna  7 \n",
      "Columna  8 23/02\n",
      "====================================================================================================\n",
      "Fila  1 Columnas  9\n",
      "Columna  0 SABE\n",
      "Banco de Sabadell SA\n",
      "Columna  1 1,1935\n",
      "Columna  2 11.935,00\n",
      "Columna  3 1,2005\n",
      "Columna  4 1,1785\n",
      "Columna  5 +0,25%\n",
      "Columna  6 13,66M\n",
      "Columna  7 \n",
      "Columna  8 23/02\n",
      "====================================================================================================\n",
      "Fila  2 Columnas  9\n",
      "Columna  0 ICAG\n",
      "International Consolidated Airlines Group S.A.\n",
      "Columna  1 1,784\n",
      "Columna  2 1,784\n",
      "Columna  3 1,794\n",
      "Columna  4 1,75\n",
      "Columna  5 -0,70%\n",
      "Columna  6 9,37M\n",
      "Columna  7 \n",
      "Columna  8 23/02\n",
      "====================================================================================================\n",
      "Fila  3 Columnas  9\n",
      "Columna  0 IBE\n",
      "Iberdrola S.A.\n",
      "Columna  1 10,63\n",
      "Columna  2 10,63\n",
      "Columna  3 10,735\n",
      "Columna  4 10,57\n",
      "Columna  5 -1,12%\n",
      "Columna  6 9,1M\n",
      "Columna  7 \n",
      "Columna  8 23/02\n",
      "====================================================================================================\n",
      "Fila  4 Columnas  9\n",
      "Columna  0 TEF\n",
      "Telefónica S.A.\n",
      "Columna  1 3,776\n",
      "Columna  2 37.760,00\n",
      "Columna  3 3,776\n",
      "Columna  4 3,71\n",
      "Columna  5 +0,88%\n",
      "Columna  6 8,53M\n",
      "Columna  7 \n",
      "Columna  8 23/02\n",
      "====================================================================================================\n"
     ]
    }
   ],
   "source": [
    "tabla = []\n",
    "for i,fila in enumerate(filas[1:]):\n",
    "    print(\"Fila \",i,end=\" \")\n",
    "    fdatos = []\n",
    "    try:\n",
    "        cols = fila.find_elements(By.TAG_NAME, \"td\") # elements porque hay más de 1\n",
    "        print(\"Columnas \",len(cols))\n",
    "        for j,col in enumerate(cols):\n",
    "            print(\"Columna \",j,col.text)\n",
    "            fdatos.append(col.text)\n",
    "    except Exception as e:\n",
    "        print(\"No se encontró el elemento:\", e)\n",
    "    tabla.append(fdatos)\n",
    "    print(\"=\"*100)"
   ]
  },
  {
   "cell_type": "code",
   "execution_count": 27,
   "metadata": {},
   "outputs": [
    {
     "data": {
      "text/plain": [
       "[['SAN\\nBanco Santander S.A.',\n",
       "  '3,8345',\n",
       "  '38.345,00',\n",
       "  '3,848',\n",
       "  '3,7915',\n",
       "  '-0,12%',\n",
       "  '22,39M',\n",
       "  '',\n",
       "  '23/02'],\n",
       " ['SABE\\nBanco de Sabadell SA',\n",
       "  '1,1935',\n",
       "  '11.935,00',\n",
       "  '1,2005',\n",
       "  '1,1785',\n",
       "  '+0,25%',\n",
       "  '13,66M',\n",
       "  '',\n",
       "  '23/02'],\n",
       " ['ICAG\\nInternational Consolidated Airlines Group S.A.',\n",
       "  '1,784',\n",
       "  '1,784',\n",
       "  '1,794',\n",
       "  '1,75',\n",
       "  '-0,70%',\n",
       "  '9,37M',\n",
       "  '',\n",
       "  '23/02'],\n",
       " ['IBE\\nIberdrola S.A.',\n",
       "  '10,63',\n",
       "  '10,63',\n",
       "  '10,735',\n",
       "  '10,57',\n",
       "  '-1,12%',\n",
       "  '9,1M',\n",
       "  '',\n",
       "  '23/02'],\n",
       " ['TEF\\nTelefónica S.A.',\n",
       "  '3,776',\n",
       "  '37.760,00',\n",
       "  '3,776',\n",
       "  '3,71',\n",
       "  '+0,88%',\n",
       "  '8,53M',\n",
       "  '',\n",
       "  '23/02']]"
      ]
     },
     "execution_count": 27,
     "metadata": {},
     "output_type": "execute_result"
    }
   ],
   "source": [
    "tabla"
   ]
  },
  {
   "cell_type": "code",
   "execution_count": 28,
   "metadata": {},
   "outputs": [],
   "source": [
    "columnas = ['Nombre',\n",
    "  'Último',\n",
    "  'Anterior',\n",
    "  'Máximo',\n",
    "  'Mínimo',\n",
    "  '% Var.',\n",
    "  'Vol.',\n",
    "  'Abreviatura',          \n",
    "  'Hora' ]"
   ]
  },
  {
   "cell_type": "markdown",
   "metadata": {
    "id": "EqrZ7U0w-xRj"
   },
   "source": [
    "Convertimos en un dataframe"
   ]
  },
  {
   "cell_type": "code",
   "execution_count": 32,
   "metadata": {
    "id": "1rsxNqaM-xRj"
   },
   "outputs": [
    {
     "data": {
      "text/html": [
       "<div>\n",
       "<style scoped>\n",
       "    .dataframe tbody tr th:only-of-type {\n",
       "        vertical-align: middle;\n",
       "    }\n",
       "\n",
       "    .dataframe tbody tr th {\n",
       "        vertical-align: top;\n",
       "    }\n",
       "\n",
       "    .dataframe thead th {\n",
       "        text-align: right;\n",
       "    }\n",
       "</style>\n",
       "<table border=\"1\" class=\"dataframe\">\n",
       "  <thead>\n",
       "    <tr style=\"text-align: right;\">\n",
       "      <th></th>\n",
       "      <th>Nombre</th>\n",
       "      <th>Último</th>\n",
       "      <th>Anterior</th>\n",
       "      <th>Máximo</th>\n",
       "      <th>Mínimo</th>\n",
       "      <th>% Var.</th>\n",
       "      <th>Vol.</th>\n",
       "      <th>Abreviatura</th>\n",
       "      <th>Hora</th>\n",
       "    </tr>\n",
       "  </thead>\n",
       "  <tbody>\n",
       "    <tr>\n",
       "      <th>0</th>\n",
       "      <td>SAN\\nBanco Santander S.A.</td>\n",
       "      <td>3,8345</td>\n",
       "      <td>38.345,00</td>\n",
       "      <td>3,848</td>\n",
       "      <td>3,7915</td>\n",
       "      <td>-0,12%</td>\n",
       "      <td>22,39M</td>\n",
       "      <td></td>\n",
       "      <td>23/02</td>\n",
       "    </tr>\n",
       "    <tr>\n",
       "      <th>1</th>\n",
       "      <td>SABE\\nBanco de Sabadell SA</td>\n",
       "      <td>1,1935</td>\n",
       "      <td>11.935,00</td>\n",
       "      <td>1,2005</td>\n",
       "      <td>1,1785</td>\n",
       "      <td>+0,25%</td>\n",
       "      <td>13,66M</td>\n",
       "      <td></td>\n",
       "      <td>23/02</td>\n",
       "    </tr>\n",
       "    <tr>\n",
       "      <th>2</th>\n",
       "      <td>ICAG\\nInternational Consolidated Airlines Grou...</td>\n",
       "      <td>1,784</td>\n",
       "      <td>1,784</td>\n",
       "      <td>1,794</td>\n",
       "      <td>1,75</td>\n",
       "      <td>-0,70%</td>\n",
       "      <td>9,37M</td>\n",
       "      <td></td>\n",
       "      <td>23/02</td>\n",
       "    </tr>\n",
       "    <tr>\n",
       "      <th>3</th>\n",
       "      <td>IBE\\nIberdrola S.A.</td>\n",
       "      <td>10,63</td>\n",
       "      <td>10,63</td>\n",
       "      <td>10,735</td>\n",
       "      <td>10,57</td>\n",
       "      <td>-1,12%</td>\n",
       "      <td>9,1M</td>\n",
       "      <td></td>\n",
       "      <td>23/02</td>\n",
       "    </tr>\n",
       "    <tr>\n",
       "      <th>4</th>\n",
       "      <td>TEF\\nTelefónica S.A.</td>\n",
       "      <td>3,776</td>\n",
       "      <td>37.760,00</td>\n",
       "      <td>3,776</td>\n",
       "      <td>3,71</td>\n",
       "      <td>+0,88%</td>\n",
       "      <td>8,53M</td>\n",
       "      <td></td>\n",
       "      <td>23/02</td>\n",
       "    </tr>\n",
       "  </tbody>\n",
       "</table>\n",
       "</div>"
      ],
      "text/plain": [
       "                                              Nombre  Último   Anterior  \\\n",
       "0                          SAN\\nBanco Santander S.A.  3,8345  38.345,00   \n",
       "1                         SABE\\nBanco de Sabadell SA  1,1935  11.935,00   \n",
       "2  ICAG\\nInternational Consolidated Airlines Grou...   1,784      1,784   \n",
       "3                                IBE\\nIberdrola S.A.   10,63      10,63   \n",
       "4                               TEF\\nTelefónica S.A.   3,776  37.760,00   \n",
       "\n",
       "   Máximo  Mínimo  % Var.    Vol. Abreviatura   Hora  \n",
       "0   3,848  3,7915  -0,12%  22,39M              23/02  \n",
       "1  1,2005  1,1785  +0,25%  13,66M              23/02  \n",
       "2   1,794    1,75  -0,70%   9,37M              23/02  \n",
       "3  10,735   10,57  -1,12%    9,1M              23/02  \n",
       "4   3,776    3,71  +0,88%   8,53M              23/02  "
      ]
     },
     "execution_count": 32,
     "metadata": {},
     "output_type": "execute_result"
    }
   ],
   "source": [
    "df = pd.DataFrame(tabla,columns = columnas)\n",
    "\n",
    "df"
   ]
  },
  {
   "cell_type": "code",
   "execution_count": 33,
   "metadata": {
    "colab": {
     "base_uri": "https://localhost:8080/"
    },
    "id": "P-TdE-gS-xRk",
    "outputId": "72bc4662-df8e-4c5c-aa5c-bf9f153e8ddc"
   },
   "outputs": [
    {
     "data": {
      "text/html": [
       "<div>\n",
       "<style scoped>\n",
       "    .dataframe tbody tr th:only-of-type {\n",
       "        vertical-align: middle;\n",
       "    }\n",
       "\n",
       "    .dataframe tbody tr th {\n",
       "        vertical-align: top;\n",
       "    }\n",
       "\n",
       "    .dataframe thead th {\n",
       "        text-align: right;\n",
       "    }\n",
       "</style>\n",
       "<table border=\"1\" class=\"dataframe\">\n",
       "  <thead>\n",
       "    <tr style=\"text-align: right;\">\n",
       "      <th></th>\n",
       "      <th>Nombre</th>\n",
       "      <th>Último</th>\n",
       "      <th>Anterior</th>\n",
       "      <th>Máximo</th>\n",
       "      <th>Mínimo</th>\n",
       "      <th>% Var.</th>\n",
       "      <th>Vol.</th>\n",
       "      <th>Abreviatura</th>\n",
       "      <th>Hora</th>\n",
       "    </tr>\n",
       "  </thead>\n",
       "  <tbody>\n",
       "    <tr>\n",
       "      <th>0</th>\n",
       "      <td>Banco Santander S.A.</td>\n",
       "      <td>3,8345</td>\n",
       "      <td>38.345,00</td>\n",
       "      <td>3,848</td>\n",
       "      <td>3,7915</td>\n",
       "      <td>-0,12%</td>\n",
       "      <td>22,39M</td>\n",
       "      <td>SAN</td>\n",
       "      <td>23/02</td>\n",
       "    </tr>\n",
       "    <tr>\n",
       "      <th>1</th>\n",
       "      <td>Banco de Sabadell SA</td>\n",
       "      <td>1,1935</td>\n",
       "      <td>11.935,00</td>\n",
       "      <td>1,2005</td>\n",
       "      <td>1,1785</td>\n",
       "      <td>+0,25%</td>\n",
       "      <td>13,66M</td>\n",
       "      <td>SABE</td>\n",
       "      <td>23/02</td>\n",
       "    </tr>\n",
       "    <tr>\n",
       "      <th>2</th>\n",
       "      <td>International Consolidated Airlines Group S.A.</td>\n",
       "      <td>1,784</td>\n",
       "      <td>1,784</td>\n",
       "      <td>1,794</td>\n",
       "      <td>1,75</td>\n",
       "      <td>-0,70%</td>\n",
       "      <td>9,37M</td>\n",
       "      <td>ICAG</td>\n",
       "      <td>23/02</td>\n",
       "    </tr>\n",
       "    <tr>\n",
       "      <th>3</th>\n",
       "      <td>Iberdrola S.A.</td>\n",
       "      <td>10,63</td>\n",
       "      <td>10,63</td>\n",
       "      <td>10,735</td>\n",
       "      <td>10,57</td>\n",
       "      <td>-1,12%</td>\n",
       "      <td>9,1M</td>\n",
       "      <td>IBE</td>\n",
       "      <td>23/02</td>\n",
       "    </tr>\n",
       "    <tr>\n",
       "      <th>4</th>\n",
       "      <td>Telefónica S.A.</td>\n",
       "      <td>3,776</td>\n",
       "      <td>37.760,00</td>\n",
       "      <td>3,776</td>\n",
       "      <td>3,71</td>\n",
       "      <td>+0,88%</td>\n",
       "      <td>8,53M</td>\n",
       "      <td>TEF</td>\n",
       "      <td>23/02</td>\n",
       "    </tr>\n",
       "  </tbody>\n",
       "</table>\n",
       "</div>"
      ],
      "text/plain": [
       "                                           Nombre  Último   Anterior  Máximo  \\\n",
       "0                            Banco Santander S.A.  3,8345  38.345,00   3,848   \n",
       "1                            Banco de Sabadell SA  1,1935  11.935,00  1,2005   \n",
       "2  International Consolidated Airlines Group S.A.   1,784      1,784   1,794   \n",
       "3                                  Iberdrola S.A.   10,63      10,63  10,735   \n",
       "4                                 Telefónica S.A.   3,776  37.760,00   3,776   \n",
       "\n",
       "   Mínimo  % Var.    Vol. Abreviatura   Hora  \n",
       "0  3,7915  -0,12%  22,39M         SAN  23/02  \n",
       "1  1,1785  +0,25%  13,66M        SABE  23/02  \n",
       "2    1,75  -0,70%   9,37M        ICAG  23/02  \n",
       "3   10,57  -1,12%    9,1M         IBE  23/02  \n",
       "4    3,71  +0,88%   8,53M         TEF  23/02  "
      ]
     },
     "execution_count": 33,
     "metadata": {},
     "output_type": "execute_result"
    }
   ],
   "source": [
    "df[[\"Abreviatura\",\"Nombre\"]] = df['Nombre'].str.split('\\n', expand=True)\n",
    "df"
   ]
  },
  {
   "cell_type": "code",
   "execution_count": 34,
   "metadata": {
    "id": "sSAHw9VE-xSn"
   },
   "outputs": [],
   "source": [
    "df.to_excel(\"activos.xlsx\",index=False)"
   ]
  },
  {
   "cell_type": "code",
   "execution_count": null,
   "metadata": {
    "id": "QJFuEYxT-xSn"
   },
   "outputs": [],
   "source": []
  },
  {
   "cell_type": "code",
   "execution_count": null,
   "metadata": {
    "id": "LpwrWkDk-xSn"
   },
   "outputs": [],
   "source": []
  }
 ],
 "metadata": {
  "colab": {
   "provenance": []
  },
  "kernelspec": {
   "display_name": "Python 3 (ipykernel)",
   "language": "python",
   "name": "python3"
  },
  "language_info": {
   "codemirror_mode": {
    "name": "ipython",
    "version": 3
   },
   "file_extension": ".py",
   "mimetype": "text/x-python",
   "name": "python",
   "nbconvert_exporter": "python",
   "pygments_lexer": "ipython3",
   "version": "3.10.9"
  }
 },
 "nbformat": 4,
 "nbformat_minor": 4
}
