{
  "cells": [
    {
      "cell_type": "markdown",
      "metadata": {
        "id": "view-in-github",
        "colab_type": "text"
      },
      "source": [
        "<a href=\"https://colab.research.google.com/github/RafaelCaballero/Julio24/blob/main/31PCA2.ipynb\" target=\"_parent\"><img src=\"https://colab.research.google.com/assets/colab-badge.svg\" alt=\"Open In Colab\"/></a>"
      ]
    },
    {
      "cell_type": "markdown",
      "id": "b05d4e08",
      "metadata": {
        "id": "b05d4e08"
      },
      "source": [
        "# Introducción a la ciencia de datos con Python\n",
        "Rafa Caballero\n",
        "\n",
        "\n",
        "##### PCA como mejora del rendimiento\n",
        "\n",
        "Vamos a ver la potencia de PCA para mejorar modelos en modelos con muchas columnas. En este caso se trata de imágenes de 6 tipos de objetos."
      ]
    },
    {
      "cell_type": "code",
      "execution_count": null,
      "id": "05a45be3",
      "metadata": {
        "id": "05a45be3"
      },
      "outputs": [],
      "source": [
        "from keras.datasets import cifar10\n",
        "(x_train, y_train), (x_test, y_test) = cifar10.load_data()"
      ]
    },
    {
      "cell_type": "code",
      "execution_count": null,
      "id": "d3c214d3",
      "metadata": {
        "id": "d3c214d3"
      },
      "outputs": [],
      "source": [
        "#import numpy as np\n",
        "#x_train = np.concatenate( [x_train,x_test],axis=0)\n",
        "#y_train = np.concatenate( [y_train,y_test],axis=0)"
      ]
    },
    {
      "cell_type": "code",
      "execution_count": null,
      "id": "994f505b",
      "metadata": {
        "id": "994f505b"
      },
      "outputs": [],
      "source": [
        "import numpy as np\n",
        "classes = np.unique(y_train)\n",
        "nClasses = len(classes)\n",
        "print('Total number of outputs : ', nClasses)\n",
        "print('Output classes : ', classes)"
      ]
    },
    {
      "cell_type": "markdown",
      "id": "29a32137",
      "metadata": {
        "id": "29a32137"
      },
      "source": [
        "Para relacionar etiquetas con objetos"
      ]
    },
    {
      "cell_type": "code",
      "execution_count": null,
      "id": "1289a8c2",
      "metadata": {
        "id": "1289a8c2"
      },
      "outputs": [],
      "source": [
        "label_dict = {\n",
        " 0: 'airplane',\n",
        " 1: 'automobile',\n",
        " 2: 'bird',\n",
        " 3: 'cat',\n",
        " 4: 'deer',\n",
        " 5: 'dog',\n",
        " 6: 'frog',\n",
        " 7: 'horse',\n",
        " 8: 'ship',\n",
        " 9: 'truck',\n",
        "}"
      ]
    },
    {
      "cell_type": "markdown",
      "id": "f22be919",
      "metadata": {
        "id": "f22be919"
      },
      "source": [
        "Una imagen al azar..."
      ]
    },
    {
      "cell_type": "code",
      "execution_count": null,
      "id": "372069ee",
      "metadata": {
        "id": "372069ee"
      },
      "outputs": [],
      "source": [
        "import random\n",
        "import matplotlib.pyplot as plt\n",
        "%matplotlib inline\n",
        "fig, ax = plt.subplots(figsize=(10, 5))\n",
        "\n",
        "i = random.randint(0,len(x_train))\n",
        "curr_img = np.reshape(x_train[i], (32,32,3))\n",
        "ax.imshow(curr_img)\n",
        "plt.title(\"(Label: \" + str(label_dict[y_train[i][0]]) + \")\")\n",
        "plt.show()\n",
        "\n"
      ]
    },
    {
      "cell_type": "markdown",
      "id": "17218e20",
      "metadata": {
        "id": "17218e20"
      },
      "source": [
        "Convertimos en Dataframe"
      ]
    },
    {
      "cell_type": "code",
      "execution_count": null,
      "id": "96bbbd42",
      "metadata": {
        "id": "96bbbd42"
      },
      "outputs": [],
      "source": [
        "import pandas as pd\n",
        "x_train_flat = x_train.reshape(-1,3072)\n",
        "feat_cols = ['pixel'+str(i) for i in range(x_train_flat.shape[1])]\n",
        "df_cifar = pd.DataFrame(x_train_flat,columns=feat_cols)\n",
        "df_cifar['label'] = y_train\n",
        "df_cifar"
      ]
    },
    {
      "cell_type": "markdown",
      "id": "3b0c6539",
      "metadata": {
        "id": "3b0c6539"
      },
      "source": [
        "Tenemos 3073 columnas. Vamos a dejarlo en solo unas pocas"
      ]
    },
    {
      "cell_type": "code",
      "execution_count": null,
      "id": "0e4db238",
      "metadata": {
        "id": "0e4db238"
      },
      "outputs": [],
      "source": [
        "from sklearn.decomposition  import PCA\n",
        "k=15\n",
        "pca_cifar = PCA(n_components=k)\n",
        "principalComponents_cifar = pca_cifar.fit_transform(df_cifar.iloc[:,:-1])\n",
        "principal_cifar_Df = pd.DataFrame(data = principalComponents_cifar\n",
        "             , columns = ['pc_'+str(i) for i in range(1,k+1)])\n",
        "principal_cifar_Df['y'] = y_train\n",
        "principal_cifar_Df"
      ]
    },
    {
      "cell_type": "code",
      "execution_count": null,
      "id": "91d389e8",
      "metadata": {
        "id": "91d389e8"
      },
      "outputs": [],
      "source": [
        "df_cifar.info()"
      ]
    },
    {
      "cell_type": "code",
      "execution_count": null,
      "id": "97f988ab",
      "metadata": {
        "id": "97f988ab"
      },
      "outputs": [],
      "source": [
        "principal_cifar_Df.info()"
      ]
    },
    {
      "cell_type": "markdown",
      "id": "792df25d",
      "metadata": {
        "id": "792df25d"
      },
      "source": [
        "Una representación gráfica sencilla de las dos componentes principales"
      ]
    },
    {
      "cell_type": "code",
      "execution_count": null,
      "id": "2cf66554",
      "metadata": {
        "id": "2cf66554"
      },
      "outputs": [],
      "source": [
        "import seaborn as sns\n",
        "plt.figure(figsize=(16,10))\n",
        "sns.scatterplot(\n",
        "    x=\"pc_1\", y=\"pc_2\",\n",
        "    hue=\"y\",\n",
        "    palette=sns.color_palette(\"hls\", 10),\n",
        "    data=principal_cifar_Df,\n",
        "    legend=\"full\",\n",
        "    alpha=0.8\n",
        ")"
      ]
    },
    {
      "cell_type": "code",
      "execution_count": null,
      "id": "d0319692",
      "metadata": {
        "id": "d0319692"
      },
      "outputs": [],
      "source": [
        "!pip install ipython-autotime\n",
        "%load_ext autotime"
      ]
    },
    {
      "cell_type": "markdown",
      "id": "7352a85f",
      "metadata": {
        "id": "7352a85f"
      },
      "source": [
        "Prueba sin PCA"
      ]
    },
    {
      "cell_type": "code",
      "execution_count": null,
      "id": "9023c3a8",
      "metadata": {
        "id": "9023c3a8"
      },
      "outputs": [],
      "source": [
        "from sklearn.pipeline import Pipeline\n",
        "from sklearn.model_selection import RepeatedKFold, cross_val_score\n",
        "from sklearn.metrics import mean_absolute_error, make_scorer\n",
        "from sklearn.naive_bayes import GaussianNB\n",
        "from sklearn.metrics import cohen_kappa_score\n",
        "\n",
        "df_aux = df_cifar\n",
        "yColumn=\"label\"\n",
        "XColumns=[c for c in df_aux.columns if c!=yColumn]\n",
        "X= df_aux[XColumns]\n",
        "y=df_aux[yColumn]\n",
        "\n",
        "steps = [ (\"GaussianNB\",GaussianNB())]\n",
        "#steps = [ (\"LinearRegression\",LinearRegression())]\n",
        "pipeline = Pipeline(steps)\n",
        "scorer = make_scorer(cohen_kappa_score)\n",
        "\n",
        "cv = RepeatedKFold(n_splits=10, n_repeats=1)\n",
        "scores = cross_val_score(pipeline, X, y, scoring=scorer, cv=cv)\n",
        "scores.mean()"
      ]
    },
    {
      "cell_type": "markdown",
      "id": "6bae7e7b",
      "metadata": {
        "id": "6bae7e7b"
      },
      "source": [
        "Ahora con PCA"
      ]
    },
    {
      "cell_type": "code",
      "execution_count": null,
      "id": "8249b1cd",
      "metadata": {
        "id": "8249b1cd"
      },
      "outputs": [],
      "source": [
        "df_aux = principal_cifar_Df\n",
        "yColumn=\"y\"\n",
        "XColumns=[c for c in df_aux.columns if c!=yColumn]\n",
        "X= df_aux[XColumns]\n",
        "y=df_aux[yColumn]\n",
        "\n",
        "steps = [ (\"GaussianNB\",GaussianNB())]\n",
        "#steps = [ (\"LinearRegression\",LinearRegression())]\n",
        "pipeline = Pipeline(steps)\n",
        "scorer = make_scorer(cohen_kappa_score)\n",
        "\n",
        "cv = RepeatedKFold(n_splits=10, n_repeats=1)\n",
        "scores = cross_val_score(pipeline, X, y, scoring=scorer, cv=cv)\n",
        "scores.mean()"
      ]
    },
    {
      "cell_type": "markdown",
      "id": "ebd75ec3",
      "metadata": {
        "id": "ebd75ec3"
      },
      "source": [
        "Es un poco de trampa, habría que meter PCA en el pipeline ¿por qué?"
      ]
    },
    {
      "cell_type": "code",
      "execution_count": null,
      "id": "5bce3b48",
      "metadata": {
        "id": "5bce3b48"
      },
      "outputs": [],
      "source": [
        "from sklearn.model_selection import RepeatedKFold, cross_val_score\n",
        "from sklearn.metrics import mean_absolute_error, make_scorer\n",
        "from sklearn.naive_bayes import GaussianNB\n",
        "from sklearn.metrics import cohen_kappa_score\n",
        "\n",
        "df_aux = df_cifar\n",
        "yColumn=\"label\"\n",
        "XColumns=[c for c in df_aux.columns if c!=yColumn]\n",
        "X= df_aux[XColumns]\n",
        "y=df_aux[yColumn]\n",
        "\n",
        "steps = [ (\"PCA\",PCA(n_components=10)),(\"GaussianNB\",GaussianNB())]\n",
        "#steps = [ (\"LinearRegression\",LinearRegression())]\n",
        "pipeline = Pipeline(steps)\n",
        "scorer = make_scorer(cohen_kappa_score)\n",
        "\n",
        "cv = RepeatedKFold(n_splits=10, n_repeats=1)\n",
        "scores = cross_val_score(pipeline, X, y, scoring=scorer, cv=cv)\n",
        "scores.mean()"
      ]
    },
    {
      "cell_type": "code",
      "execution_count": null,
      "id": "fd51f1df",
      "metadata": {
        "id": "fd51f1df"
      },
      "outputs": [],
      "source": [
        "x_test_flat = x_test.reshape(-1,3072)\n",
        "feat_cols = ['pixel'+str(i) for i in range(x_test_flat.shape[1])]\n",
        "df_cifar_test = pd.DataFrame(x_test_flat,columns=feat_cols)\n",
        "df_cifar_test['label'] = y_test\n",
        "df_cifar_test"
      ]
    },
    {
      "cell_type": "code",
      "execution_count": null,
      "id": "d2f82e52",
      "metadata": {
        "id": "d2f82e52"
      },
      "outputs": [],
      "source": [
        "# modelo con todo\n",
        "modelo = pipeline.fit(X,y)"
      ]
    },
    {
      "cell_type": "code",
      "execution_count": null,
      "id": "5d74b0cf",
      "metadata": {
        "id": "5d74b0cf"
      },
      "outputs": [],
      "source": [
        "fig, ax = plt.subplots(figsize=(10, 5))\n",
        "\n",
        "i = random.randint(0,len(x_test))\n",
        "curr_img = np.reshape(x_test[i], (32,32,3))\n",
        "ax.imshow(curr_img)\n",
        "plt.title(\"(Label: \" + str(label_dict[y_test[i][0]]) + \")\")\n",
        "plt.show\n",
        "\n",
        "\n",
        "p = modelo.predict(df_cifar_test[XColumns].iloc[i:i+1,:])\n",
        "print(label_dict[p[0]])"
      ]
    },
    {
      "cell_type": "code",
      "execution_count": null,
      "id": "76d83697",
      "metadata": {
        "id": "76d83697"
      },
      "outputs": [],
      "source": [
        "from tqdm import trange\n",
        "aciertos=0\n",
        "N=1000\n",
        "y_real=[]\n",
        "y_pred=[]\n",
        "for _ in trange(N):\n",
        "  i = random.randint(0,len(x_test))\n",
        "  real = y_test[i][0]\n",
        "  predicho =  modelo.predict(df_cifar_test[XColumns].iloc[i:i+1,:])[0]\n",
        "  y_real.append(real)\n",
        "  y_pred.append(predicho)\n",
        "  if real==predicho:\n",
        "    aciertos +=1\n",
        "\n",
        "print()\n",
        "print(aciertos/N, 1/6)"
      ]
    },
    {
      "cell_type": "code",
      "execution_count": null,
      "id": "07yhG2Tz0TO6",
      "metadata": {
        "id": "07yhG2Tz0TO6"
      },
      "outputs": [],
      "source": [
        "from sklearn.metrics import confusion_matrix, ConfusionMatrixDisplay\n",
        "from sklearn.metrics import classification_report\n",
        "import matplotlib.pyplot as plt\n",
        "\n",
        "cm = confusion_matrix(y_real, y_pred, labels=modelo.classes_)\n",
        "disp = ConfusionMatrixDisplay(confusion_matrix=cm,\n",
        "                              display_labels=label_dict.items())\n",
        "fig, ax = plt.subplots(figsize=(20, 5))\n",
        "disp.plot(ax=ax)\n",
        "plt.xticks(rotation = 90)\n",
        "plt.show()\n",
        "\n",
        "\n",
        "print(classification_report(y_real, y_pred))"
      ]
    },
    {
      "cell_type": "code",
      "execution_count": null,
      "id": "ede93933",
      "metadata": {
        "id": "ede93933"
      },
      "outputs": [],
      "source": []
    }
  ],
  "metadata": {
    "colab": {
      "provenance": [],
      "include_colab_link": true
    },
    "kernelspec": {
      "display_name": "Python 3 (ipykernel)",
      "language": "python",
      "name": "python3"
    },
    "language_info": {
      "codemirror_mode": {
        "name": "ipython",
        "version": 3
      },
      "file_extension": ".py",
      "mimetype": "text/x-python",
      "name": "python",
      "nbconvert_exporter": "python",
      "pygments_lexer": "ipython3",
      "version": "3.9.12"
    }
  },
  "nbformat": 4,
  "nbformat_minor": 5
}